{
 "cells": [
  {
   "cell_type": "markdown",
   "metadata": {
    "pycharm": {
     "name": "#%% md\n"
    }
   },
   "source": [
    "# Uvod u Pandas\n",
    "\n",
    "Napomena: Ovi materijali su delimično bazirani na pandas tutorijalu Keith Galli-a [\"Solving real world data science tasks with Python Pandas!\"](https://github.com/KeithGalli/Pandas-Data-Science-Tasks). Takođe, dataset koji ćemo koristiti - [Sales dataset](https://github.com/KeithGalli/Pandas-Data-Science-Tasks/tree/master/SalesAnalysis/Sales_Data) - je preuzet iz pomenutog tutorijala."
   ]
  },
  {
   "metadata": {
    "pycharm": {
     "name": "#%% md\n"
    }
   },
   "cell_type": "markdown",
   "source": "## Učitavanje potrebnih biblioteka"
  },
  {
   "metadata": {
    "ExecuteTime": {
     "end_time": "2025-07-12T12:59:54.152659Z",
     "start_time": "2025-07-12T12:59:52.301617Z"
    }
   },
   "cell_type": "code",
   "source": [
    "from pathlib import Path\n",
    "\n",
    "import pandas as pd"
   ],
   "outputs": [],
   "execution_count": 1
  },
  {
   "metadata": {
    "pycharm": {
     "name": "#%% md\n"
    }
   },
   "cell_type": "markdown",
   "source": "## Učitavanje podataka i upoznavanje sa podacima o prodaji za jedan mesec"
  },
  {
   "metadata": {
    "pycharm": {
     "name": "#%% md\n"
    }
   },
   "cell_type": "markdown",
   "source": [
    "### Učitavanja podataka iz csv fajla\n",
    "\n",
    "Podaci se nalaze u 'sales_data' direktorijumu, u okviru 'data' direktorijuma.\n",
    "Prvo ćemo kreirati DATA_DIR konstantu koja će sadržati putanju do direktorijuma sa podacima"
   ]
  },
  {
   "metadata": {
    "ExecuteTime": {
     "end_time": "2025-07-12T12:59:54.165628Z",
     "start_time": "2025-07-12T12:59:54.162572Z"
    }
   },
   "cell_type": "code",
   "source": [
    "DATA_DIR = Path.cwd() / 'data/sales_data'\n",
    "print(DATA_DIR)"
   ],
   "outputs": [
    {
     "name": "stdout",
     "output_type": "stream",
     "text": [
      "/Users/jelena.jovanovic/DataspellProjects/2025v/pandas_labs/data/sales_data\n"
     ]
    }
   ],
   "execution_count": 2
  },
  {
   "metadata": {
    "pycharm": {
     "name": "#%% md\n"
    }
   },
   "cell_type": "markdown",
   "source": "Zatim ćemo učitati podatke iz 'Sales_January_2019' csv fajla:"
  },
  {
   "metadata": {
    "ExecuteTime": {
     "end_time": "2025-07-12T12:59:54.230458Z",
     "start_time": "2025-07-12T12:59:54.214685Z"
    }
   },
   "cell_type": "code",
   "source": "jan_sales = pd.read_csv(DATA_DIR / 'Sales_January_2019.csv')",
   "outputs": [],
   "execution_count": 3
  },
  {
   "metadata": {
    "pycharm": {
     "name": "#%% md\n"
    }
   },
   "cell_type": "markdown",
   "source": [
    "### Upoznavanje sa podacima\n",
    "\n",
    "Prikazati prvih 10 redova učitanog dataset-a"
   ]
  },
  {
   "metadata": {
    "ExecuteTime": {
     "end_time": "2025-07-12T12:59:54.352390Z",
     "start_time": "2025-07-12T12:59:54.344534Z"
    }
   },
   "cell_type": "code",
   "source": "jan_sales.head(10)",
   "outputs": [
    {
     "data": {
      "text/plain": [
       "  Order ID                     Product Quantity Ordered Price Each  \\\n",
       "0   141234                      iPhone                1        700   \n",
       "1   141235    Lightning Charging Cable                1      14.95   \n",
       "2   141236            Wired Headphones                2      11.99   \n",
       "3   141237            27in FHD Monitor                1     149.99   \n",
       "4   141238            Wired Headphones                1      11.99   \n",
       "5   141239      AAA Batteries (4-pack)                1       2.99   \n",
       "6   141240      27in 4K Gaming Monitor                1     389.99   \n",
       "7   141241        USB-C Charging Cable                1      11.95   \n",
       "8   141242  Bose SoundSport Headphones                1      99.99   \n",
       "9   141243    Apple Airpods Headphones                1        150   \n",
       "\n",
       "       Order Date                         Purchase Address  \n",
       "0  01/22/19 21:25          944 Walnut St, Boston, MA 02215  \n",
       "1  01/28/19 14:15         185 Maple St, Portland, OR 97035  \n",
       "2  01/17/19 13:33    538 Adams St, San Francisco, CA 94016  \n",
       "3  01/05/19 20:33       738 10th St, Los Angeles, CA 90001  \n",
       "4  01/25/19 11:59            387 10th St, Austin, TX 73301  \n",
       "5  01/29/19 20:22   775 Willow St, San Francisco, CA 94016  \n",
       "6  01/26/19 12:16       979 Park St, Los Angeles, CA 90001  \n",
       "7  01/05/19 12:04      181 6th St, San Francisco, CA 94016  \n",
       "8  01/01/19 10:30     867 Willow St, Los Angeles, CA 90001  \n",
       "9  01/22/19 21:20  657 Johnson St, San Francisco, CA 94016  "
      ],
      "text/html": [
       "<div>\n",
       "<style scoped>\n",
       "    .dataframe tbody tr th:only-of-type {\n",
       "        vertical-align: middle;\n",
       "    }\n",
       "\n",
       "    .dataframe tbody tr th {\n",
       "        vertical-align: top;\n",
       "    }\n",
       "\n",
       "    .dataframe thead th {\n",
       "        text-align: right;\n",
       "    }\n",
       "</style>\n",
       "<table border=\"1\" class=\"dataframe\">\n",
       "  <thead>\n",
       "    <tr style=\"text-align: right;\">\n",
       "      <th></th>\n",
       "      <th>Order ID</th>\n",
       "      <th>Product</th>\n",
       "      <th>Quantity Ordered</th>\n",
       "      <th>Price Each</th>\n",
       "      <th>Order Date</th>\n",
       "      <th>Purchase Address</th>\n",
       "    </tr>\n",
       "  </thead>\n",
       "  <tbody>\n",
       "    <tr>\n",
       "      <th>0</th>\n",
       "      <td>141234</td>\n",
       "      <td>iPhone</td>\n",
       "      <td>1</td>\n",
       "      <td>700</td>\n",
       "      <td>01/22/19 21:25</td>\n",
       "      <td>944 Walnut St, Boston, MA 02215</td>\n",
       "    </tr>\n",
       "    <tr>\n",
       "      <th>1</th>\n",
       "      <td>141235</td>\n",
       "      <td>Lightning Charging Cable</td>\n",
       "      <td>1</td>\n",
       "      <td>14.95</td>\n",
       "      <td>01/28/19 14:15</td>\n",
       "      <td>185 Maple St, Portland, OR 97035</td>\n",
       "    </tr>\n",
       "    <tr>\n",
       "      <th>2</th>\n",
       "      <td>141236</td>\n",
       "      <td>Wired Headphones</td>\n",
       "      <td>2</td>\n",
       "      <td>11.99</td>\n",
       "      <td>01/17/19 13:33</td>\n",
       "      <td>538 Adams St, San Francisco, CA 94016</td>\n",
       "    </tr>\n",
       "    <tr>\n",
       "      <th>3</th>\n",
       "      <td>141237</td>\n",
       "      <td>27in FHD Monitor</td>\n",
       "      <td>1</td>\n",
       "      <td>149.99</td>\n",
       "      <td>01/05/19 20:33</td>\n",
       "      <td>738 10th St, Los Angeles, CA 90001</td>\n",
       "    </tr>\n",
       "    <tr>\n",
       "      <th>4</th>\n",
       "      <td>141238</td>\n",
       "      <td>Wired Headphones</td>\n",
       "      <td>1</td>\n",
       "      <td>11.99</td>\n",
       "      <td>01/25/19 11:59</td>\n",
       "      <td>387 10th St, Austin, TX 73301</td>\n",
       "    </tr>\n",
       "    <tr>\n",
       "      <th>5</th>\n",
       "      <td>141239</td>\n",
       "      <td>AAA Batteries (4-pack)</td>\n",
       "      <td>1</td>\n",
       "      <td>2.99</td>\n",
       "      <td>01/29/19 20:22</td>\n",
       "      <td>775 Willow St, San Francisco, CA 94016</td>\n",
       "    </tr>\n",
       "    <tr>\n",
       "      <th>6</th>\n",
       "      <td>141240</td>\n",
       "      <td>27in 4K Gaming Monitor</td>\n",
       "      <td>1</td>\n",
       "      <td>389.99</td>\n",
       "      <td>01/26/19 12:16</td>\n",
       "      <td>979 Park St, Los Angeles, CA 90001</td>\n",
       "    </tr>\n",
       "    <tr>\n",
       "      <th>7</th>\n",
       "      <td>141241</td>\n",
       "      <td>USB-C Charging Cable</td>\n",
       "      <td>1</td>\n",
       "      <td>11.95</td>\n",
       "      <td>01/05/19 12:04</td>\n",
       "      <td>181 6th St, San Francisco, CA 94016</td>\n",
       "    </tr>\n",
       "    <tr>\n",
       "      <th>8</th>\n",
       "      <td>141242</td>\n",
       "      <td>Bose SoundSport Headphones</td>\n",
       "      <td>1</td>\n",
       "      <td>99.99</td>\n",
       "      <td>01/01/19 10:30</td>\n",
       "      <td>867 Willow St, Los Angeles, CA 90001</td>\n",
       "    </tr>\n",
       "    <tr>\n",
       "      <th>9</th>\n",
       "      <td>141243</td>\n",
       "      <td>Apple Airpods Headphones</td>\n",
       "      <td>1</td>\n",
       "      <td>150</td>\n",
       "      <td>01/22/19 21:20</td>\n",
       "      <td>657 Johnson St, San Francisco, CA 94016</td>\n",
       "    </tr>\n",
       "  </tbody>\n",
       "</table>\n",
       "</div>"
      ]
     },
     "execution_count": 4,
     "metadata": {},
     "output_type": "execute_result"
    }
   ],
   "execution_count": 4
  },
  {
   "cell_type": "markdown",
   "metadata": {
    "pycharm": {
     "name": "#%% md\n"
    }
   },
   "source": [
    "Utvrditi dimenzije data frame-a (broj redova i kolona)"
   ]
  },
  {
   "cell_type": "code",
   "metadata": {
    "pycharm": {
     "name": "#%%\n"
    },
    "ExecuteTime": {
     "end_time": "2025-07-12T12:59:54.412444Z",
     "start_time": "2025-07-12T12:59:54.409603Z"
    }
   },
   "source": "jan_sales.shape",
   "outputs": [
    {
     "data": {
      "text/plain": [
       "(9723, 6)"
      ]
     },
     "execution_count": 5,
     "metadata": {},
     "output_type": "execute_result"
    }
   ],
   "execution_count": 5
  },
  {
   "cell_type": "markdown",
   "metadata": {
    "pycharm": {
     "name": "#%% md\n"
    }
   },
   "source": [
    "Ispisati listu naziva kolona data frame-a"
   ]
  },
  {
   "cell_type": "code",
   "metadata": {
    "pycharm": {
     "name": "#%%\n"
    },
    "ExecuteTime": {
     "end_time": "2025-07-12T12:59:54.526463Z",
     "start_time": "2025-07-12T12:59:54.523405Z"
    }
   },
   "source": "jan_sales.columns.tolist()",
   "outputs": [
    {
     "data": {
      "text/plain": [
       "['Order ID',\n",
       " 'Product',\n",
       " 'Quantity Ordered',\n",
       " 'Price Each',\n",
       " 'Order Date',\n",
       " 'Purchase Address']"
      ]
     },
     "execution_count": 6,
     "metadata": {},
     "output_type": "execute_result"
    }
   ],
   "execution_count": 6
  },
  {
   "cell_type": "markdown",
   "metadata": {
    "pycharm": {
     "name": "#%% md\n"
    }
   },
   "source": [
    "Utvrditi tip podatka svake kolone "
   ]
  },
  {
   "cell_type": "code",
   "metadata": {
    "pycharm": {
     "name": "#%%\n"
    },
    "ExecuteTime": {
     "end_time": "2025-07-12T12:59:54.612048Z",
     "start_time": "2025-07-12T12:59:54.608974Z"
    }
   },
   "source": "jan_sales.dtypes",
   "outputs": [
    {
     "data": {
      "text/plain": [
       "Order ID            object\n",
       "Product             object\n",
       "Quantity Ordered    object\n",
       "Price Each          object\n",
       "Order Date          object\n",
       "Purchase Address    object\n",
       "dtype: object"
      ]
     },
     "execution_count": 7,
     "metadata": {},
     "output_type": "execute_result"
    }
   ],
   "execution_count": 7
  },
  {
   "cell_type": "markdown",
   "metadata": {
    "pycharm": {
     "name": "#%% md\n"
    }
   },
   "source": [
    "Lep pregled tipova podataka u pandas-u, uključujući i njihovo mapiranje na python tipove podataka, može se naći, na primer, ovde: [https://pbpython.com/pandas_dtypes.html](https://pbpython.com/pandas_dtypes.html)."
   ]
  },
  {
   "cell_type": "markdown",
   "metadata": {
    "pycharm": {
     "name": "#%% md\n"
    }
   },
   "source": [
    "Kompletan skup informacija o data frame-u:"
   ]
  },
  {
   "cell_type": "code",
   "metadata": {
    "pycharm": {
     "name": "#%%\n"
    },
    "ExecuteTime": {
     "end_time": "2025-07-12T12:59:54.717921Z",
     "start_time": "2025-07-12T12:59:54.712294Z"
    }
   },
   "source": "jan_sales.info()",
   "outputs": [
    {
     "name": "stdout",
     "output_type": "stream",
     "text": [
      "<class 'pandas.core.frame.DataFrame'>\n",
      "RangeIndex: 9723 entries, 0 to 9722\n",
      "Data columns (total 6 columns):\n",
      " #   Column            Non-Null Count  Dtype \n",
      "---  ------            --------------  ----- \n",
      " 0   Order ID          9697 non-null   object\n",
      " 1   Product           9697 non-null   object\n",
      " 2   Quantity Ordered  9697 non-null   object\n",
      " 3   Price Each        9697 non-null   object\n",
      " 4   Order Date        9697 non-null   object\n",
      " 5   Purchase Address  9697 non-null   object\n",
      "dtypes: object(6)\n",
      "memory usage: 455.9+ KB\n"
     ]
    }
   ],
   "execution_count": 8
  },
  {
   "cell_type": "markdown",
   "metadata": {
    "pycharm": {
     "name": "#%% md\n"
    }
   },
   "source": [
    "### Provera nedostajućih vrednosti\n",
    "\n",
    "Prisustvo nedostajućih vrednosti u data frame-u može se ispitati primenom `isna()` metode:"
   ]
  },
  {
   "cell_type": "code",
   "metadata": {
    "pycharm": {
     "name": "#%%\n"
    },
    "ExecuteTime": {
     "end_time": "2025-07-12T12:59:54.800601Z",
     "start_time": "2025-07-12T12:59:54.794263Z"
    }
   },
   "source": "jan_sales.isna().sum()",
   "outputs": [
    {
     "data": {
      "text/plain": [
       "Order ID            26\n",
       "Product             26\n",
       "Quantity Ordered    26\n",
       "Price Each          26\n",
       "Order Date          26\n",
       "Purchase Address    26\n",
       "dtype: int64"
      ]
     },
     "execution_count": 9,
     "metadata": {},
     "output_type": "execute_result"
    }
   ],
   "execution_count": 9
  },
  {
   "cell_type": "markdown",
   "metadata": {
    "pycharm": {
     "name": "#%% md\n"
    }
   },
   "source": [
    "#### Uklanjanje redova sa svim nedostajućim vrednostima"
   ]
  },
  {
   "cell_type": "code",
   "metadata": {
    "pycharm": {
     "name": "#%%\n"
    },
    "ExecuteTime": {
     "end_time": "2025-07-12T12:59:54.907646Z",
     "start_time": "2025-07-12T12:59:54.902843Z"
    }
   },
   "source": "jan_sales.dropna(how=\"all\", inplace=True)",
   "outputs": [],
   "execution_count": 10
  },
  {
   "cell_type": "code",
   "metadata": {
    "pycharm": {
     "name": "#%%\n"
    },
    "ExecuteTime": {
     "end_time": "2025-07-12T12:59:55.053582Z",
     "start_time": "2025-07-12T12:59:55.047811Z"
    }
   },
   "source": "jan_sales.isna().sum()",
   "outputs": [
    {
     "data": {
      "text/plain": [
       "Order ID            0\n",
       "Product             0\n",
       "Quantity Ordered    0\n",
       "Price Each          0\n",
       "Order Date          0\n",
       "Purchase Address    0\n",
       "dtype: int64"
      ]
     },
     "execution_count": 11,
     "metadata": {},
     "output_type": "execute_result"
    }
   ],
   "execution_count": 11
  },
  {
   "cell_type": "markdown",
   "metadata": {
    "pycharm": {
     "name": "#%% md\n"
    }
   },
   "source": [
    "### Selekcija pojedinačnih kolona i redova i kreiranje podskupa podataka\n",
    "\n",
    "Selekcija kolona i redova, odnosno kreiranje podskupa podataka, se može uraditi na različite načine, ali je preporučena praksa da se koriste `loc` ili `iloc` metode pandas Dataframe-a i to na sledeći način:\n",
    "\n",
    "- Kada se selekcija redova i kolona vrši izbor na osnovu njihovog rednog broja, trebalo bi koristiti `iloc`\n",
    "\n",
    "- Kada se izbor zasniva na uslovu koje redovi treba da zadovolje i/ili kolone treba izabrati na osnovu njihovih naziva, treba koristiti `loc` "
   ]
  },
  {
   "cell_type": "markdown",
   "metadata": {
    "pycharm": {
     "name": "#%% md\n"
    }
   },
   "source": [
    "**Primer 1**: selektovati prve 3 kolone i prvih 6 redova"
   ]
  },
  {
   "cell_type": "code",
   "metadata": {
    "pycharm": {
     "name": "#%%\n"
    },
    "ExecuteTime": {
     "end_time": "2025-07-12T12:59:55.124056Z",
     "start_time": "2025-07-12T12:59:55.120315Z"
    }
   },
   "source": "jan_sales.iloc[:6, :3]",
   "outputs": [
    {
     "data": {
      "text/plain": [
       "  Order ID                   Product Quantity Ordered\n",
       "0   141234                    iPhone                1\n",
       "1   141235  Lightning Charging Cable                1\n",
       "2   141236          Wired Headphones                2\n",
       "3   141237          27in FHD Monitor                1\n",
       "4   141238          Wired Headphones                1\n",
       "5   141239    AAA Batteries (4-pack)                1"
      ],
      "text/html": [
       "<div>\n",
       "<style scoped>\n",
       "    .dataframe tbody tr th:only-of-type {\n",
       "        vertical-align: middle;\n",
       "    }\n",
       "\n",
       "    .dataframe tbody tr th {\n",
       "        vertical-align: top;\n",
       "    }\n",
       "\n",
       "    .dataframe thead th {\n",
       "        text-align: right;\n",
       "    }\n",
       "</style>\n",
       "<table border=\"1\" class=\"dataframe\">\n",
       "  <thead>\n",
       "    <tr style=\"text-align: right;\">\n",
       "      <th></th>\n",
       "      <th>Order ID</th>\n",
       "      <th>Product</th>\n",
       "      <th>Quantity Ordered</th>\n",
       "    </tr>\n",
       "  </thead>\n",
       "  <tbody>\n",
       "    <tr>\n",
       "      <th>0</th>\n",
       "      <td>141234</td>\n",
       "      <td>iPhone</td>\n",
       "      <td>1</td>\n",
       "    </tr>\n",
       "    <tr>\n",
       "      <th>1</th>\n",
       "      <td>141235</td>\n",
       "      <td>Lightning Charging Cable</td>\n",
       "      <td>1</td>\n",
       "    </tr>\n",
       "    <tr>\n",
       "      <th>2</th>\n",
       "      <td>141236</td>\n",
       "      <td>Wired Headphones</td>\n",
       "      <td>2</td>\n",
       "    </tr>\n",
       "    <tr>\n",
       "      <th>3</th>\n",
       "      <td>141237</td>\n",
       "      <td>27in FHD Monitor</td>\n",
       "      <td>1</td>\n",
       "    </tr>\n",
       "    <tr>\n",
       "      <th>4</th>\n",
       "      <td>141238</td>\n",
       "      <td>Wired Headphones</td>\n",
       "      <td>1</td>\n",
       "    </tr>\n",
       "    <tr>\n",
       "      <th>5</th>\n",
       "      <td>141239</td>\n",
       "      <td>AAA Batteries (4-pack)</td>\n",
       "      <td>1</td>\n",
       "    </tr>\n",
       "  </tbody>\n",
       "</table>\n",
       "</div>"
      ]
     },
     "execution_count": 12,
     "metadata": {},
     "output_type": "execute_result"
    }
   ],
   "execution_count": 12
  },
  {
   "cell_type": "markdown",
   "metadata": {
    "pycharm": {
     "name": "#%% md\n"
    }
   },
   "source": [
    "**Primer 2**: selektovati poslednjih 5 redova i 1., 2., i 5. kolonu"
   ]
  },
  {
   "cell_type": "code",
   "metadata": {
    "pycharm": {
     "name": "#%%\n"
    },
    "ExecuteTime": {
     "end_time": "2025-07-12T12:59:55.242689Z",
     "start_time": "2025-07-12T12:59:55.238262Z"
    }
   },
   "source": "jan_sales.iloc[-5:, [0,1,4]]",
   "outputs": [
    {
     "data": {
      "text/plain": [
       "     Order ID                 Product      Order Date\n",
       "9718   150497            20in Monitor  01/26/19 19:09\n",
       "9719   150498        27in FHD Monitor  01/10/19 22:58\n",
       "9720   150499         ThinkPad Laptop  01/21/19 14:31\n",
       "9721   150500  AAA Batteries (4-pack)  01/15/19 14:21\n",
       "9722   150501            Google Phone  01/13/19 16:43"
      ],
      "text/html": [
       "<div>\n",
       "<style scoped>\n",
       "    .dataframe tbody tr th:only-of-type {\n",
       "        vertical-align: middle;\n",
       "    }\n",
       "\n",
       "    .dataframe tbody tr th {\n",
       "        vertical-align: top;\n",
       "    }\n",
       "\n",
       "    .dataframe thead th {\n",
       "        text-align: right;\n",
       "    }\n",
       "</style>\n",
       "<table border=\"1\" class=\"dataframe\">\n",
       "  <thead>\n",
       "    <tr style=\"text-align: right;\">\n",
       "      <th></th>\n",
       "      <th>Order ID</th>\n",
       "      <th>Product</th>\n",
       "      <th>Order Date</th>\n",
       "    </tr>\n",
       "  </thead>\n",
       "  <tbody>\n",
       "    <tr>\n",
       "      <th>9718</th>\n",
       "      <td>150497</td>\n",
       "      <td>20in Monitor</td>\n",
       "      <td>01/26/19 19:09</td>\n",
       "    </tr>\n",
       "    <tr>\n",
       "      <th>9719</th>\n",
       "      <td>150498</td>\n",
       "      <td>27in FHD Monitor</td>\n",
       "      <td>01/10/19 22:58</td>\n",
       "    </tr>\n",
       "    <tr>\n",
       "      <th>9720</th>\n",
       "      <td>150499</td>\n",
       "      <td>ThinkPad Laptop</td>\n",
       "      <td>01/21/19 14:31</td>\n",
       "    </tr>\n",
       "    <tr>\n",
       "      <th>9721</th>\n",
       "      <td>150500</td>\n",
       "      <td>AAA Batteries (4-pack)</td>\n",
       "      <td>01/15/19 14:21</td>\n",
       "    </tr>\n",
       "    <tr>\n",
       "      <th>9722</th>\n",
       "      <td>150501</td>\n",
       "      <td>Google Phone</td>\n",
       "      <td>01/13/19 16:43</td>\n",
       "    </tr>\n",
       "  </tbody>\n",
       "</table>\n",
       "</div>"
      ]
     },
     "execution_count": 13,
     "metadata": {},
     "output_type": "execute_result"
    }
   ],
   "execution_count": 13
  },
  {
   "cell_type": "markdown",
   "metadata": {
    "pycharm": {
     "name": "#%% md\n"
    }
   },
   "source": [
    "**Primer 3**: Selektovati kolone `Order ID`, `Order Date`, i `Purchase Address` za porudžbine iz Bostona\n",
    "\n",
    "Tip: string vrednostima kolone možemo pristupiti preko `str` polja, tako da onda možemo pozvati bilo koju string metodu nad vrednostima kolone"
   ]
  },
  {
   "cell_type": "code",
   "metadata": {
    "pycharm": {
     "name": "#%%\n"
    },
    "ExecuteTime": {
     "end_time": "2025-07-12T12:59:55.376897Z",
     "start_time": "2025-07-12T12:59:55.370730Z"
    }
   },
   "source": "jan_sales.loc[jan_sales['Purchase Address'].str.contains('Boston'), ['Order ID', 'Order Date', 'Purchase Address']]",
   "outputs": [
    {
     "data": {
      "text/plain": [
       "     Order ID      Order Date                  Purchase Address\n",
       "0      141234  01/22/19 21:25   944 Walnut St, Boston, MA 02215\n",
       "17     141251  01/24/19 08:13   414 Walnut St, Boston, MA 02215\n",
       "29     141263  01/11/19 23:33   640 Spruce St, Boston, MA 02215\n",
       "31     141265  01/01/19 16:52    853 Ridge St, Boston, MA 02215\n",
       "37     141271  01/30/19 10:51      90 13th St, Boston, MA 02215\n",
       "...       ...             ...                               ...\n",
       "9627   150409  01/10/19 02:38   410 Forest St, Boston, MA 02215\n",
       "9660   150440  01/10/19 19:19   82 Johnson St, Boston, MA 02215\n",
       "9666   150445  01/11/19 13:56  147 Lincoln St, Boston, MA 02215\n",
       "9694   150473  01/10/19 09:09  148 Hickory St, Boston, MA 02215\n",
       "9722   150501  01/13/19 16:43    428 Cedar St, Boston, MA 02215\n",
       "\n",
       "[1048 rows x 3 columns]"
      ],
      "text/html": [
       "<div>\n",
       "<style scoped>\n",
       "    .dataframe tbody tr th:only-of-type {\n",
       "        vertical-align: middle;\n",
       "    }\n",
       "\n",
       "    .dataframe tbody tr th {\n",
       "        vertical-align: top;\n",
       "    }\n",
       "\n",
       "    .dataframe thead th {\n",
       "        text-align: right;\n",
       "    }\n",
       "</style>\n",
       "<table border=\"1\" class=\"dataframe\">\n",
       "  <thead>\n",
       "    <tr style=\"text-align: right;\">\n",
       "      <th></th>\n",
       "      <th>Order ID</th>\n",
       "      <th>Order Date</th>\n",
       "      <th>Purchase Address</th>\n",
       "    </tr>\n",
       "  </thead>\n",
       "  <tbody>\n",
       "    <tr>\n",
       "      <th>0</th>\n",
       "      <td>141234</td>\n",
       "      <td>01/22/19 21:25</td>\n",
       "      <td>944 Walnut St, Boston, MA 02215</td>\n",
       "    </tr>\n",
       "    <tr>\n",
       "      <th>17</th>\n",
       "      <td>141251</td>\n",
       "      <td>01/24/19 08:13</td>\n",
       "      <td>414 Walnut St, Boston, MA 02215</td>\n",
       "    </tr>\n",
       "    <tr>\n",
       "      <th>29</th>\n",
       "      <td>141263</td>\n",
       "      <td>01/11/19 23:33</td>\n",
       "      <td>640 Spruce St, Boston, MA 02215</td>\n",
       "    </tr>\n",
       "    <tr>\n",
       "      <th>31</th>\n",
       "      <td>141265</td>\n",
       "      <td>01/01/19 16:52</td>\n",
       "      <td>853 Ridge St, Boston, MA 02215</td>\n",
       "    </tr>\n",
       "    <tr>\n",
       "      <th>37</th>\n",
       "      <td>141271</td>\n",
       "      <td>01/30/19 10:51</td>\n",
       "      <td>90 13th St, Boston, MA 02215</td>\n",
       "    </tr>\n",
       "    <tr>\n",
       "      <th>...</th>\n",
       "      <td>...</td>\n",
       "      <td>...</td>\n",
       "      <td>...</td>\n",
       "    </tr>\n",
       "    <tr>\n",
       "      <th>9627</th>\n",
       "      <td>150409</td>\n",
       "      <td>01/10/19 02:38</td>\n",
       "      <td>410 Forest St, Boston, MA 02215</td>\n",
       "    </tr>\n",
       "    <tr>\n",
       "      <th>9660</th>\n",
       "      <td>150440</td>\n",
       "      <td>01/10/19 19:19</td>\n",
       "      <td>82 Johnson St, Boston, MA 02215</td>\n",
       "    </tr>\n",
       "    <tr>\n",
       "      <th>9666</th>\n",
       "      <td>150445</td>\n",
       "      <td>01/11/19 13:56</td>\n",
       "      <td>147 Lincoln St, Boston, MA 02215</td>\n",
       "    </tr>\n",
       "    <tr>\n",
       "      <th>9694</th>\n",
       "      <td>150473</td>\n",
       "      <td>01/10/19 09:09</td>\n",
       "      <td>148 Hickory St, Boston, MA 02215</td>\n",
       "    </tr>\n",
       "    <tr>\n",
       "      <th>9722</th>\n",
       "      <td>150501</td>\n",
       "      <td>01/13/19 16:43</td>\n",
       "      <td>428 Cedar St, Boston, MA 02215</td>\n",
       "    </tr>\n",
       "  </tbody>\n",
       "</table>\n",
       "<p>1048 rows × 3 columns</p>\n",
       "</div>"
      ]
     },
     "execution_count": 14,
     "metadata": {},
     "output_type": "execute_result"
    }
   ],
   "execution_count": 14
  },
  {
   "cell_type": "markdown",
   "metadata": {
    "pycharm": {
     "name": "#%% md\n"
    }
   },
   "source": [
    "**Primer 4**: Selektovati kolone `Order ID`, `Product`, i `Price Each` za porudžbine kod kojih naručena količina nije manja od 3\n",
    "\n",
    "Napomena: Primetite da iako bi kolona `Quantity Ordered` trebalo da sadrži numeričke podatke, njene vrednosti su zapisane kao stringovi: "
   ]
  },
  {
   "cell_type": "code",
   "metadata": {
    "pycharm": {
     "name": "#%%\n"
    },
    "ExecuteTime": {
     "end_time": "2025-07-12T12:59:55.483950Z",
     "start_time": "2025-07-12T12:59:55.480869Z"
    }
   },
   "source": "jan_sales['Quantity Ordered'].tolist()[0]",
   "outputs": [
    {
     "data": {
      "text/plain": [
       "'1'"
      ]
     },
     "execution_count": 15,
     "metadata": {},
     "output_type": "execute_result"
    }
   ],
   "execution_count": 15
  },
  {
   "cell_type": "markdown",
   "metadata": {
    "pycharm": {
     "name": "#%% md\n"
    }
   },
   "source": [
    "Tako da je potrebno da prvo transformišemo `Quantity Ordered` kolonu u numerički tip:"
   ]
  },
  {
   "cell_type": "code",
   "metadata": {
    "pycharm": {
     "name": "#%%\n"
    },
    "ExecuteTime": {
     "end_time": "2025-07-12T12:59:55.623485Z",
     "start_time": "2025-07-12T12:59:55.618745Z"
    }
   },
   "source": "jan_sales[\"Quantity Ordered\"] = pd.to_numeric(jan_sales['Quantity Ordered'], errors=\"coerce\")",
   "outputs": [],
   "execution_count": 16
  },
  {
   "cell_type": "code",
   "source": "jan_sales['Quantity Ordered'].tolist()[0]",
   "metadata": {
    "collapsed": false,
    "ExecuteTime": {
     "end_time": "2025-07-12T12:59:55.729905Z",
     "start_time": "2025-07-12T12:59:55.724129Z"
    }
   },
   "outputs": [
    {
     "data": {
      "text/plain": [
       "1.0"
      ]
     },
     "execution_count": 17,
     "metadata": {},
     "output_type": "execute_result"
    }
   ],
   "execution_count": 17
  },
  {
   "cell_type": "markdown",
   "metadata": {
    "pycharm": {
     "name": "#%% md\n"
    }
   },
   "source": [
    "Sada se možemo vratiti selekciji redova i kolona:"
   ]
  },
  {
   "cell_type": "code",
   "metadata": {
    "pycharm": {
     "name": "#%%\n"
    },
    "ExecuteTime": {
     "end_time": "2025-07-12T12:59:55.790025Z",
     "start_time": "2025-07-12T12:59:55.785187Z"
    }
   },
   "source": "jan_sales.loc[jan_sales['Quantity Ordered'] >= 3, ['Order ID', 'Product', 'Price Each']]",
   "outputs": [
    {
     "data": {
      "text/plain": [
       "     Order ID                 Product Price Each\n",
       "12     141246  AAA Batteries (4-pack)       2.99\n",
       "52     141285  AAA Batteries (4-pack)       2.99\n",
       "58     141290   AA Batteries (4-pack)       3.84\n",
       "73     141305  AAA Batteries (4-pack)       2.99\n",
       "84     141316  AAA Batteries (4-pack)       2.99\n",
       "...       ...                     ...        ...\n",
       "9513   150299   AA Batteries (4-pack)       3.84\n",
       "9590   150372  AAA Batteries (4-pack)       2.99\n",
       "9636   150417        Wired Headphones      11.99\n",
       "9659   150439        Wired Headphones      11.99\n",
       "9700   150479   AA Batteries (4-pack)       3.84\n",
       "\n",
       "[216 rows x 3 columns]"
      ],
      "text/html": [
       "<div>\n",
       "<style scoped>\n",
       "    .dataframe tbody tr th:only-of-type {\n",
       "        vertical-align: middle;\n",
       "    }\n",
       "\n",
       "    .dataframe tbody tr th {\n",
       "        vertical-align: top;\n",
       "    }\n",
       "\n",
       "    .dataframe thead th {\n",
       "        text-align: right;\n",
       "    }\n",
       "</style>\n",
       "<table border=\"1\" class=\"dataframe\">\n",
       "  <thead>\n",
       "    <tr style=\"text-align: right;\">\n",
       "      <th></th>\n",
       "      <th>Order ID</th>\n",
       "      <th>Product</th>\n",
       "      <th>Price Each</th>\n",
       "    </tr>\n",
       "  </thead>\n",
       "  <tbody>\n",
       "    <tr>\n",
       "      <th>12</th>\n",
       "      <td>141246</td>\n",
       "      <td>AAA Batteries (4-pack)</td>\n",
       "      <td>2.99</td>\n",
       "    </tr>\n",
       "    <tr>\n",
       "      <th>52</th>\n",
       "      <td>141285</td>\n",
       "      <td>AAA Batteries (4-pack)</td>\n",
       "      <td>2.99</td>\n",
       "    </tr>\n",
       "    <tr>\n",
       "      <th>58</th>\n",
       "      <td>141290</td>\n",
       "      <td>AA Batteries (4-pack)</td>\n",
       "      <td>3.84</td>\n",
       "    </tr>\n",
       "    <tr>\n",
       "      <th>73</th>\n",
       "      <td>141305</td>\n",
       "      <td>AAA Batteries (4-pack)</td>\n",
       "      <td>2.99</td>\n",
       "    </tr>\n",
       "    <tr>\n",
       "      <th>84</th>\n",
       "      <td>141316</td>\n",
       "      <td>AAA Batteries (4-pack)</td>\n",
       "      <td>2.99</td>\n",
       "    </tr>\n",
       "    <tr>\n",
       "      <th>...</th>\n",
       "      <td>...</td>\n",
       "      <td>...</td>\n",
       "      <td>...</td>\n",
       "    </tr>\n",
       "    <tr>\n",
       "      <th>9513</th>\n",
       "      <td>150299</td>\n",
       "      <td>AA Batteries (4-pack)</td>\n",
       "      <td>3.84</td>\n",
       "    </tr>\n",
       "    <tr>\n",
       "      <th>9590</th>\n",
       "      <td>150372</td>\n",
       "      <td>AAA Batteries (4-pack)</td>\n",
       "      <td>2.99</td>\n",
       "    </tr>\n",
       "    <tr>\n",
       "      <th>9636</th>\n",
       "      <td>150417</td>\n",
       "      <td>Wired Headphones</td>\n",
       "      <td>11.99</td>\n",
       "    </tr>\n",
       "    <tr>\n",
       "      <th>9659</th>\n",
       "      <td>150439</td>\n",
       "      <td>Wired Headphones</td>\n",
       "      <td>11.99</td>\n",
       "    </tr>\n",
       "    <tr>\n",
       "      <th>9700</th>\n",
       "      <td>150479</td>\n",
       "      <td>AA Batteries (4-pack)</td>\n",
       "      <td>3.84</td>\n",
       "    </tr>\n",
       "  </tbody>\n",
       "</table>\n",
       "<p>216 rows × 3 columns</p>\n",
       "</div>"
      ]
     },
     "execution_count": 18,
     "metadata": {},
     "output_type": "execute_result"
    }
   ],
   "execution_count": 18
  },
  {
   "cell_type": "markdown",
   "metadata": {
    "pycharm": {
     "name": "#%% md\n"
    }
   },
   "source": [
    "## Učitavanje podataka o prodaji za sve mesece u 2019. god. i integracija mesečnih podataka o prodaji u jedan data frame\n",
    "\n",
    "Potrebno je da učitamo podatke o prodaji iz svih csv fajlova u 'sales_data' direktorijumu (po jedan fajl za svaki mesec 2019. god.)\n",
    "\n",
    "Prvo ćemo videti kako možemo da selektujemo samo .csv fajlove iz datog direktorijuma:"
   ]
  },
  {
   "cell_type": "code",
   "metadata": {
    "pycharm": {
     "name": "#%%\n"
    },
    "ExecuteTime": {
     "end_time": "2025-07-12T12:59:55.865588Z",
     "start_time": "2025-07-12T12:59:55.863608Z"
    }
   },
   "source": [
    "def get_csv_files(fpath: Path) -> list:\n",
    "    if not fpath.is_dir():\n",
    "        raise RuntimeError(\"The input argument is not a directory -> cannot proceed\")\n",
    "    csv_files = []\n",
    "    for item in fpath.iterdir():\n",
    "        if not item.is_dir() and item.suffix == '.csv':\n",
    "            csv_files.append(item)\n",
    "    return csv_files"
   ],
   "outputs": [],
   "execution_count": 19
  },
  {
   "cell_type": "code",
   "source": "get_csv_files(DATA_DIR)",
   "metadata": {
    "collapsed": false,
    "pycharm": {
     "name": "#%%\n"
    },
    "ExecuteTime": {
     "end_time": "2025-07-12T12:59:55.947507Z",
     "start_time": "2025-07-12T12:59:55.943348Z"
    }
   },
   "outputs": [
    {
     "data": {
      "text/plain": [
       "[PosixPath('/Users/jelena.jovanovic/DataspellProjects/2025v/pandas_labs/data/sales_data/Sales_December_2019.csv'),\n",
       " PosixPath('/Users/jelena.jovanovic/DataspellProjects/2025v/pandas_labs/data/sales_data/Sales_April_2019.csv'),\n",
       " PosixPath('/Users/jelena.jovanovic/DataspellProjects/2025v/pandas_labs/data/sales_data/Sales_February_2019.csv'),\n",
       " PosixPath('/Users/jelena.jovanovic/DataspellProjects/2025v/pandas_labs/data/sales_data/Sales_March_2019.csv'),\n",
       " PosixPath('/Users/jelena.jovanovic/DataspellProjects/2025v/pandas_labs/data/sales_data/Sales_August_2019.csv'),\n",
       " PosixPath('/Users/jelena.jovanovic/DataspellProjects/2025v/pandas_labs/data/sales_data/Sales_May_2019.csv'),\n",
       " PosixPath('/Users/jelena.jovanovic/DataspellProjects/2025v/pandas_labs/data/sales_data/Sales_November_2019.csv'),\n",
       " PosixPath('/Users/jelena.jovanovic/DataspellProjects/2025v/pandas_labs/data/sales_data/Sales_October_2019.csv'),\n",
       " PosixPath('/Users/jelena.jovanovic/DataspellProjects/2025v/pandas_labs/data/sales_data/Sales_January_2019.csv'),\n",
       " PosixPath('/Users/jelena.jovanovic/DataspellProjects/2025v/pandas_labs/data/sales_data/Sales_September_2019.csv'),\n",
       " PosixPath('/Users/jelena.jovanovic/DataspellProjects/2025v/pandas_labs/data/sales_data/Sales_July_2019.csv'),\n",
       " PosixPath('/Users/jelena.jovanovic/DataspellProjects/2025v/pandas_labs/data/sales_data/Sales_June_2019.csv')]"
      ]
     },
     "execution_count": 20,
     "metadata": {},
     "output_type": "execute_result"
    }
   ],
   "execution_count": 20
  },
  {
   "cell_type": "markdown",
   "metadata": {
    "pycharm": {
     "name": "#%% md\n"
    }
   },
   "source": [
    "Sada ćemo, u petlji, uzimati jedan po jedan csv fajl, učitati podatke iz njega i dodati učitane podatke u jedan data frame koji sadrži podatke o prodaji za celu godinu. Za spajanje dva data frame-a, koristimo funkciju `pd.concat`:"
   ]
  },
  {
   "cell_type": "code",
   "metadata": {
    "pycharm": {
     "name": "#%%\n"
    },
    "ExecuteTime": {
     "end_time": "2025-07-12T12:59:56.262296Z",
     "start_time": "2025-07-12T12:59:56.033028Z"
    }
   },
   "source": [
    "all_sales = pd.DataFrame()\n",
    "for csv_file in get_csv_files(DATA_DIR):\n",
    "    temp_df = pd.read_csv(csv_file)\n",
    "    all_sales = pd.concat([all_sales, temp_df])"
   ],
   "outputs": [],
   "execution_count": 21
  },
  {
   "cell_type": "code",
   "metadata": {
    "pycharm": {
     "name": "#%%\n"
    },
    "ExecuteTime": {
     "end_time": "2025-07-12T12:59:56.273009Z",
     "start_time": "2025-07-12T12:59:56.270481Z"
    }
   },
   "source": "all_sales.shape",
   "outputs": [
    {
     "data": {
      "text/plain": [
       "(186850, 6)"
      ]
     },
     "execution_count": 22,
     "metadata": {},
     "output_type": "execute_result"
    }
   ],
   "execution_count": 22
  },
  {
   "cell_type": "markdown",
   "metadata": {
    "pycharm": {
     "name": "#%% md\n"
    }
   },
   "source": [
    "### Pregled učitanih i integrisanih podataka o prodaji"
   ]
  },
  {
   "cell_type": "code",
   "metadata": {
    "pycharm": {
     "name": "#%%\n"
    },
    "ExecuteTime": {
     "end_time": "2025-07-12T12:59:56.307900Z",
     "start_time": "2025-07-12T12:59:56.284838Z"
    }
   },
   "source": "all_sales.info()",
   "outputs": [
    {
     "name": "stdout",
     "output_type": "stream",
     "text": [
      "<class 'pandas.core.frame.DataFrame'>\n",
      "Index: 186850 entries, 0 to 13621\n",
      "Data columns (total 6 columns):\n",
      " #   Column            Non-Null Count   Dtype \n",
      "---  ------            --------------   ----- \n",
      " 0   Order ID          186305 non-null  object\n",
      " 1   Product           186305 non-null  object\n",
      " 2   Quantity Ordered  186305 non-null  object\n",
      " 3   Price Each        186305 non-null  object\n",
      " 4   Order Date        186305 non-null  object\n",
      " 5   Purchase Address  186305 non-null  object\n",
      "dtypes: object(6)\n",
      "memory usage: 10.0+ MB\n"
     ]
    }
   ],
   "execution_count": 23
  },
  {
   "cell_type": "markdown",
   "metadata": {
    "pycharm": {
     "name": "#%% md\n"
    }
   },
   "source": [
    "Obratite pažnju na razliku između broja redova i vrednosti indeksa. Deluje kao da se učitane vrednosti indeksa ponavljaju. Da posle ne bismo imali problema, potrebno je da sredimo, odnosno resetujemo indeks:"
   ]
  },
  {
   "cell_type": "code",
   "metadata": {
    "pycharm": {
     "name": "#%%\n"
    },
    "ExecuteTime": {
     "end_time": "2025-07-12T12:59:56.319663Z",
     "start_time": "2025-07-12T12:59:56.318208Z"
    }
   },
   "source": "all_sales.reset_index(drop=True, inplace=True)",
   "outputs": [],
   "execution_count": 24
  },
  {
   "cell_type": "code",
   "metadata": {
    "pycharm": {
     "name": "#%%\n"
    },
    "ExecuteTime": {
     "end_time": "2025-07-12T12:59:56.344294Z",
     "start_time": "2025-07-12T12:59:56.341566Z"
    }
   },
   "source": "all_sales.index",
   "outputs": [
    {
     "data": {
      "text/plain": [
       "RangeIndex(start=0, stop=186850, step=1)"
      ]
     },
     "execution_count": 25,
     "metadata": {},
     "output_type": "execute_result"
    }
   ],
   "execution_count": 25
  },
  {
   "cell_type": "markdown",
   "metadata": {
    "pycharm": {
     "name": "#%% md\n"
    }
   },
   "source": [
    "Preimenovaćemo data frame, da smanjimo kucanje: "
   ]
  },
  {
   "cell_type": "code",
   "metadata": {
    "pycharm": {
     "name": "#%%\n"
    },
    "ExecuteTime": {
     "end_time": "2025-07-12T12:59:56.364649Z",
     "start_time": "2025-07-12T12:59:56.362788Z"
    }
   },
   "source": "sales = all_sales",
   "outputs": [],
   "execution_count": 26
  },
  {
   "cell_type": "markdown",
   "metadata": {
    "pycharm": {
     "name": "#%% md\n"
    }
   },
   "source": [
    "Primetite da smo samo dali novo ime (referencu) postojećem objektu, odnosno, nismo kreirali novi data frame objekat, već samo novu referencu na postojeći\n",
    "\n",
    "To možemo da potvrdimo:"
   ]
  },
  {
   "cell_type": "code",
   "metadata": {
    "pycharm": {
     "name": "#%%\n"
    },
    "ExecuteTime": {
     "end_time": "2025-07-12T12:59:56.393943Z",
     "start_time": "2025-07-12T12:59:56.389757Z"
    }
   },
   "source": "id(sales) == id(all_sales)",
   "outputs": [
    {
     "data": {
      "text/plain": [
       "True"
      ]
     },
     "execution_count": 27,
     "metadata": {},
     "output_type": "execute_result"
    }
   ],
   "execution_count": 27
  },
  {
   "cell_type": "code",
   "source": "sales is all_sales",
   "metadata": {
    "collapsed": false,
    "ExecuteTime": {
     "end_time": "2025-07-12T12:59:56.411526Z",
     "start_time": "2025-07-12T12:59:56.409196Z"
    }
   },
   "outputs": [
    {
     "data": {
      "text/plain": [
       "True"
      ]
     },
     "execution_count": 28,
     "metadata": {},
     "output_type": "execute_result"
    }
   ],
   "execution_count": 28
  },
  {
   "cell_type": "markdown",
   "metadata": {
    "pycharm": {
     "name": "#%% md\n"
    }
   },
   "source": [
    "Ako bismo hteli da kreiramo novi pd.DataFrame objekat, identičan postojećem, bilo bi potrebno da uradimo sledeće:"
   ]
  },
  {
   "cell_type": "code",
   "metadata": {
    "pycharm": {
     "name": "#%%\n"
    },
    "ExecuteTime": {
     "end_time": "2025-07-12T12:59:56.447176Z",
     "start_time": "2025-07-12T12:59:56.438212Z"
    }
   },
   "source": "tmp = all_sales.copy()",
   "outputs": [],
   "execution_count": 29
  },
  {
   "cell_type": "code",
   "metadata": {
    "pycharm": {
     "name": "#%%\n"
    },
    "ExecuteTime": {
     "end_time": "2025-07-12T12:59:56.470361Z",
     "start_time": "2025-07-12T12:59:56.467093Z"
    }
   },
   "source": "tmp is all_sales",
   "outputs": [
    {
     "data": {
      "text/plain": [
       "False"
      ]
     },
     "execution_count": 30,
     "metadata": {},
     "output_type": "execute_result"
    }
   ],
   "execution_count": 30
  },
  {
   "cell_type": "code",
   "source": "del tmp",
   "metadata": {
    "collapsed": false,
    "ExecuteTime": {
     "end_time": "2025-07-12T12:59:56.510540Z",
     "start_time": "2025-07-12T12:59:56.506192Z"
    }
   },
   "outputs": [],
   "execution_count": 31
  },
  {
   "cell_type": "markdown",
   "source": [
    "## Sređivanje podataka (data wrangling) "
   ],
   "metadata": {
    "collapsed": false
   }
  },
  {
   "cell_type": "code",
   "metadata": {
    "pycharm": {
     "name": "#%%\n"
    },
    "ExecuteTime": {
     "end_time": "2025-07-12T12:59:56.560614Z",
     "start_time": "2025-07-12T12:59:56.538547Z"
    }
   },
   "source": "sales.info()",
   "outputs": [
    {
     "name": "stdout",
     "output_type": "stream",
     "text": [
      "<class 'pandas.core.frame.DataFrame'>\n",
      "RangeIndex: 186850 entries, 0 to 186849\n",
      "Data columns (total 6 columns):\n",
      " #   Column            Non-Null Count   Dtype \n",
      "---  ------            --------------   ----- \n",
      " 0   Order ID          186305 non-null  object\n",
      " 1   Product           186305 non-null  object\n",
      " 2   Quantity Ordered  186305 non-null  object\n",
      " 3   Price Each        186305 non-null  object\n",
      " 4   Order Date        186305 non-null  object\n",
      " 5   Purchase Address  186305 non-null  object\n",
      "dtypes: object(6)\n",
      "memory usage: 8.6+ MB\n"
     ]
    }
   ],
   "execution_count": 32
  },
  {
   "cell_type": "markdown",
   "metadata": {
    "pycharm": {
     "name": "#%% md\n"
    }
   },
   "source": [
    "Veliki broj kolona je tipa object, uključujući i one za koje to ne bismo očekivali - konkretno, kolone `Quantity Ordered`, `Price Each` i `Order Date`. To moramo promeniti, ali prvo ćemo se pozabaviti nedostajućim vrednostima."
   ]
  },
  {
   "cell_type": "markdown",
   "source": [
    "### Uklanjanje observacija sa nedostajućim vrednostima\n",
    "\n",
    "Izlaz f. `info()` sugeriše da nedostaju kompletni redovi podataka, odnosno da imamo observacije sa svim nedostajućim vrednostima. Uzećemo uzorak da to proverimo:"
   ],
   "metadata": {
    "collapsed": false
   }
  },
  {
   "cell_type": "code",
   "metadata": {
    "pycharm": {
     "name": "#%%\n"
    },
    "ExecuteTime": {
     "end_time": "2025-07-12T12:59:56.579846Z",
     "start_time": "2025-07-12T12:59:56.571379Z"
    }
   },
   "source": "sales.loc[sales['Order ID'].isna(), ].sample(10)",
   "outputs": [
    {
     "data": {
      "text/plain": [
       "       Order ID Product Quantity Ordered Price Each Order Date  \\\n",
       "11491       NaN     NaN              NaN        NaN        NaN   \n",
       "143055      NaN     NaN              NaN        NaN        NaN   \n",
       "156553      NaN     NaN              NaN        NaN        NaN   \n",
       "13238       NaN     NaN              NaN        NaN        NaN   \n",
       "105320      NaN     NaN              NaN        NaN        NaN   \n",
       "172028      NaN     NaN              NaN        NaN        NaN   \n",
       "175085      NaN     NaN              NaN        NaN        NaN   \n",
       "117578      NaN     NaN              NaN        NaN        NaN   \n",
       "69923       NaN     NaN              NaN        NaN        NaN   \n",
       "81626       NaN     NaN              NaN        NaN        NaN   \n",
       "\n",
       "       Purchase Address  \n",
       "11491               NaN  \n",
       "143055              NaN  \n",
       "156553              NaN  \n",
       "13238               NaN  \n",
       "105320              NaN  \n",
       "172028              NaN  \n",
       "175085              NaN  \n",
       "117578              NaN  \n",
       "69923               NaN  \n",
       "81626               NaN  "
      ],
      "text/html": [
       "<div>\n",
       "<style scoped>\n",
       "    .dataframe tbody tr th:only-of-type {\n",
       "        vertical-align: middle;\n",
       "    }\n",
       "\n",
       "    .dataframe tbody tr th {\n",
       "        vertical-align: top;\n",
       "    }\n",
       "\n",
       "    .dataframe thead th {\n",
       "        text-align: right;\n",
       "    }\n",
       "</style>\n",
       "<table border=\"1\" class=\"dataframe\">\n",
       "  <thead>\n",
       "    <tr style=\"text-align: right;\">\n",
       "      <th></th>\n",
       "      <th>Order ID</th>\n",
       "      <th>Product</th>\n",
       "      <th>Quantity Ordered</th>\n",
       "      <th>Price Each</th>\n",
       "      <th>Order Date</th>\n",
       "      <th>Purchase Address</th>\n",
       "    </tr>\n",
       "  </thead>\n",
       "  <tbody>\n",
       "    <tr>\n",
       "      <th>11491</th>\n",
       "      <td>NaN</td>\n",
       "      <td>NaN</td>\n",
       "      <td>NaN</td>\n",
       "      <td>NaN</td>\n",
       "      <td>NaN</td>\n",
       "      <td>NaN</td>\n",
       "    </tr>\n",
       "    <tr>\n",
       "      <th>143055</th>\n",
       "      <td>NaN</td>\n",
       "      <td>NaN</td>\n",
       "      <td>NaN</td>\n",
       "      <td>NaN</td>\n",
       "      <td>NaN</td>\n",
       "      <td>NaN</td>\n",
       "    </tr>\n",
       "    <tr>\n",
       "      <th>156553</th>\n",
       "      <td>NaN</td>\n",
       "      <td>NaN</td>\n",
       "      <td>NaN</td>\n",
       "      <td>NaN</td>\n",
       "      <td>NaN</td>\n",
       "      <td>NaN</td>\n",
       "    </tr>\n",
       "    <tr>\n",
       "      <th>13238</th>\n",
       "      <td>NaN</td>\n",
       "      <td>NaN</td>\n",
       "      <td>NaN</td>\n",
       "      <td>NaN</td>\n",
       "      <td>NaN</td>\n",
       "      <td>NaN</td>\n",
       "    </tr>\n",
       "    <tr>\n",
       "      <th>105320</th>\n",
       "      <td>NaN</td>\n",
       "      <td>NaN</td>\n",
       "      <td>NaN</td>\n",
       "      <td>NaN</td>\n",
       "      <td>NaN</td>\n",
       "      <td>NaN</td>\n",
       "    </tr>\n",
       "    <tr>\n",
       "      <th>172028</th>\n",
       "      <td>NaN</td>\n",
       "      <td>NaN</td>\n",
       "      <td>NaN</td>\n",
       "      <td>NaN</td>\n",
       "      <td>NaN</td>\n",
       "      <td>NaN</td>\n",
       "    </tr>\n",
       "    <tr>\n",
       "      <th>175085</th>\n",
       "      <td>NaN</td>\n",
       "      <td>NaN</td>\n",
       "      <td>NaN</td>\n",
       "      <td>NaN</td>\n",
       "      <td>NaN</td>\n",
       "      <td>NaN</td>\n",
       "    </tr>\n",
       "    <tr>\n",
       "      <th>117578</th>\n",
       "      <td>NaN</td>\n",
       "      <td>NaN</td>\n",
       "      <td>NaN</td>\n",
       "      <td>NaN</td>\n",
       "      <td>NaN</td>\n",
       "      <td>NaN</td>\n",
       "    </tr>\n",
       "    <tr>\n",
       "      <th>69923</th>\n",
       "      <td>NaN</td>\n",
       "      <td>NaN</td>\n",
       "      <td>NaN</td>\n",
       "      <td>NaN</td>\n",
       "      <td>NaN</td>\n",
       "      <td>NaN</td>\n",
       "    </tr>\n",
       "    <tr>\n",
       "      <th>81626</th>\n",
       "      <td>NaN</td>\n",
       "      <td>NaN</td>\n",
       "      <td>NaN</td>\n",
       "      <td>NaN</td>\n",
       "      <td>NaN</td>\n",
       "      <td>NaN</td>\n",
       "    </tr>\n",
       "  </tbody>\n",
       "</table>\n",
       "</div>"
      ]
     },
     "execution_count": 33,
     "metadata": {},
     "output_type": "execute_result"
    }
   ],
   "execution_count": 33
  },
  {
   "cell_type": "markdown",
   "metadata": {
    "pycharm": {
     "name": "#%% md\n"
    }
   },
   "source": [
    "Uklonićemo observacije (redove) sa svim nedostajućim vrednostima"
   ]
  },
  {
   "cell_type": "code",
   "metadata": {
    "pycharm": {
     "name": "#%%\n"
    },
    "ExecuteTime": {
     "end_time": "2025-07-12T12:59:56.656165Z",
     "start_time": "2025-07-12T12:59:56.623293Z"
    }
   },
   "source": "sales.dropna(how=\"all\", inplace=True)",
   "outputs": [],
   "execution_count": 34
  },
  {
   "cell_type": "code",
   "metadata": {
    "pycharm": {
     "name": "#%%\n"
    },
    "ExecuteTime": {
     "end_time": "2025-07-12T12:59:56.715918Z",
     "start_time": "2025-07-12T12:59:56.691710Z"
    }
   },
   "source": "sales.isna().sum()",
   "outputs": [
    {
     "data": {
      "text/plain": [
       "Order ID            0\n",
       "Product             0\n",
       "Quantity Ordered    0\n",
       "Price Each          0\n",
       "Order Date          0\n",
       "Purchase Address    0\n",
       "dtype: int64"
      ]
     },
     "execution_count": 35,
     "metadata": {},
     "output_type": "execute_result"
    }
   ],
   "execution_count": 35
  },
  {
   "cell_type": "markdown",
   "metadata": {
    "pycharm": {
     "name": "#%% md\n"
    }
   },
   "source": [
    "### Transformacija varijabli *Quantity Ordered* i *Price Each* u numeričke, a *Order Date* u datetime\n",
    "\n",
    "Korisne smernice za ove oblike transformacije varijabli mogu se naći u odgovorima na [ovo pitanje na StackOverflow-u](https://stackoverflow.com/questions/15891038/change-column-type-in-pandas)"
   ]
  },
  {
   "cell_type": "markdown",
   "metadata": {
    "pycharm": {
     "name": "#%% md\n"
    }
   },
   "source": [
    "Prvo ćemo pokušati da transformišemo `Quantity Ordered` u numeričku kolonu"
   ]
  },
  {
   "cell_type": "code",
   "metadata": {
    "pycharm": {
     "name": "#%%\n"
    },
    "ExecuteTime": {
     "end_time": "2025-07-12T12:59:56.796370Z",
     "start_time": "2025-07-12T12:59:56.793559Z"
    }
   },
   "source": [
    "try:\n",
    "    sales['Quantity_Ordered'] = pd.to_numeric(sales['Quantity Ordered'])\n",
    "except ValueError as err:\n",
    "    print(err)"
   ],
   "outputs": [
    {
     "name": "stdout",
     "output_type": "stream",
     "text": [
      "Unable to parse string \"Quantity Ordered\" at position 254\n"
     ]
    }
   ],
   "execution_count": 36
  },
  {
   "cell_type": "markdown",
   "metadata": {
    "pycharm": {
     "name": "#%% md\n"
    }
   },
   "source": [
    "Pogledaćemo red (observaciju) gde je došlo do greške:"
   ]
  },
  {
   "cell_type": "code",
   "metadata": {
    "pycharm": {
     "name": "#%%\n"
    },
    "ExecuteTime": {
     "end_time": "2025-07-12T12:59:56.875402Z",
     "start_time": "2025-07-12T12:59:56.871953Z"
    }
   },
   "source": "sales.iloc[254, ]",
   "outputs": [
    {
     "data": {
      "text/plain": [
       "Order ID                    Order ID\n",
       "Product                      Product\n",
       "Quantity Ordered    Quantity Ordered\n",
       "Price Each                Price Each\n",
       "Order Date                Order Date\n",
       "Purchase Address    Purchase Address\n",
       "Name: 254, dtype: object"
      ]
     },
     "execution_count": 37,
     "metadata": {},
     "output_type": "execute_result"
    }
   ],
   "execution_count": 37
  },
  {
   "cell_type": "markdown",
   "metadata": {
    "pycharm": {
     "name": "#%% md\n"
    }
   },
   "source": [
    "Red koji je uslovio grešku očigleno sadrži pogrešno unete podatke koji nam nisu potrebni. Tako da ćemo izvršiti konverziju u numerički tip i, pri tome, vrednosti koje ne mogu da se transformišu u numeričke zameniti sa NaN (tj. označiti podatke kao nedostajuće)"
   ]
  },
  {
   "cell_type": "code",
   "metadata": {
    "pycharm": {
     "name": "#%%\n"
    },
    "ExecuteTime": {
     "end_time": "2025-07-12T12:59:57.011619Z",
     "start_time": "2025-07-12T12:59:56.970222Z"
    }
   },
   "source": "sales['Quantity_Ordered'] = pd.to_numeric(sales['Quantity Ordered'], errors=\"coerce\")",
   "outputs": [],
   "execution_count": 38
  },
  {
   "cell_type": "markdown",
   "metadata": {
    "pycharm": {
     "name": "#%% md\n"
    }
   },
   "source": [
    "Utvrdićemo broj i procenat uvedenih nedostajućih vrednosti u koloni `Quantity_Ordered`:"
   ]
  },
  {
   "cell_type": "code",
   "metadata": {
    "pycharm": {
     "name": "#%%\n"
    },
    "ExecuteTime": {
     "end_time": "2025-07-12T12:59:57.056860Z",
     "start_time": "2025-07-12T12:59:57.054184Z"
    }
   },
   "source": "sales.Quantity_Ordered.isna().sum()",
   "outputs": [
    {
     "data": {
      "text/plain": [
       "355"
      ]
     },
     "execution_count": 39,
     "metadata": {},
     "output_type": "execute_result"
    }
   ],
   "execution_count": 39
  },
  {
   "cell_type": "code",
   "metadata": {
    "pycharm": {
     "name": "#%%\n"
    },
    "ExecuteTime": {
     "end_time": "2025-07-12T12:59:57.136205Z",
     "start_time": "2025-07-12T12:59:57.133311Z"
    }
   },
   "source": [
    "# sales.Quantity_Ordered.isna().sum() / sales.shape[0]\n",
    "sales.Quantity_Ordered.isna().mean()"
   ],
   "outputs": [
    {
     "data": {
      "text/plain": [
       "0.0019054775770913288"
      ]
     },
     "execution_count": 40,
     "metadata": {},
     "output_type": "execute_result"
    }
   ],
   "execution_count": 40
  },
  {
   "cell_type": "markdown",
   "metadata": {
    "pycharm": {
     "name": "#%% md\n"
    }
   },
   "source": [
    "Na isti način ćemo transformisati `Price Each` kolonu:"
   ]
  },
  {
   "cell_type": "code",
   "source": "sales['Price_Each'] = pd.to_numeric(sales['Price Each'], errors='coerce')",
   "metadata": {
    "collapsed": false,
    "ExecuteTime": {
     "end_time": "2025-07-12T12:59:57.197396Z",
     "start_time": "2025-07-12T12:59:57.166896Z"
    }
   },
   "outputs": [],
   "execution_count": 41
  },
  {
   "cell_type": "code",
   "metadata": {
    "pycharm": {
     "name": "#%%\n"
    },
    "ExecuteTime": {
     "end_time": "2025-07-12T12:59:57.211013Z",
     "start_time": "2025-07-12T12:59:57.208226Z"
    }
   },
   "source": "sales.Price_Each.isna().sum()",
   "outputs": [
    {
     "data": {
      "text/plain": [
       "355"
      ]
     },
     "execution_count": 42,
     "metadata": {},
     "output_type": "execute_result"
    }
   ],
   "execution_count": 42
  },
  {
   "cell_type": "markdown",
   "metadata": {
    "pycharm": {
     "name": "#%% md\n"
    }
   },
   "source": [
    "Izbacićemo redove gde su naručena količina ili jedinična cena nepoznati (NaN)"
   ]
  },
  {
   "cell_type": "code",
   "metadata": {
    "pycharm": {
     "name": "#%%\n"
    },
    "ExecuteTime": {
     "end_time": "2025-07-12T12:59:57.242202Z",
     "start_time": "2025-07-12T12:59:57.229526Z"
    }
   },
   "source": "sales.dropna(how=\"any\", inplace=True, subset=['Price_Each', 'Quantity_Ordered'])",
   "outputs": [],
   "execution_count": 43
  },
  {
   "cell_type": "code",
   "metadata": {
    "pycharm": {
     "name": "#%%\n"
    },
    "ExecuteTime": {
     "end_time": "2025-07-12T12:59:57.279338Z",
     "start_time": "2025-07-12T12:59:57.257540Z"
    }
   },
   "source": "sales.isna().sum().sum()",
   "outputs": [
    {
     "data": {
      "text/plain": [
       "0"
      ]
     },
     "execution_count": 44,
     "metadata": {},
     "output_type": "execute_result"
    }
   ],
   "execution_count": 44
  },
  {
   "cell_type": "markdown",
   "metadata": {
    "pycharm": {
     "name": "#%% md\n"
    }
   },
   "source": [
    "Proverićemo veličinu data frame-a nakon uklanjanja redova sa svim nedostajućim vrednostima:"
   ]
  },
  {
   "cell_type": "code",
   "metadata": {
    "pycharm": {
     "name": "#%%\n"
    },
    "ExecuteTime": {
     "end_time": "2025-07-12T12:59:57.294399Z",
     "start_time": "2025-07-12T12:59:57.291610Z"
    }
   },
   "source": "sales.shape",
   "outputs": [
    {
     "data": {
      "text/plain": [
       "(185950, 8)"
      ]
     },
     "execution_count": 45,
     "metadata": {},
     "output_type": "execute_result"
    }
   ],
   "execution_count": 45
  },
  {
   "cell_type": "markdown",
   "metadata": {
    "pycharm": {
     "name": "#%% md\n"
    }
   },
   "source": [
    "Konačno, transformisaćemo `Order Date` u datetime tip"
   ]
  },
  {
   "cell_type": "code",
   "source": "sales['Order Date'].sample(10)",
   "metadata": {
    "collapsed": false,
    "ExecuteTime": {
     "end_time": "2025-07-12T12:59:57.330800Z",
     "start_time": "2025-07-12T12:59:57.324386Z"
    }
   },
   "outputs": [
    {
     "data": {
      "text/plain": [
       "51192     02/18/19 16:17\n",
       "55624     03/12/19 13:03\n",
       "36309     04/03/19 21:08\n",
       "50498     02/12/19 19:20\n",
       "176108    06/11/19 01:50\n",
       "174693    06/25/19 11:09\n",
       "114162    11/07/19 07:10\n",
       "117512    10/06/19 16:36\n",
       "177898    06/02/19 19:20\n",
       "113619    11/14/19 15:19\n",
       "Name: Order Date, dtype: object"
      ]
     },
     "execution_count": 46,
     "metadata": {},
     "output_type": "execute_result"
    }
   ],
   "execution_count": 46
  },
  {
   "cell_type": "code",
   "source": "sales['Order_Date'] = pd.to_datetime(sales['Order Date'], errors='coerce', format='%m/%d/%y %H:%M')",
   "metadata": {
    "collapsed": false,
    "ExecuteTime": {
     "end_time": "2025-07-12T12:59:57.583224Z",
     "start_time": "2025-07-12T12:59:57.379217Z"
    }
   },
   "outputs": [],
   "execution_count": 47
  },
  {
   "cell_type": "code",
   "source": "sales[['Order Date', 'Order_Date']].sample(10)",
   "metadata": {
    "collapsed": false,
    "ExecuteTime": {
     "end_time": "2025-07-12T12:59:57.621007Z",
     "start_time": "2025-07-12T12:59:57.608361Z"
    }
   },
   "outputs": [
    {
     "data": {
      "text/plain": [
       "            Order Date          Order_Date\n",
       "135349  10/27/19 11:32 2019-10-27 11:32:00\n",
       "11963   12/27/19 19:33 2019-12-27 19:33:00\n",
       "50519   02/02/19 20:37 2019-02-02 20:37:00\n",
       "54795   02/03/19 19:00 2019-02-03 19:00:00\n",
       "89815   05/14/19 14:40 2019-05-14 14:40:00\n",
       "82191   08/17/19 09:12 2019-08-17 09:12:00\n",
       "120666  10/19/19 14:48 2019-10-19 14:48:00\n",
       "19600   12/10/19 20:07 2019-12-10 20:07:00\n",
       "20066   12/30/19 20:29 2019-12-30 20:29:00\n",
       "34158   04/28/19 10:11 2019-04-28 10:11:00"
      ],
      "text/html": [
       "<div>\n",
       "<style scoped>\n",
       "    .dataframe tbody tr th:only-of-type {\n",
       "        vertical-align: middle;\n",
       "    }\n",
       "\n",
       "    .dataframe tbody tr th {\n",
       "        vertical-align: top;\n",
       "    }\n",
       "\n",
       "    .dataframe thead th {\n",
       "        text-align: right;\n",
       "    }\n",
       "</style>\n",
       "<table border=\"1\" class=\"dataframe\">\n",
       "  <thead>\n",
       "    <tr style=\"text-align: right;\">\n",
       "      <th></th>\n",
       "      <th>Order Date</th>\n",
       "      <th>Order_Date</th>\n",
       "    </tr>\n",
       "  </thead>\n",
       "  <tbody>\n",
       "    <tr>\n",
       "      <th>135349</th>\n",
       "      <td>10/27/19 11:32</td>\n",
       "      <td>2019-10-27 11:32:00</td>\n",
       "    </tr>\n",
       "    <tr>\n",
       "      <th>11963</th>\n",
       "      <td>12/27/19 19:33</td>\n",
       "      <td>2019-12-27 19:33:00</td>\n",
       "    </tr>\n",
       "    <tr>\n",
       "      <th>50519</th>\n",
       "      <td>02/02/19 20:37</td>\n",
       "      <td>2019-02-02 20:37:00</td>\n",
       "    </tr>\n",
       "    <tr>\n",
       "      <th>54795</th>\n",
       "      <td>02/03/19 19:00</td>\n",
       "      <td>2019-02-03 19:00:00</td>\n",
       "    </tr>\n",
       "    <tr>\n",
       "      <th>89815</th>\n",
       "      <td>05/14/19 14:40</td>\n",
       "      <td>2019-05-14 14:40:00</td>\n",
       "    </tr>\n",
       "    <tr>\n",
       "      <th>82191</th>\n",
       "      <td>08/17/19 09:12</td>\n",
       "      <td>2019-08-17 09:12:00</td>\n",
       "    </tr>\n",
       "    <tr>\n",
       "      <th>120666</th>\n",
       "      <td>10/19/19 14:48</td>\n",
       "      <td>2019-10-19 14:48:00</td>\n",
       "    </tr>\n",
       "    <tr>\n",
       "      <th>19600</th>\n",
       "      <td>12/10/19 20:07</td>\n",
       "      <td>2019-12-10 20:07:00</td>\n",
       "    </tr>\n",
       "    <tr>\n",
       "      <th>20066</th>\n",
       "      <td>12/30/19 20:29</td>\n",
       "      <td>2019-12-30 20:29:00</td>\n",
       "    </tr>\n",
       "    <tr>\n",
       "      <th>34158</th>\n",
       "      <td>04/28/19 10:11</td>\n",
       "      <td>2019-04-28 10:11:00</td>\n",
       "    </tr>\n",
       "  </tbody>\n",
       "</table>\n",
       "</div>"
      ]
     },
     "execution_count": 48,
     "metadata": {},
     "output_type": "execute_result"
    }
   ],
   "execution_count": 48
  },
  {
   "cell_type": "markdown",
   "metadata": {
    "pycharm": {
     "name": "#%% md\n"
    }
   },
   "source": [
    "Nakon ovih transformacija, proverićemo kako sad izgledaju tipovi podataka u data frame-u:"
   ]
  },
  {
   "cell_type": "code",
   "metadata": {
    "pycharm": {
     "name": "#%%\n"
    },
    "ExecuteTime": {
     "end_time": "2025-07-12T12:59:57.767865Z",
     "start_time": "2025-07-12T12:59:57.736257Z"
    }
   },
   "source": "sales.info()",
   "outputs": [
    {
     "name": "stdout",
     "output_type": "stream",
     "text": [
      "<class 'pandas.core.frame.DataFrame'>\n",
      "Index: 185950 entries, 0 to 186849\n",
      "Data columns (total 9 columns):\n",
      " #   Column            Non-Null Count   Dtype         \n",
      "---  ------            --------------   -----         \n",
      " 0   Order ID          185950 non-null  object        \n",
      " 1   Product           185950 non-null  object        \n",
      " 2   Quantity Ordered  185950 non-null  object        \n",
      " 3   Price Each        185950 non-null  object        \n",
      " 4   Order Date        185950 non-null  object        \n",
      " 5   Purchase Address  185950 non-null  object        \n",
      " 6   Quantity_Ordered  185950 non-null  float64       \n",
      " 7   Price_Each        185950 non-null  float64       \n",
      " 8   Order_Date        185950 non-null  datetime64[ns]\n",
      "dtypes: datetime64[ns](1), float64(2), object(6)\n",
      "memory usage: 14.2+ MB\n"
     ]
    }
   ],
   "execution_count": 49
  },
  {
   "cell_type": "markdown",
   "source": [
    "Uklonićemo kolone koje više nisu potrebne:"
   ],
   "metadata": {
    "collapsed": false
   }
  },
  {
   "cell_type": "code",
   "source": "sales.drop(columns=['Quantity Ordered', 'Price Each', 'Order Date'], inplace=True)",
   "metadata": {
    "collapsed": false,
    "ExecuteTime": {
     "end_time": "2025-07-12T12:59:57.826265Z",
     "start_time": "2025-07-12T12:59:57.814525Z"
    }
   },
   "outputs": [],
   "execution_count": 50
  },
  {
   "cell_type": "code",
   "source": "sales.columns.tolist()",
   "metadata": {
    "collapsed": false,
    "ExecuteTime": {
     "end_time": "2025-07-12T12:59:57.915868Z",
     "start_time": "2025-07-12T12:59:57.911291Z"
    }
   },
   "outputs": [
    {
     "data": {
      "text/plain": [
       "['Order ID',\n",
       " 'Product',\n",
       " 'Purchase Address',\n",
       " 'Quantity_Ordered',\n",
       " 'Price_Each',\n",
       " 'Order_Date']"
      ]
     },
     "execution_count": 51,
     "metadata": {},
     "output_type": "execute_result"
    }
   ],
   "execution_count": 51
  },
  {
   "cell_type": "markdown",
   "metadata": {
    "pycharm": {
     "name": "#%% md\n"
    }
   },
   "source": [
    "### Dodavanje *Purchase_City* kolone\n",
    "\n",
    "Sad ćemo videti kako možemo da napravimo novu kolonu od postojeće.\n",
    "\n",
    "Pošto će nam kasnije biti potrebno da uporedimo prodaju po gradovima, dodaćemo kolonu sa nazivom grada u kome je porudžbina napravljena. Nakon imena grada treba da stoji oznaka države, data u zagradi (npr. „Atlanta (GA)“), da bi se omogućilo razlikovanje gradova sa istim nazivima.   "
   ]
  },
  {
   "cell_type": "markdown",
   "metadata": {
    "pycharm": {
     "name": "#%% md\n"
    }
   },
   "source": [
    "Uzećemo uzorak vrednosti kolone `Purchase Address` kako bismo se upoznali sa formatom u kome su adrese zapisane:"
   ]
  },
  {
   "cell_type": "code",
   "metadata": {
    "pycharm": {
     "name": "#%%\n"
    },
    "ExecuteTime": {
     "end_time": "2025-07-12T12:59:57.959122Z",
     "start_time": "2025-07-12T12:59:57.950686Z"
    }
   },
   "source": "sales['Purchase Address'].sample(10)",
   "outputs": [
    {
     "data": {
      "text/plain": [
       "153900          91 Chestnut St, Portland, OR 97035\n",
       "114905       101 Lincoln St, Los Angeles, CA 90001\n",
       "140403            547 Center St, Atlanta, GA 30301\n",
       "43291             679 North St, Portland, OR 97035\n",
       "97325     199 Lakeview St, San Francisco, CA 94016\n",
       "183494         618 2nd St, San Francisco, CA 94016\n",
       "123744            416 Johnson St, Dallas, TX 75001\n",
       "68823       429 Cherry St, San Francisco, CA 94016\n",
       "91812     702 Lakeview St, San Francisco, CA 94016\n",
       "174480           541 Chestnut St, Boston, MA 02215\n",
       "Name: Purchase Address, dtype: object"
      ]
     },
     "execution_count": 52,
     "metadata": {},
     "output_type": "execute_result"
    }
   ],
   "execution_count": 52
  },
  {
   "cell_type": "markdown",
   "metadata": {
    "pycharm": {
     "name": "#%% md\n"
    }
   },
   "source": [
    "Prvo ćemo kreirati funkciju koja izdvaja grad (i oznaku države) iz kolone `Purchase Address`: "
   ]
  },
  {
   "cell_type": "code",
   "metadata": {
    "pycharm": {
     "name": "#%%\n"
    },
    "ExecuteTime": {
     "end_time": "2025-07-12T12:59:58.023570Z",
     "start_time": "2025-07-12T12:59:58.020432Z"
    }
   },
   "source": [
    "def get_city_state(address: str) -> str:\n",
    "    _, city, state_zip = address.split(',')\n",
    "    state, _ = state_zip.split()\n",
    "    return f\"{city.strip()} ({state})\""
   ],
   "outputs": [],
   "execution_count": 53
  },
  {
   "cell_type": "code",
   "source": "get_city_state(sales['Purchase Address'][0])",
   "metadata": {
    "collapsed": false,
    "ExecuteTime": {
     "end_time": "2025-07-12T12:59:58.108828Z",
     "start_time": "2025-07-12T12:59:58.102034Z"
    }
   },
   "outputs": [
    {
     "data": {
      "text/plain": [
       "'New York City (NY)'"
      ]
     },
     "execution_count": 54,
     "metadata": {},
     "output_type": "execute_result"
    }
   ],
   "execution_count": 54
  },
  {
   "cell_type": "markdown",
   "metadata": {
    "pycharm": {
     "name": "#%% md\n"
    }
   },
   "source": [
    "Zatim ćemo koristeći `apply` metodu, primeniti `get_city_and_state()` f. na svaku vrednost serije `Purchase Address`. Ali, prvo ćemo isprobati na uzorku adresa:"
   ]
  },
  {
   "cell_type": "code",
   "metadata": {
    "pycharm": {
     "name": "#%%\n"
    },
    "ExecuteTime": {
     "end_time": "2025-07-12T12:59:58.166247Z",
     "start_time": "2025-07-12T12:59:58.160916Z"
    }
   },
   "source": "sales['Purchase Address'].sample(10).apply(get_city_state)",
   "outputs": [
    {
     "data": {
      "text/plain": [
       "73014     San Francisco (CA)\n",
       "46028            Boston (MA)\n",
       "105012           Austin (TX)\n",
       "141528          Seattle (WA)\n",
       "3369             Dallas (TX)\n",
       "47006       Los Angeles (CA)\n",
       "15901            Dallas (TX)\n",
       "24532          Portland (OR)\n",
       "17196     San Francisco (CA)\n",
       "180663    San Francisco (CA)\n",
       "Name: Purchase Address, dtype: object"
      ]
     },
     "execution_count": 55,
     "metadata": {},
     "output_type": "execute_result"
    }
   ],
   "execution_count": 55
  },
  {
   "cell_type": "markdown",
   "metadata": {
    "pycharm": {
     "name": "#%% md\n"
    }
   },
   "source": [
    "Sad možemo primenti funkciju na sve vrednosti kolone `Purchase Address`, kako bi kreirali novu kolonu - `Purchase_City`"
   ]
  },
  {
   "cell_type": "code",
   "metadata": {
    "pycharm": {
     "name": "#%%\n"
    },
    "ExecuteTime": {
     "end_time": "2025-07-12T12:59:58.304090Z",
     "start_time": "2025-07-12T12:59:58.250688Z"
    }
   },
   "source": "sales['Purchase_City'] = sales['Purchase Address'].apply(get_city_state)",
   "outputs": [],
   "execution_count": 56
  },
  {
   "cell_type": "code",
   "metadata": {
    "pycharm": {
     "name": "#%%\n"
    },
    "ExecuteTime": {
     "end_time": "2025-07-12T12:59:58.340343Z",
     "start_time": "2025-07-12T12:59:58.329890Z"
    }
   },
   "source": "sales[['Purchase Address', 'Purchase_City']].sample(20)",
   "outputs": [
    {
     "data": {
      "text/plain": [
       "                                  Purchase Address       Purchase_City\n",
       "114367        671 Lake St, New York City, NY 10001  New York City (NY)\n",
       "61140      598 Jackson St, New York City, NY 10001  New York City (NY)\n",
       "19474                 826 5th St, Austin, TX 73301         Austin (TX)\n",
       "117377     858 Hickory St, San Francisco, CA 94016  San Francisco (CA)\n",
       "101272             211 Wilson St, Boston, MA 02215         Boston (MA)\n",
       "123600             198 Forest St, Austin, TX 73301         Austin (TX)\n",
       "20479                 275 Elm St, Boston, MA 02215         Boston (MA)\n",
       "90254                385 9th St, Seattle, WA 98101        Seattle (WA)\n",
       "176870    506 Highland St, New York City, NY 10001  New York City (NY)\n",
       "121712  661 Washington St, New York City, NY 10001  New York City (NY)\n",
       "162541     330 Jefferson St, Los Angeles, CA 90001    Los Angeles (CA)\n",
       "130861                980 7th St, Dallas, TX 75001         Dallas (TX)\n",
       "16644          301 2nd St, San Francisco, CA 94016  San Francisco (CA)\n",
       "53564     815 Chestnut St, San Francisco, CA 94016  San Francisco (CA)\n",
       "73022         320 Park St, San Francisco, CA 94016  San Francisco (CA)\n",
       "102158         695 1st St, San Francisco, CA 94016  San Francisco (CA)\n",
       "130191        395 10th St, San Francisco, CA 94016  San Francisco (CA)\n",
       "127                413 Forest St, Boston, MA 02215         Boston (MA)\n",
       "2761      158 Washington St, Los Angeles, CA 90001    Los Angeles (CA)\n",
       "140623         522 6th St, New York City, NY 10001  New York City (NY)"
      ],
      "text/html": [
       "<div>\n",
       "<style scoped>\n",
       "    .dataframe tbody tr th:only-of-type {\n",
       "        vertical-align: middle;\n",
       "    }\n",
       "\n",
       "    .dataframe tbody tr th {\n",
       "        vertical-align: top;\n",
       "    }\n",
       "\n",
       "    .dataframe thead th {\n",
       "        text-align: right;\n",
       "    }\n",
       "</style>\n",
       "<table border=\"1\" class=\"dataframe\">\n",
       "  <thead>\n",
       "    <tr style=\"text-align: right;\">\n",
       "      <th></th>\n",
       "      <th>Purchase Address</th>\n",
       "      <th>Purchase_City</th>\n",
       "    </tr>\n",
       "  </thead>\n",
       "  <tbody>\n",
       "    <tr>\n",
       "      <th>114367</th>\n",
       "      <td>671 Lake St, New York City, NY 10001</td>\n",
       "      <td>New York City (NY)</td>\n",
       "    </tr>\n",
       "    <tr>\n",
       "      <th>61140</th>\n",
       "      <td>598 Jackson St, New York City, NY 10001</td>\n",
       "      <td>New York City (NY)</td>\n",
       "    </tr>\n",
       "    <tr>\n",
       "      <th>19474</th>\n",
       "      <td>826 5th St, Austin, TX 73301</td>\n",
       "      <td>Austin (TX)</td>\n",
       "    </tr>\n",
       "    <tr>\n",
       "      <th>117377</th>\n",
       "      <td>858 Hickory St, San Francisco, CA 94016</td>\n",
       "      <td>San Francisco (CA)</td>\n",
       "    </tr>\n",
       "    <tr>\n",
       "      <th>101272</th>\n",
       "      <td>211 Wilson St, Boston, MA 02215</td>\n",
       "      <td>Boston (MA)</td>\n",
       "    </tr>\n",
       "    <tr>\n",
       "      <th>123600</th>\n",
       "      <td>198 Forest St, Austin, TX 73301</td>\n",
       "      <td>Austin (TX)</td>\n",
       "    </tr>\n",
       "    <tr>\n",
       "      <th>20479</th>\n",
       "      <td>275 Elm St, Boston, MA 02215</td>\n",
       "      <td>Boston (MA)</td>\n",
       "    </tr>\n",
       "    <tr>\n",
       "      <th>90254</th>\n",
       "      <td>385 9th St, Seattle, WA 98101</td>\n",
       "      <td>Seattle (WA)</td>\n",
       "    </tr>\n",
       "    <tr>\n",
       "      <th>176870</th>\n",
       "      <td>506 Highland St, New York City, NY 10001</td>\n",
       "      <td>New York City (NY)</td>\n",
       "    </tr>\n",
       "    <tr>\n",
       "      <th>121712</th>\n",
       "      <td>661 Washington St, New York City, NY 10001</td>\n",
       "      <td>New York City (NY)</td>\n",
       "    </tr>\n",
       "    <tr>\n",
       "      <th>162541</th>\n",
       "      <td>330 Jefferson St, Los Angeles, CA 90001</td>\n",
       "      <td>Los Angeles (CA)</td>\n",
       "    </tr>\n",
       "    <tr>\n",
       "      <th>130861</th>\n",
       "      <td>980 7th St, Dallas, TX 75001</td>\n",
       "      <td>Dallas (TX)</td>\n",
       "    </tr>\n",
       "    <tr>\n",
       "      <th>16644</th>\n",
       "      <td>301 2nd St, San Francisco, CA 94016</td>\n",
       "      <td>San Francisco (CA)</td>\n",
       "    </tr>\n",
       "    <tr>\n",
       "      <th>53564</th>\n",
       "      <td>815 Chestnut St, San Francisco, CA 94016</td>\n",
       "      <td>San Francisco (CA)</td>\n",
       "    </tr>\n",
       "    <tr>\n",
       "      <th>73022</th>\n",
       "      <td>320 Park St, San Francisco, CA 94016</td>\n",
       "      <td>San Francisco (CA)</td>\n",
       "    </tr>\n",
       "    <tr>\n",
       "      <th>102158</th>\n",
       "      <td>695 1st St, San Francisco, CA 94016</td>\n",
       "      <td>San Francisco (CA)</td>\n",
       "    </tr>\n",
       "    <tr>\n",
       "      <th>130191</th>\n",
       "      <td>395 10th St, San Francisco, CA 94016</td>\n",
       "      <td>San Francisco (CA)</td>\n",
       "    </tr>\n",
       "    <tr>\n",
       "      <th>127</th>\n",
       "      <td>413 Forest St, Boston, MA 02215</td>\n",
       "      <td>Boston (MA)</td>\n",
       "    </tr>\n",
       "    <tr>\n",
       "      <th>2761</th>\n",
       "      <td>158 Washington St, Los Angeles, CA 90001</td>\n",
       "      <td>Los Angeles (CA)</td>\n",
       "    </tr>\n",
       "    <tr>\n",
       "      <th>140623</th>\n",
       "      <td>522 6th St, New York City, NY 10001</td>\n",
       "      <td>New York City (NY)</td>\n",
       "    </tr>\n",
       "  </tbody>\n",
       "</table>\n",
       "</div>"
      ]
     },
     "execution_count": 57,
     "metadata": {},
     "output_type": "execute_result"
    }
   ],
   "execution_count": 57
  },
  {
   "cell_type": "markdown",
   "source": [
    "Sačuvaćemo transformisani dataset u fajl:"
   ],
   "metadata": {
    "collapsed": false
   }
  },
  {
   "cell_type": "code",
   "source": [
    "processed_data_dir = DATA_DIR / 'processed_data'\n",
    "processed_data_dir.mkdir(parents=True, exist_ok=True)"
   ],
   "metadata": {
    "collapsed": false,
    "ExecuteTime": {
     "end_time": "2025-07-12T12:59:58.408239Z",
     "start_time": "2025-07-12T12:59:58.406002Z"
    }
   },
   "outputs": [],
   "execution_count": 58
  },
  {
   "metadata": {
    "ExecuteTime": {
     "end_time": "2025-07-12T12:59:58.866945Z",
     "start_time": "2025-07-12T12:59:58.458826Z"
    }
   },
   "cell_type": "code",
   "source": "sales.to_csv(processed_data_dir / 'sales_2019.csv', index=False)",
   "outputs": [],
   "execution_count": 59
  },
  {
   "cell_type": "markdown",
   "metadata": {
    "pycharm": {
     "name": "#%% md\n"
    }
   },
   "source": [
    "## Eksploratorna analiza podataka\n",
    "\n",
    "Sada ćemo pokušati da odgovorimo na neka pitanja vezana za ostvarenu prodaju u 2019. godini, kroz eksploratornu analizu `sales` dataseta"
   ]
  },
  {
   "metadata": {
    "ExecuteTime": {
     "end_time": "2025-07-12T12:59:59.256054Z",
     "start_time": "2025-07-12T12:59:58.905025Z"
    }
   },
   "cell_type": "code",
   "source": [
    "from pathlib import Path\n",
    "\n",
    "import matplotlib.pyplot as plt\n",
    "\n",
    "import pandas as pd"
   ],
   "outputs": [],
   "execution_count": 60
  },
  {
   "metadata": {
    "ExecuteTime": {
     "end_time": "2025-07-12T12:59:59.456803Z",
     "start_time": "2025-07-12T12:59:59.265965Z"
    }
   },
   "cell_type": "code",
   "source": "sales = pd.read_csv(Path.cwd() / 'data' / 'sales_data' / 'processed_data' / 'sales_2019.csv', parse_dates=['Order_Date'])",
   "outputs": [],
   "execution_count": 61
  },
  {
   "metadata": {
    "ExecuteTime": {
     "end_time": "2025-07-12T12:59:59.473024Z",
     "start_time": "2025-07-12T12:59:59.468108Z"
    }
   },
   "cell_type": "code",
   "source": "sales.head(10)",
   "outputs": [
    {
     "data": {
      "text/plain": [
       "   Order ID                     Product  \\\n",
       "0    295665          Macbook Pro Laptop   \n",
       "1    295666          LG Washing Machine   \n",
       "2    295667        USB-C Charging Cable   \n",
       "3    295668            27in FHD Monitor   \n",
       "4    295669        USB-C Charging Cable   \n",
       "5    295670       AA Batteries (4-pack)   \n",
       "6    295671        USB-C Charging Cable   \n",
       "7    295672        USB-C Charging Cable   \n",
       "8    295673  Bose SoundSport Headphones   \n",
       "9    295674      AAA Batteries (4-pack)   \n",
       "\n",
       "                            Purchase Address  Quantity_Ordered  Price_Each  \\\n",
       "0     136 Church St, New York City, NY 10001               1.0     1700.00   \n",
       "1        562 2nd St, New York City, NY 10001               1.0      600.00   \n",
       "2       277 Main St, New York City, NY 10001               1.0       11.95   \n",
       "3        410 6th St, San Francisco, CA 94016               1.0      149.99   \n",
       "4              43 Hill St, Atlanta, GA 30301               1.0       11.95   \n",
       "5  200 Jefferson St, New York City, NY 10001               1.0        3.84   \n",
       "6            928 12th St, Portland, OR 97035               1.0       11.95   \n",
       "7           813 Hickory St, Dallas, TX 75001               2.0       11.95   \n",
       "8            718 Wilson St, Dallas, TX 75001               1.0       99.99   \n",
       "9                77 7th St, Dallas, TX 75001               4.0        2.99   \n",
       "\n",
       "           Order_Date       Purchase_City  \n",
       "0 2019-12-30 00:01:00  New York City (NY)  \n",
       "1 2019-12-29 07:03:00  New York City (NY)  \n",
       "2 2019-12-12 18:21:00  New York City (NY)  \n",
       "3 2019-12-22 15:13:00  San Francisco (CA)  \n",
       "4 2019-12-18 12:38:00        Atlanta (GA)  \n",
       "5 2019-12-31 22:58:00  New York City (NY)  \n",
       "6 2019-12-16 15:10:00       Portland (OR)  \n",
       "7 2019-12-13 09:29:00         Dallas (TX)  \n",
       "8 2019-12-15 23:26:00         Dallas (TX)  \n",
       "9 2019-12-28 11:51:00         Dallas (TX)  "
      ],
      "text/html": [
       "<div>\n",
       "<style scoped>\n",
       "    .dataframe tbody tr th:only-of-type {\n",
       "        vertical-align: middle;\n",
       "    }\n",
       "\n",
       "    .dataframe tbody tr th {\n",
       "        vertical-align: top;\n",
       "    }\n",
       "\n",
       "    .dataframe thead th {\n",
       "        text-align: right;\n",
       "    }\n",
       "</style>\n",
       "<table border=\"1\" class=\"dataframe\">\n",
       "  <thead>\n",
       "    <tr style=\"text-align: right;\">\n",
       "      <th></th>\n",
       "      <th>Order ID</th>\n",
       "      <th>Product</th>\n",
       "      <th>Purchase Address</th>\n",
       "      <th>Quantity_Ordered</th>\n",
       "      <th>Price_Each</th>\n",
       "      <th>Order_Date</th>\n",
       "      <th>Purchase_City</th>\n",
       "    </tr>\n",
       "  </thead>\n",
       "  <tbody>\n",
       "    <tr>\n",
       "      <th>0</th>\n",
       "      <td>295665</td>\n",
       "      <td>Macbook Pro Laptop</td>\n",
       "      <td>136 Church St, New York City, NY 10001</td>\n",
       "      <td>1.0</td>\n",
       "      <td>1700.00</td>\n",
       "      <td>2019-12-30 00:01:00</td>\n",
       "      <td>New York City (NY)</td>\n",
       "    </tr>\n",
       "    <tr>\n",
       "      <th>1</th>\n",
       "      <td>295666</td>\n",
       "      <td>LG Washing Machine</td>\n",
       "      <td>562 2nd St, New York City, NY 10001</td>\n",
       "      <td>1.0</td>\n",
       "      <td>600.00</td>\n",
       "      <td>2019-12-29 07:03:00</td>\n",
       "      <td>New York City (NY)</td>\n",
       "    </tr>\n",
       "    <tr>\n",
       "      <th>2</th>\n",
       "      <td>295667</td>\n",
       "      <td>USB-C Charging Cable</td>\n",
       "      <td>277 Main St, New York City, NY 10001</td>\n",
       "      <td>1.0</td>\n",
       "      <td>11.95</td>\n",
       "      <td>2019-12-12 18:21:00</td>\n",
       "      <td>New York City (NY)</td>\n",
       "    </tr>\n",
       "    <tr>\n",
       "      <th>3</th>\n",
       "      <td>295668</td>\n",
       "      <td>27in FHD Monitor</td>\n",
       "      <td>410 6th St, San Francisco, CA 94016</td>\n",
       "      <td>1.0</td>\n",
       "      <td>149.99</td>\n",
       "      <td>2019-12-22 15:13:00</td>\n",
       "      <td>San Francisco (CA)</td>\n",
       "    </tr>\n",
       "    <tr>\n",
       "      <th>4</th>\n",
       "      <td>295669</td>\n",
       "      <td>USB-C Charging Cable</td>\n",
       "      <td>43 Hill St, Atlanta, GA 30301</td>\n",
       "      <td>1.0</td>\n",
       "      <td>11.95</td>\n",
       "      <td>2019-12-18 12:38:00</td>\n",
       "      <td>Atlanta (GA)</td>\n",
       "    </tr>\n",
       "    <tr>\n",
       "      <th>5</th>\n",
       "      <td>295670</td>\n",
       "      <td>AA Batteries (4-pack)</td>\n",
       "      <td>200 Jefferson St, New York City, NY 10001</td>\n",
       "      <td>1.0</td>\n",
       "      <td>3.84</td>\n",
       "      <td>2019-12-31 22:58:00</td>\n",
       "      <td>New York City (NY)</td>\n",
       "    </tr>\n",
       "    <tr>\n",
       "      <th>6</th>\n",
       "      <td>295671</td>\n",
       "      <td>USB-C Charging Cable</td>\n",
       "      <td>928 12th St, Portland, OR 97035</td>\n",
       "      <td>1.0</td>\n",
       "      <td>11.95</td>\n",
       "      <td>2019-12-16 15:10:00</td>\n",
       "      <td>Portland (OR)</td>\n",
       "    </tr>\n",
       "    <tr>\n",
       "      <th>7</th>\n",
       "      <td>295672</td>\n",
       "      <td>USB-C Charging Cable</td>\n",
       "      <td>813 Hickory St, Dallas, TX 75001</td>\n",
       "      <td>2.0</td>\n",
       "      <td>11.95</td>\n",
       "      <td>2019-12-13 09:29:00</td>\n",
       "      <td>Dallas (TX)</td>\n",
       "    </tr>\n",
       "    <tr>\n",
       "      <th>8</th>\n",
       "      <td>295673</td>\n",
       "      <td>Bose SoundSport Headphones</td>\n",
       "      <td>718 Wilson St, Dallas, TX 75001</td>\n",
       "      <td>1.0</td>\n",
       "      <td>99.99</td>\n",
       "      <td>2019-12-15 23:26:00</td>\n",
       "      <td>Dallas (TX)</td>\n",
       "    </tr>\n",
       "    <tr>\n",
       "      <th>9</th>\n",
       "      <td>295674</td>\n",
       "      <td>AAA Batteries (4-pack)</td>\n",
       "      <td>77 7th St, Dallas, TX 75001</td>\n",
       "      <td>4.0</td>\n",
       "      <td>2.99</td>\n",
       "      <td>2019-12-28 11:51:00</td>\n",
       "      <td>Dallas (TX)</td>\n",
       "    </tr>\n",
       "  </tbody>\n",
       "</table>\n",
       "</div>"
      ]
     },
     "execution_count": 62,
     "metadata": {},
     "output_type": "execute_result"
    }
   ],
   "execution_count": 62
  },
  {
   "metadata": {
    "ExecuteTime": {
     "end_time": "2025-07-12T12:59:59.520495Z",
     "start_time": "2025-07-12T12:59:59.505836Z"
    }
   },
   "cell_type": "code",
   "source": "sales.info()",
   "outputs": [
    {
     "name": "stdout",
     "output_type": "stream",
     "text": [
      "<class 'pandas.core.frame.DataFrame'>\n",
      "RangeIndex: 185950 entries, 0 to 185949\n",
      "Data columns (total 7 columns):\n",
      " #   Column            Non-Null Count   Dtype         \n",
      "---  ------            --------------   -----         \n",
      " 0   Order ID          185950 non-null  int64         \n",
      " 1   Product           185950 non-null  object        \n",
      " 2   Purchase Address  185950 non-null  object        \n",
      " 3   Quantity_Ordered  185950 non-null  float64       \n",
      " 4   Price_Each        185950 non-null  float64       \n",
      " 5   Order_Date        185950 non-null  datetime64[ns]\n",
      " 6   Purchase_City     185950 non-null  object        \n",
      "dtypes: datetime64[ns](1), float64(2), int64(1), object(3)\n",
      "memory usage: 9.9+ MB\n"
     ]
    }
   ],
   "execution_count": 63
  },
  {
   "cell_type": "markdown",
   "metadata": {
    "pycharm": {
     "name": "#%% md\n"
    }
   },
   "source": [
    "### Zadatak 1. Koji je bio najbolji mesec za prodaju? Kolika zarada je ostvarena tog meseca?\n",
    "\n",
    "Da bismo odgovorili na ovo pitanje, potrebno je da:\n",
    "- izračunamo ukupan prihod po porudžbini\n",
    "- izdvojimo mesec iz datuma porudžbine, tako da možemo grupisati porudžbine na mesečnoj osnovi\n",
    "- izračunamo ukupan prihod na mesečnom nivou"
   ]
  },
  {
   "cell_type": "markdown",
   "metadata": {
    "pycharm": {
     "name": "#%% md\n"
    }
   },
   "source": [
    "**Korak 1**: Izračunavanje ukupnog prihoda po porudžbini"
   ]
  },
  {
   "cell_type": "code",
   "metadata": {
    "pycharm": {
     "name": "#%%\n"
    },
    "ExecuteTime": {
     "end_time": "2025-07-12T12:59:59.580489Z",
     "start_time": "2025-07-12T12:59:59.577373Z"
    }
   },
   "source": "sales['Total_Revenue'] = sales.Quantity_Ordered * sales.Price_Each",
   "outputs": [],
   "execution_count": 64
  },
  {
   "metadata": {
    "ExecuteTime": {
     "end_time": "2025-07-12T12:59:59.633497Z",
     "start_time": "2025-07-12T12:59:59.626660Z"
    }
   },
   "cell_type": "code",
   "source": "sales[['Total_Revenue', 'Quantity_Ordered', 'Price_Each']].sample(10)",
   "outputs": [
    {
     "data": {
      "text/plain": [
       "        Total_Revenue  Quantity_Ordered  Price_Each\n",
       "42498           11.95               1.0       11.95\n",
       "112195           2.99               1.0        2.99\n",
       "48558           11.99               1.0       11.99\n",
       "172009         149.99               1.0      149.99\n",
       "66143           99.99               1.0       99.99\n",
       "109504          11.99               1.0       11.99\n",
       "5771           109.99               1.0      109.99\n",
       "34544            3.84               1.0        3.84\n",
       "73632           99.99               1.0       99.99\n",
       "88127            3.84               1.0        3.84"
      ],
      "text/html": [
       "<div>\n",
       "<style scoped>\n",
       "    .dataframe tbody tr th:only-of-type {\n",
       "        vertical-align: middle;\n",
       "    }\n",
       "\n",
       "    .dataframe tbody tr th {\n",
       "        vertical-align: top;\n",
       "    }\n",
       "\n",
       "    .dataframe thead th {\n",
       "        text-align: right;\n",
       "    }\n",
       "</style>\n",
       "<table border=\"1\" class=\"dataframe\">\n",
       "  <thead>\n",
       "    <tr style=\"text-align: right;\">\n",
       "      <th></th>\n",
       "      <th>Total_Revenue</th>\n",
       "      <th>Quantity_Ordered</th>\n",
       "      <th>Price_Each</th>\n",
       "    </tr>\n",
       "  </thead>\n",
       "  <tbody>\n",
       "    <tr>\n",
       "      <th>42498</th>\n",
       "      <td>11.95</td>\n",
       "      <td>1.0</td>\n",
       "      <td>11.95</td>\n",
       "    </tr>\n",
       "    <tr>\n",
       "      <th>112195</th>\n",
       "      <td>2.99</td>\n",
       "      <td>1.0</td>\n",
       "      <td>2.99</td>\n",
       "    </tr>\n",
       "    <tr>\n",
       "      <th>48558</th>\n",
       "      <td>11.99</td>\n",
       "      <td>1.0</td>\n",
       "      <td>11.99</td>\n",
       "    </tr>\n",
       "    <tr>\n",
       "      <th>172009</th>\n",
       "      <td>149.99</td>\n",
       "      <td>1.0</td>\n",
       "      <td>149.99</td>\n",
       "    </tr>\n",
       "    <tr>\n",
       "      <th>66143</th>\n",
       "      <td>99.99</td>\n",
       "      <td>1.0</td>\n",
       "      <td>99.99</td>\n",
       "    </tr>\n",
       "    <tr>\n",
       "      <th>109504</th>\n",
       "      <td>11.99</td>\n",
       "      <td>1.0</td>\n",
       "      <td>11.99</td>\n",
       "    </tr>\n",
       "    <tr>\n",
       "      <th>5771</th>\n",
       "      <td>109.99</td>\n",
       "      <td>1.0</td>\n",
       "      <td>109.99</td>\n",
       "    </tr>\n",
       "    <tr>\n",
       "      <th>34544</th>\n",
       "      <td>3.84</td>\n",
       "      <td>1.0</td>\n",
       "      <td>3.84</td>\n",
       "    </tr>\n",
       "    <tr>\n",
       "      <th>73632</th>\n",
       "      <td>99.99</td>\n",
       "      <td>1.0</td>\n",
       "      <td>99.99</td>\n",
       "    </tr>\n",
       "    <tr>\n",
       "      <th>88127</th>\n",
       "      <td>3.84</td>\n",
       "      <td>1.0</td>\n",
       "      <td>3.84</td>\n",
       "    </tr>\n",
       "  </tbody>\n",
       "</table>\n",
       "</div>"
      ]
     },
     "execution_count": 65,
     "metadata": {},
     "output_type": "execute_result"
    }
   ],
   "execution_count": 65
  },
  {
   "cell_type": "markdown",
   "metadata": {
    "pycharm": {
     "name": "#%% md\n"
    }
   },
   "source": [
    "**Korak 2**: Izdvajanje meseca iz datuma porudžbine (`Order_Date`)\n",
    "\n",
    "S obzirom da je `Order_Date` pandas serija tipa datetime, možemo koristiti `dt` da bismo dobili pristup svakoj vrednosti u seriji kao datetime objektu. \n",
    "\n",
    "Kad imamo pristup datumu porudžbine kao datetime objektu, možemo uzeti bilo koji element datuma (godina, mesec, dan, itd.) i vremena porudžbine kroz odgovarajuća polja objekta."
   ]
  },
  {
   "cell_type": "code",
   "metadata": {
    "pycharm": {
     "name": "#%%\n"
    },
    "ExecuteTime": {
     "end_time": "2025-07-12T12:59:59.720183Z",
     "start_time": "2025-07-12T12:59:59.715673Z"
    }
   },
   "source": "sales['Order_Month'] = sales.Order_Date.dt.month",
   "outputs": [],
   "execution_count": 66
  },
  {
   "cell_type": "code",
   "metadata": {
    "pycharm": {
     "name": "#%%\n"
    },
    "ExecuteTime": {
     "end_time": "2025-07-12T12:59:59.784783Z",
     "start_time": "2025-07-12T12:59:59.777895Z"
    }
   },
   "source": "sales[['Order_Date', 'Order_Month']].sample(10)",
   "outputs": [
    {
     "data": {
      "text/plain": [
       "                Order_Date  Order_Month\n",
       "156541 2019-09-15 10:08:00            9\n",
       "76518  2019-08-20 11:58:00            8\n",
       "33485  2019-04-20 20:35:00            4\n",
       "72758  2019-08-05 14:16:00            8\n",
       "138007 2019-01-27 09:27:00            1\n",
       "48973  2019-02-23 07:18:00            2\n",
       "76871  2019-08-26 22:14:00            8\n",
       "3215   2019-12-27 08:58:00           12\n",
       "71495  2019-08-23 13:42:00            8\n",
       "80363  2019-08-14 00:06:00            8"
      ],
      "text/html": [
       "<div>\n",
       "<style scoped>\n",
       "    .dataframe tbody tr th:only-of-type {\n",
       "        vertical-align: middle;\n",
       "    }\n",
       "\n",
       "    .dataframe tbody tr th {\n",
       "        vertical-align: top;\n",
       "    }\n",
       "\n",
       "    .dataframe thead th {\n",
       "        text-align: right;\n",
       "    }\n",
       "</style>\n",
       "<table border=\"1\" class=\"dataframe\">\n",
       "  <thead>\n",
       "    <tr style=\"text-align: right;\">\n",
       "      <th></th>\n",
       "      <th>Order_Date</th>\n",
       "      <th>Order_Month</th>\n",
       "    </tr>\n",
       "  </thead>\n",
       "  <tbody>\n",
       "    <tr>\n",
       "      <th>156541</th>\n",
       "      <td>2019-09-15 10:08:00</td>\n",
       "      <td>9</td>\n",
       "    </tr>\n",
       "    <tr>\n",
       "      <th>76518</th>\n",
       "      <td>2019-08-20 11:58:00</td>\n",
       "      <td>8</td>\n",
       "    </tr>\n",
       "    <tr>\n",
       "      <th>33485</th>\n",
       "      <td>2019-04-20 20:35:00</td>\n",
       "      <td>4</td>\n",
       "    </tr>\n",
       "    <tr>\n",
       "      <th>72758</th>\n",
       "      <td>2019-08-05 14:16:00</td>\n",
       "      <td>8</td>\n",
       "    </tr>\n",
       "    <tr>\n",
       "      <th>138007</th>\n",
       "      <td>2019-01-27 09:27:00</td>\n",
       "      <td>1</td>\n",
       "    </tr>\n",
       "    <tr>\n",
       "      <th>48973</th>\n",
       "      <td>2019-02-23 07:18:00</td>\n",
       "      <td>2</td>\n",
       "    </tr>\n",
       "    <tr>\n",
       "      <th>76871</th>\n",
       "      <td>2019-08-26 22:14:00</td>\n",
       "      <td>8</td>\n",
       "    </tr>\n",
       "    <tr>\n",
       "      <th>3215</th>\n",
       "      <td>2019-12-27 08:58:00</td>\n",
       "      <td>12</td>\n",
       "    </tr>\n",
       "    <tr>\n",
       "      <th>71495</th>\n",
       "      <td>2019-08-23 13:42:00</td>\n",
       "      <td>8</td>\n",
       "    </tr>\n",
       "    <tr>\n",
       "      <th>80363</th>\n",
       "      <td>2019-08-14 00:06:00</td>\n",
       "      <td>8</td>\n",
       "    </tr>\n",
       "  </tbody>\n",
       "</table>\n",
       "</div>"
      ]
     },
     "execution_count": 67,
     "metadata": {},
     "output_type": "execute_result"
    }
   ],
   "execution_count": 67
  },
  {
   "cell_type": "markdown",
   "metadata": {
    "pycharm": {
     "name": "#%% md\n"
    }
   },
   "source": [
    "**Korak 3**: Izračunavanje ukupnog prihoda za svaki mesec"
   ]
  },
  {
   "cell_type": "code",
   "metadata": {
    "pycharm": {
     "name": "#%%\n"
    },
    "ExecuteTime": {
     "end_time": "2025-07-12T12:59:59.867531Z",
     "start_time": "2025-07-12T12:59:59.861379Z"
    }
   },
   "source": [
    "revenue_per_month = sales.groupby('Order_Month').Total_Revenue.sum()\n",
    "revenue_per_month"
   ],
   "outputs": [
    {
     "data": {
      "text/plain": [
       "Order_Month\n",
       "1     1822256.73\n",
       "2     2202022.42\n",
       "3     2807100.38\n",
       "4     3390670.24\n",
       "5     3152606.75\n",
       "6     2577802.26\n",
       "7     2647775.76\n",
       "8     2244467.88\n",
       "9     2097560.13\n",
       "10    3736726.88\n",
       "11    3199603.20\n",
       "12    4613443.34\n",
       "Name: Total_Revenue, dtype: float64"
      ]
     },
     "execution_count": 68,
     "metadata": {},
     "output_type": "execute_result"
    }
   ],
   "execution_count": 68
  },
  {
   "cell_type": "markdown",
   "metadata": {
    "pycharm": {
     "name": "#%% md\n"
    }
   },
   "source": [
    "Sortiranje rezultata u opdajućem redosledu ukupnog mesečnog prihoda"
   ]
  },
  {
   "cell_type": "code",
   "metadata": {
    "pycharm": {
     "name": "#%%\n"
    },
    "ExecuteTime": {
     "end_time": "2025-07-12T12:59:59.950190Z",
     "start_time": "2025-07-12T12:59:59.947398Z"
    }
   },
   "source": "revenue_per_month.sort_values(ascending=False)",
   "outputs": [
    {
     "data": {
      "text/plain": [
       "Order_Month\n",
       "12    4613443.34\n",
       "10    3736726.88\n",
       "4     3390670.24\n",
       "11    3199603.20\n",
       "5     3152606.75\n",
       "3     2807100.38\n",
       "7     2647775.76\n",
       "6     2577802.26\n",
       "8     2244467.88\n",
       "2     2202022.42\n",
       "9     2097560.13\n",
       "1     1822256.73\n",
       "Name: Total_Revenue, dtype: float64"
      ]
     },
     "execution_count": 69,
     "metadata": {},
     "output_type": "execute_result"
    }
   ],
   "execution_count": 69
  },
  {
   "cell_type": "markdown",
   "metadata": {
    "pycharm": {
     "name": "#%% md\n"
    }
   },
   "source": [
    "Možemo predstaviti i sagledati mesečne prihode na (bar) plotu, pošto vizuelno predstavljanje podataka često olakšava razumevanje trendova koji mogu biti prisutni u podacima.\n",
    "\n",
    "Za kreiranje plota, koristićemo Matplotlib bibliotetku, čiju dokumentaciju možete naći [ovde](https://matplotlib.org/3.5.3/api/_as_gen/matplotlib.pyplot.html), dok [ovaj primer](https://matplotlib.org/stable/gallery/lines_bars_and_markers/bar_colors.html#sphx-glr-gallery-lines-bars-and-markers-bar-colors-py) može poslužiti kao dobra polazna osnova za konkretni zadatak vizuelizacije koji imamo.\n",
    "\n",
    "Napomena: Na [ovom GitHub repozitorijumu](https://github.com/matplotlib/cheatsheets) možete naći dobro urađene cheat sheets i savete za korišćenje Mathplotlib bliblioteke."
   ]
  },
  {
   "cell_type": "code",
   "metadata": {
    "pycharm": {
     "name": "#%%\n"
    },
    "ExecuteTime": {
     "end_time": "2025-07-12T13:00:00.238157Z",
     "start_time": "2025-07-12T13:00:00.103300Z"
    }
   },
   "source": [
    "x = revenue_per_month.index.tolist()\n",
    "y = revenue_per_month.values.tolist()\n",
    "\n",
    "fig, ax = plt.subplots()\n",
    "ax.bar(x, y)\n",
    "ax.set_xlabel('Months')\n",
    "ax.set_ylabel('Total revenue in million USD')\n",
    "ax.set_title('Total monthly revenue')\n",
    "ax.set_xticks(range(1,13))\n",
    "\n",
    "plt.show()"
   ],
   "outputs": [
    {
     "data": {
      "text/plain": [
       "<Figure size 640x480 with 1 Axes>"
      ],
      "image/png": "[encoded data removed]"
     },
     "metadata": {},
     "output_type": "display_data"
    }
   ],
   "execution_count": 70
  },
  {
   "cell_type": "markdown",
   "metadata": {
    "pycharm": {
     "name": "#%% md\n"
    }
   },
   "source": [
    "### Zadatak 2. Iz kog grada je naručeno najviše proizvoda?\n",
    "\n",
    "Za potrebe ovog zadatka, grupisaćemo porudžbine prema gradu iz koga dolaze i sumirati broj porudžbina iz svakog grada:"
   ]
  },
  {
   "cell_type": "code",
   "metadata": {
    "pycharm": {
     "name": "#%%\n"
    },
    "ExecuteTime": {
     "end_time": "2025-07-12T13:00:00.381984Z",
     "start_time": "2025-07-12T13:00:00.377185Z"
    }
   },
   "source": "sales.head(10)",
   "outputs": [
    {
     "data": {
      "text/plain": [
       "   Order ID                     Product  \\\n",
       "0    295665          Macbook Pro Laptop   \n",
       "1    295666          LG Washing Machine   \n",
       "2    295667        USB-C Charging Cable   \n",
       "3    295668            27in FHD Monitor   \n",
       "4    295669        USB-C Charging Cable   \n",
       "5    295670       AA Batteries (4-pack)   \n",
       "6    295671        USB-C Charging Cable   \n",
       "7    295672        USB-C Charging Cable   \n",
       "8    295673  Bose SoundSport Headphones   \n",
       "9    295674      AAA Batteries (4-pack)   \n",
       "\n",
       "                            Purchase Address  Quantity_Ordered  Price_Each  \\\n",
       "0     136 Church St, New York City, NY 10001               1.0     1700.00   \n",
       "1        562 2nd St, New York City, NY 10001               1.0      600.00   \n",
       "2       277 Main St, New York City, NY 10001               1.0       11.95   \n",
       "3        410 6th St, San Francisco, CA 94016               1.0      149.99   \n",
       "4              43 Hill St, Atlanta, GA 30301               1.0       11.95   \n",
       "5  200 Jefferson St, New York City, NY 10001               1.0        3.84   \n",
       "6            928 12th St, Portland, OR 97035               1.0       11.95   \n",
       "7           813 Hickory St, Dallas, TX 75001               2.0       11.95   \n",
       "8            718 Wilson St, Dallas, TX 75001               1.0       99.99   \n",
       "9                77 7th St, Dallas, TX 75001               4.0        2.99   \n",
       "\n",
       "           Order_Date       Purchase_City  Total_Revenue  Order_Month  \n",
       "0 2019-12-30 00:01:00  New York City (NY)        1700.00           12  \n",
       "1 2019-12-29 07:03:00  New York City (NY)         600.00           12  \n",
       "2 2019-12-12 18:21:00  New York City (NY)          11.95           12  \n",
       "3 2019-12-22 15:13:00  San Francisco (CA)         149.99           12  \n",
       "4 2019-12-18 12:38:00        Atlanta (GA)          11.95           12  \n",
       "5 2019-12-31 22:58:00  New York City (NY)           3.84           12  \n",
       "6 2019-12-16 15:10:00       Portland (OR)          11.95           12  \n",
       "7 2019-12-13 09:29:00         Dallas (TX)          23.90           12  \n",
       "8 2019-12-15 23:26:00         Dallas (TX)          99.99           12  \n",
       "9 2019-12-28 11:51:00         Dallas (TX)          11.96           12  "
      ],
      "text/html": [
       "<div>\n",
       "<style scoped>\n",
       "    .dataframe tbody tr th:only-of-type {\n",
       "        vertical-align: middle;\n",
       "    }\n",
       "\n",
       "    .dataframe tbody tr th {\n",
       "        vertical-align: top;\n",
       "    }\n",
       "\n",
       "    .dataframe thead th {\n",
       "        text-align: right;\n",
       "    }\n",
       "</style>\n",
       "<table border=\"1\" class=\"dataframe\">\n",
       "  <thead>\n",
       "    <tr style=\"text-align: right;\">\n",
       "      <th></th>\n",
       "      <th>Order ID</th>\n",
       "      <th>Product</th>\n",
       "      <th>Purchase Address</th>\n",
       "      <th>Quantity_Ordered</th>\n",
       "      <th>Price_Each</th>\n",
       "      <th>Order_Date</th>\n",
       "      <th>Purchase_City</th>\n",
       "      <th>Total_Revenue</th>\n",
       "      <th>Order_Month</th>\n",
       "    </tr>\n",
       "  </thead>\n",
       "  <tbody>\n",
       "    <tr>\n",
       "      <th>0</th>\n",
       "      <td>295665</td>\n",
       "      <td>Macbook Pro Laptop</td>\n",
       "      <td>136 Church St, New York City, NY 10001</td>\n",
       "      <td>1.0</td>\n",
       "      <td>1700.00</td>\n",
       "      <td>2019-12-30 00:01:00</td>\n",
       "      <td>New York City (NY)</td>\n",
       "      <td>1700.00</td>\n",
       "      <td>12</td>\n",
       "    </tr>\n",
       "    <tr>\n",
       "      <th>1</th>\n",
       "      <td>295666</td>\n",
       "      <td>LG Washing Machine</td>\n",
       "      <td>562 2nd St, New York City, NY 10001</td>\n",
       "      <td>1.0</td>\n",
       "      <td>600.00</td>\n",
       "      <td>2019-12-29 07:03:00</td>\n",
       "      <td>New York City (NY)</td>\n",
       "      <td>600.00</td>\n",
       "      <td>12</td>\n",
       "    </tr>\n",
       "    <tr>\n",
       "      <th>2</th>\n",
       "      <td>295667</td>\n",
       "      <td>USB-C Charging Cable</td>\n",
       "      <td>277 Main St, New York City, NY 10001</td>\n",
       "      <td>1.0</td>\n",
       "      <td>11.95</td>\n",
       "      <td>2019-12-12 18:21:00</td>\n",
       "      <td>New York City (NY)</td>\n",
       "      <td>11.95</td>\n",
       "      <td>12</td>\n",
       "    </tr>\n",
       "    <tr>\n",
       "      <th>3</th>\n",
       "      <td>295668</td>\n",
       "      <td>27in FHD Monitor</td>\n",
       "      <td>410 6th St, San Francisco, CA 94016</td>\n",
       "      <td>1.0</td>\n",
       "      <td>149.99</td>\n",
       "      <td>2019-12-22 15:13:00</td>\n",
       "      <td>San Francisco (CA)</td>\n",
       "      <td>149.99</td>\n",
       "      <td>12</td>\n",
       "    </tr>\n",
       "    <tr>\n",
       "      <th>4</th>\n",
       "      <td>295669</td>\n",
       "      <td>USB-C Charging Cable</td>\n",
       "      <td>43 Hill St, Atlanta, GA 30301</td>\n",
       "      <td>1.0</td>\n",
       "      <td>11.95</td>\n",
       "      <td>2019-12-18 12:38:00</td>\n",
       "      <td>Atlanta (GA)</td>\n",
       "      <td>11.95</td>\n",
       "      <td>12</td>\n",
       "    </tr>\n",
       "    <tr>\n",
       "      <th>5</th>\n",
       "      <td>295670</td>\n",
       "      <td>AA Batteries (4-pack)</td>\n",
       "      <td>200 Jefferson St, New York City, NY 10001</td>\n",
       "      <td>1.0</td>\n",
       "      <td>3.84</td>\n",
       "      <td>2019-12-31 22:58:00</td>\n",
       "      <td>New York City (NY)</td>\n",
       "      <td>3.84</td>\n",
       "      <td>12</td>\n",
       "    </tr>\n",
       "    <tr>\n",
       "      <th>6</th>\n",
       "      <td>295671</td>\n",
       "      <td>USB-C Charging Cable</td>\n",
       "      <td>928 12th St, Portland, OR 97035</td>\n",
       "      <td>1.0</td>\n",
       "      <td>11.95</td>\n",
       "      <td>2019-12-16 15:10:00</td>\n",
       "      <td>Portland (OR)</td>\n",
       "      <td>11.95</td>\n",
       "      <td>12</td>\n",
       "    </tr>\n",
       "    <tr>\n",
       "      <th>7</th>\n",
       "      <td>295672</td>\n",
       "      <td>USB-C Charging Cable</td>\n",
       "      <td>813 Hickory St, Dallas, TX 75001</td>\n",
       "      <td>2.0</td>\n",
       "      <td>11.95</td>\n",
       "      <td>2019-12-13 09:29:00</td>\n",
       "      <td>Dallas (TX)</td>\n",
       "      <td>23.90</td>\n",
       "      <td>12</td>\n",
       "    </tr>\n",
       "    <tr>\n",
       "      <th>8</th>\n",
       "      <td>295673</td>\n",
       "      <td>Bose SoundSport Headphones</td>\n",
       "      <td>718 Wilson St, Dallas, TX 75001</td>\n",
       "      <td>1.0</td>\n",
       "      <td>99.99</td>\n",
       "      <td>2019-12-15 23:26:00</td>\n",
       "      <td>Dallas (TX)</td>\n",
       "      <td>99.99</td>\n",
       "      <td>12</td>\n",
       "    </tr>\n",
       "    <tr>\n",
       "      <th>9</th>\n",
       "      <td>295674</td>\n",
       "      <td>AAA Batteries (4-pack)</td>\n",
       "      <td>77 7th St, Dallas, TX 75001</td>\n",
       "      <td>4.0</td>\n",
       "      <td>2.99</td>\n",
       "      <td>2019-12-28 11:51:00</td>\n",
       "      <td>Dallas (TX)</td>\n",
       "      <td>11.96</td>\n",
       "      <td>12</td>\n",
       "    </tr>\n",
       "  </tbody>\n",
       "</table>\n",
       "</div>"
      ]
     },
     "execution_count": 71,
     "metadata": {},
     "output_type": "execute_result"
    }
   ],
   "execution_count": 71
  },
  {
   "metadata": {
    "ExecuteTime": {
     "end_time": "2025-07-12T13:00:00.437917Z",
     "start_time": "2025-07-12T13:00:00.427028Z"
    }
   },
   "cell_type": "code",
   "source": [
    "sales_per_city = sales.groupby('Purchase_City').Quantity_Ordered.sum()\n",
    "sales_per_city"
   ],
   "outputs": [
    {
     "data": {
      "text/plain": [
       "Purchase_City\n",
       "Atlanta (GA)          16602.0\n",
       "Austin (TX)           11153.0\n",
       "Boston (MA)           22528.0\n",
       "Dallas (TX)           16730.0\n",
       "Los Angeles (CA)      33289.0\n",
       "New York City (NY)    27932.0\n",
       "Portland (ME)          2750.0\n",
       "Portland (OR)         11303.0\n",
       "San Francisco (CA)    50239.0\n",
       "Seattle (WA)          16553.0\n",
       "Name: Quantity_Ordered, dtype: float64"
      ]
     },
     "execution_count": 72,
     "metadata": {},
     "output_type": "execute_result"
    }
   ],
   "execution_count": 72
  },
  {
   "cell_type": "markdown",
   "metadata": {
    "pycharm": {
     "name": "#%% md\n"
    }
   },
   "source": "Zatim ćemo odrediti maksimalnu (ukupnu) naručenu količinu, kao i grad na koji se taj maksimum odnosi:"
  },
  {
   "cell_type": "code",
   "metadata": {
    "pycharm": {
     "name": "#%%\n"
    },
    "ExecuteTime": {
     "end_time": "2025-07-12T13:00:00.513769Z",
     "start_time": "2025-07-12T13:00:00.510576Z"
    }
   },
   "source": [
    "# max. vrednost\n",
    "sales_per_city.max()"
   ],
   "outputs": [
    {
     "data": {
      "text/plain": [
       "50239.0"
      ]
     },
     "execution_count": 73,
     "metadata": {},
     "output_type": "execute_result"
    }
   ],
   "execution_count": 73
  },
  {
   "metadata": {
    "ExecuteTime": {
     "end_time": "2025-07-12T13:00:00.614785Z",
     "start_time": "2025-07-12T13:00:00.611882Z"
    }
   },
   "cell_type": "code",
   "source": [
    "# indeks kome odgovara max vrednost\n",
    "sales_per_city.idxmax()"
   ],
   "outputs": [
    {
     "data": {
      "text/plain": [
       "'San Francisco (CA)'"
      ]
     },
     "execution_count": 74,
     "metadata": {},
     "output_type": "execute_result"
    }
   ],
   "execution_count": 74
  },
  {
   "cell_type": "markdown",
   "metadata": {
    "pycharm": {
     "name": "#%% md\n"
    }
   },
   "source": [
    "Na kraju, prikazaćemo rezultate vizuelno primenom bar plota.\n",
    "\n",
    "Napomena: za fina podešavanja prikaza plota, brojne korisne metode se mogu naći u [ovom delu](https://matplotlib.org/stable/api/axes_api.html) Matplotlib dokumentacije"
   ]
  },
  {
   "cell_type": "code",
   "metadata": {
    "pycharm": {
     "name": "#%%\n"
    },
    "ExecuteTime": {
     "end_time": "2025-07-12T13:00:00.747353Z",
     "start_time": "2025-07-12T13:00:00.669558Z"
    }
   },
   "source": [
    "sales_per_city.sort_values(ascending=False, inplace=True)\n",
    "\n",
    "x = sales_per_city.index.tolist()\n",
    "y = sales_per_city.values.tolist()\n",
    "\n",
    "fig, ax = plt.subplots()\n",
    "ax.bar(x, y, color='teal')\n",
    "ax.tick_params(axis='x', labelrotation=90, labelsize=9, labelcolor='teal')\n",
    "ax.tick_params(axis='y', labelcolor='teal', labelsize=9)\n",
    "ax.set_ylabel('Total number of saled items')\n",
    "ax.set_title('Quantity of items sold across US cities')\n",
    "\n",
    "plt.show()"
   ],
   "outputs": [
    {
     "data": {
      "text/plain": [
       "<Figure size 640x480 with 1 Axes>"
      ],
      "image/png": "[encoded data removed]"
     },
     "metadata": {},
     "output_type": "display_data"
    }
   ],
   "execution_count": 75
  },
  {
   "cell_type": "markdown",
   "source": [
    "#### Zadatak Viz 1: Treemap plot\n",
    "\n",
    "Prikazati ukupne naručene količine na nivou pojedinačnih gradova i država primenom tzv. [*treeemap* plota](https://python-graph-gallery.com/treemap/) koji se može jednostavno kreirati primenom **[squarify](https://python-graph-gallery.com/590-advanced-treemap/)** biblioteke.\n",
    "Predstaviti istom bojom gradove koji pripadaju istoj državi (tj., polja treemap plota koja se odnose na gradove iz iste države bi trebalo da budu iste boje).\n",
    "\n",
    "Za rad sa paletama boja, koristićemo **[pypalettes](https://github.com/JosephBARBIERDARNAL/pypalettes)** biblioteku koja sadrži kolekciju od preko 2500 paleta boja i omogućuje jednostavno pretraživanje i korišćenje tih paleta. Sve potrebno za osnovno korišćenje ove biblioteke je lepo predstavljeno ovde: [https://python-graph-gallery.com/color-palette-finder/](https://python-graph-gallery.com/color-palette-finder/)"
   ],
   "metadata": {
    "collapsed": false
   }
  },
  {
   "cell_type": "code",
   "source": [],
   "metadata": {
    "collapsed": false,
    "ExecuteTime": {
     "end_time": "2025-07-12T13:00:00.767395Z",
     "start_time": "2025-07-12T13:00:00.765428Z"
    }
   },
   "outputs": [],
   "execution_count": null
  },
  {
   "cell_type": "code",
   "source": [],
   "metadata": {
    "collapsed": false,
    "ExecuteTime": {
     "end_time": "2025-07-12T13:00:00.807179Z",
     "start_time": "2025-07-12T13:00:00.804991Z"
    }
   },
   "outputs": [],
   "execution_count": null
  },
  {
   "cell_type": "code",
   "source": [],
   "metadata": {
    "collapsed": false,
    "ExecuteTime": {
     "end_time": "2025-07-12T13:00:00.839435Z",
     "start_time": "2025-07-12T13:00:00.836941Z"
    }
   },
   "outputs": [],
   "execution_count": null
  },
  {
   "cell_type": "code",
   "source": [],
   "metadata": {
    "collapsed": false,
    "ExecuteTime": {
     "end_time": "2025-07-12T13:00:00.863612Z",
     "start_time": "2025-07-12T13:00:00.861902Z"
    }
   },
   "outputs": [],
   "execution_count": null
  },
  {
   "cell_type": "markdown",
   "metadata": {
    "pycharm": {
     "name": "#%% md\n"
    }
   },
   "source": [
    "### Zadatak 3. Kada, tokom dana, klijenti imaju tendenciju da naprave najvrednije porudžbine?\n",
    "\n",
    "Da bismo odgovorili na ovo pitanje, potrebno je da izdvojimo sate iz `Order_Date` kolone i utvrdimo prosečnu ukupnu cenu porudžbine za svaki sat u toku dana"
   ]
  },
  {
   "metadata": {
    "ExecuteTime": {
     "end_time": "2025-07-12T13:00:00.896780Z",
     "start_time": "2025-07-12T13:00:00.885382Z"
    }
   },
   "cell_type": "code",
   "source": "sales.head(10)",
   "outputs": [
    {
     "data": {
      "text/plain": [
       "   Order ID                     Product  \\\n",
       "0    295665          Macbook Pro Laptop   \n",
       "1    295666          LG Washing Machine   \n",
       "2    295667        USB-C Charging Cable   \n",
       "3    295668            27in FHD Monitor   \n",
       "4    295669        USB-C Charging Cable   \n",
       "5    295670       AA Batteries (4-pack)   \n",
       "6    295671        USB-C Charging Cable   \n",
       "7    295672        USB-C Charging Cable   \n",
       "8    295673  Bose SoundSport Headphones   \n",
       "9    295674      AAA Batteries (4-pack)   \n",
       "\n",
       "                            Purchase Address  Quantity_Ordered  Price_Each  \\\n",
       "0     136 Church St, New York City, NY 10001               1.0     1700.00   \n",
       "1        562 2nd St, New York City, NY 10001               1.0      600.00   \n",
       "2       277 Main St, New York City, NY 10001               1.0       11.95   \n",
       "3        410 6th St, San Francisco, CA 94016               1.0      149.99   \n",
       "4              43 Hill St, Atlanta, GA 30301               1.0       11.95   \n",
       "5  200 Jefferson St, New York City, NY 10001               1.0        3.84   \n",
       "6            928 12th St, Portland, OR 97035               1.0       11.95   \n",
       "7           813 Hickory St, Dallas, TX 75001               2.0       11.95   \n",
       "8            718 Wilson St, Dallas, TX 75001               1.0       99.99   \n",
       "9                77 7th St, Dallas, TX 75001               4.0        2.99   \n",
       "\n",
       "           Order_Date       Purchase_City  Total_Revenue  Order_Month  \n",
       "0 2019-12-30 00:01:00  New York City (NY)        1700.00           12  \n",
       "1 2019-12-29 07:03:00  New York City (NY)         600.00           12  \n",
       "2 2019-12-12 18:21:00  New York City (NY)          11.95           12  \n",
       "3 2019-12-22 15:13:00  San Francisco (CA)         149.99           12  \n",
       "4 2019-12-18 12:38:00        Atlanta (GA)          11.95           12  \n",
       "5 2019-12-31 22:58:00  New York City (NY)           3.84           12  \n",
       "6 2019-12-16 15:10:00       Portland (OR)          11.95           12  \n",
       "7 2019-12-13 09:29:00         Dallas (TX)          23.90           12  \n",
       "8 2019-12-15 23:26:00         Dallas (TX)          99.99           12  \n",
       "9 2019-12-28 11:51:00         Dallas (TX)          11.96           12  "
      ],
      "text/html": [
       "<div>\n",
       "<style scoped>\n",
       "    .dataframe tbody tr th:only-of-type {\n",
       "        vertical-align: middle;\n",
       "    }\n",
       "\n",
       "    .dataframe tbody tr th {\n",
       "        vertical-align: top;\n",
       "    }\n",
       "\n",
       "    .dataframe thead th {\n",
       "        text-align: right;\n",
       "    }\n",
       "</style>\n",
       "<table border=\"1\" class=\"dataframe\">\n",
       "  <thead>\n",
       "    <tr style=\"text-align: right;\">\n",
       "      <th></th>\n",
       "      <th>Order ID</th>\n",
       "      <th>Product</th>\n",
       "      <th>Purchase Address</th>\n",
       "      <th>Quantity_Ordered</th>\n",
       "      <th>Price_Each</th>\n",
       "      <th>Order_Date</th>\n",
       "      <th>Purchase_City</th>\n",
       "      <th>Total_Revenue</th>\n",
       "      <th>Order_Month</th>\n",
       "    </tr>\n",
       "  </thead>\n",
       "  <tbody>\n",
       "    <tr>\n",
       "      <th>0</th>\n",
       "      <td>295665</td>\n",
       "      <td>Macbook Pro Laptop</td>\n",
       "      <td>136 Church St, New York City, NY 10001</td>\n",
       "      <td>1.0</td>\n",
       "      <td>1700.00</td>\n",
       "      <td>2019-12-30 00:01:00</td>\n",
       "      <td>New York City (NY)</td>\n",
       "      <td>1700.00</td>\n",
       "      <td>12</td>\n",
       "    </tr>\n",
       "    <tr>\n",
       "      <th>1</th>\n",
       "      <td>295666</td>\n",
       "      <td>LG Washing Machine</td>\n",
       "      <td>562 2nd St, New York City, NY 10001</td>\n",
       "      <td>1.0</td>\n",
       "      <td>600.00</td>\n",
       "      <td>2019-12-29 07:03:00</td>\n",
       "      <td>New York City (NY)</td>\n",
       "      <td>600.00</td>\n",
       "      <td>12</td>\n",
       "    </tr>\n",
       "    <tr>\n",
       "      <th>2</th>\n",
       "      <td>295667</td>\n",
       "      <td>USB-C Charging Cable</td>\n",
       "      <td>277 Main St, New York City, NY 10001</td>\n",
       "      <td>1.0</td>\n",
       "      <td>11.95</td>\n",
       "      <td>2019-12-12 18:21:00</td>\n",
       "      <td>New York City (NY)</td>\n",
       "      <td>11.95</td>\n",
       "      <td>12</td>\n",
       "    </tr>\n",
       "    <tr>\n",
       "      <th>3</th>\n",
       "      <td>295668</td>\n",
       "      <td>27in FHD Monitor</td>\n",
       "      <td>410 6th St, San Francisco, CA 94016</td>\n",
       "      <td>1.0</td>\n",
       "      <td>149.99</td>\n",
       "      <td>2019-12-22 15:13:00</td>\n",
       "      <td>San Francisco (CA)</td>\n",
       "      <td>149.99</td>\n",
       "      <td>12</td>\n",
       "    </tr>\n",
       "    <tr>\n",
       "      <th>4</th>\n",
       "      <td>295669</td>\n",
       "      <td>USB-C Charging Cable</td>\n",
       "      <td>43 Hill St, Atlanta, GA 30301</td>\n",
       "      <td>1.0</td>\n",
       "      <td>11.95</td>\n",
       "      <td>2019-12-18 12:38:00</td>\n",
       "      <td>Atlanta (GA)</td>\n",
       "      <td>11.95</td>\n",
       "      <td>12</td>\n",
       "    </tr>\n",
       "    <tr>\n",
       "      <th>5</th>\n",
       "      <td>295670</td>\n",
       "      <td>AA Batteries (4-pack)</td>\n",
       "      <td>200 Jefferson St, New York City, NY 10001</td>\n",
       "      <td>1.0</td>\n",
       "      <td>3.84</td>\n",
       "      <td>2019-12-31 22:58:00</td>\n",
       "      <td>New York City (NY)</td>\n",
       "      <td>3.84</td>\n",
       "      <td>12</td>\n",
       "    </tr>\n",
       "    <tr>\n",
       "      <th>6</th>\n",
       "      <td>295671</td>\n",
       "      <td>USB-C Charging Cable</td>\n",
       "      <td>928 12th St, Portland, OR 97035</td>\n",
       "      <td>1.0</td>\n",
       "      <td>11.95</td>\n",
       "      <td>2019-12-16 15:10:00</td>\n",
       "      <td>Portland (OR)</td>\n",
       "      <td>11.95</td>\n",
       "      <td>12</td>\n",
       "    </tr>\n",
       "    <tr>\n",
       "      <th>7</th>\n",
       "      <td>295672</td>\n",
       "      <td>USB-C Charging Cable</td>\n",
       "      <td>813 Hickory St, Dallas, TX 75001</td>\n",
       "      <td>2.0</td>\n",
       "      <td>11.95</td>\n",
       "      <td>2019-12-13 09:29:00</td>\n",
       "      <td>Dallas (TX)</td>\n",
       "      <td>23.90</td>\n",
       "      <td>12</td>\n",
       "    </tr>\n",
       "    <tr>\n",
       "      <th>8</th>\n",
       "      <td>295673</td>\n",
       "      <td>Bose SoundSport Headphones</td>\n",
       "      <td>718 Wilson St, Dallas, TX 75001</td>\n",
       "      <td>1.0</td>\n",
       "      <td>99.99</td>\n",
       "      <td>2019-12-15 23:26:00</td>\n",
       "      <td>Dallas (TX)</td>\n",
       "      <td>99.99</td>\n",
       "      <td>12</td>\n",
       "    </tr>\n",
       "    <tr>\n",
       "      <th>9</th>\n",
       "      <td>295674</td>\n",
       "      <td>AAA Batteries (4-pack)</td>\n",
       "      <td>77 7th St, Dallas, TX 75001</td>\n",
       "      <td>4.0</td>\n",
       "      <td>2.99</td>\n",
       "      <td>2019-12-28 11:51:00</td>\n",
       "      <td>Dallas (TX)</td>\n",
       "      <td>11.96</td>\n",
       "      <td>12</td>\n",
       "    </tr>\n",
       "  </tbody>\n",
       "</table>\n",
       "</div>"
      ]
     },
     "execution_count": 76,
     "metadata": {},
     "output_type": "execute_result"
    }
   ],
   "execution_count": 76
  },
  {
   "cell_type": "markdown",
   "metadata": {
    "pycharm": {
     "name": "#%% md\n"
    }
   },
   "source": [
    "**Korak 1**: Kreiranje 'Order_Hour' kolone"
   ]
  },
  {
   "cell_type": "code",
   "metadata": {
    "pycharm": {
     "name": "#%%\n"
    },
    "ExecuteTime": {
     "end_time": "2025-07-12T13:00:00.958559Z",
     "start_time": "2025-07-12T13:00:00.953575Z"
    }
   },
   "source": "sales['Order_Hour'] = sales.Order_Date.dt.hour",
   "outputs": [],
   "execution_count": 77
  },
  {
   "cell_type": "code",
   "metadata": {
    "pycharm": {
     "name": "#%%\n"
    },
    "ExecuteTime": {
     "end_time": "2025-07-12T13:00:01.017536Z",
     "start_time": "2025-07-12T13:00:01.010152Z"
    }
   },
   "source": "sales[['Order_Date', 'Order_Hour']].sample(10)",
   "outputs": [
    {
     "data": {
      "text/plain": [
       "                Order_Date  Order_Hour\n",
       "100564 2019-11-28 18:00:00          18\n",
       "97461  2019-05-25 22:20:00          22\n",
       "50735  2019-02-18 14:48:00          14\n",
       "153591 2019-09-20 09:35:00           9\n",
       "70393  2019-03-23 18:43:00          18\n",
       "40669  2019-04-18 11:39:00          11\n",
       "168811 2019-07-25 09:20:00           9\n",
       "168054 2019-07-23 12:50:00          12\n",
       "55061  2019-02-20 16:24:00          16\n",
       "112597 2019-11-19 16:12:00          16"
      ],
      "text/html": [
       "<div>\n",
       "<style scoped>\n",
       "    .dataframe tbody tr th:only-of-type {\n",
       "        vertical-align: middle;\n",
       "    }\n",
       "\n",
       "    .dataframe tbody tr th {\n",
       "        vertical-align: top;\n",
       "    }\n",
       "\n",
       "    .dataframe thead th {\n",
       "        text-align: right;\n",
       "    }\n",
       "</style>\n",
       "<table border=\"1\" class=\"dataframe\">\n",
       "  <thead>\n",
       "    <tr style=\"text-align: right;\">\n",
       "      <th></th>\n",
       "      <th>Order_Date</th>\n",
       "      <th>Order_Hour</th>\n",
       "    </tr>\n",
       "  </thead>\n",
       "  <tbody>\n",
       "    <tr>\n",
       "      <th>100564</th>\n",
       "      <td>2019-11-28 18:00:00</td>\n",
       "      <td>18</td>\n",
       "    </tr>\n",
       "    <tr>\n",
       "      <th>97461</th>\n",
       "      <td>2019-05-25 22:20:00</td>\n",
       "      <td>22</td>\n",
       "    </tr>\n",
       "    <tr>\n",
       "      <th>50735</th>\n",
       "      <td>2019-02-18 14:48:00</td>\n",
       "      <td>14</td>\n",
       "    </tr>\n",
       "    <tr>\n",
       "      <th>153591</th>\n",
       "      <td>2019-09-20 09:35:00</td>\n",
       "      <td>9</td>\n",
       "    </tr>\n",
       "    <tr>\n",
       "      <th>70393</th>\n",
       "      <td>2019-03-23 18:43:00</td>\n",
       "      <td>18</td>\n",
       "    </tr>\n",
       "    <tr>\n",
       "      <th>40669</th>\n",
       "      <td>2019-04-18 11:39:00</td>\n",
       "      <td>11</td>\n",
       "    </tr>\n",
       "    <tr>\n",
       "      <th>168811</th>\n",
       "      <td>2019-07-25 09:20:00</td>\n",
       "      <td>9</td>\n",
       "    </tr>\n",
       "    <tr>\n",
       "      <th>168054</th>\n",
       "      <td>2019-07-23 12:50:00</td>\n",
       "      <td>12</td>\n",
       "    </tr>\n",
       "    <tr>\n",
       "      <th>55061</th>\n",
       "      <td>2019-02-20 16:24:00</td>\n",
       "      <td>16</td>\n",
       "    </tr>\n",
       "    <tr>\n",
       "      <th>112597</th>\n",
       "      <td>2019-11-19 16:12:00</td>\n",
       "      <td>16</td>\n",
       "    </tr>\n",
       "  </tbody>\n",
       "</table>\n",
       "</div>"
      ]
     },
     "execution_count": 78,
     "metadata": {},
     "output_type": "execute_result"
    }
   ],
   "execution_count": 78
  },
  {
   "cell_type": "markdown",
   "metadata": {
    "pycharm": {
     "name": "#%% md\n"
    }
   },
   "source": [
    "**Korak 2**: Grupisanje narudžbina na osnovu `Order_Hour` i izračuvanje prosečne vrednosti `Total_Price` varijable za svaku grupu"
   ]
  },
  {
   "metadata": {
    "ExecuteTime": {
     "end_time": "2025-07-12T13:00:01.120836Z",
     "start_time": "2025-07-12T13:00:01.118676Z"
    }
   },
   "cell_type": "code",
   "source": "sales['Order_Revenue'] = sales.Quantity_Ordered * sales.Price_Each",
   "outputs": [],
   "execution_count": 79
  },
  {
   "cell_type": "code",
   "metadata": {
    "pycharm": {
     "name": "#%%\n"
    },
    "ExecuteTime": {
     "end_time": "2025-07-12T13:00:01.178297Z",
     "start_time": "2025-07-12T13:00:01.174228Z"
    }
   },
   "source": [
    "sales_per_hour = sales.groupby('Order_Hour').Order_Revenue.mean()\n",
    "sales_per_hour"
   ],
   "outputs": [
    {
     "data": {
      "text/plain": [
       "Order_Hour\n",
       "0     182.537409\n",
       "1     196.113566\n",
       "2     188.939212\n",
       "3     175.400590\n",
       "4     190.469567\n",
       "5     174.625148\n",
       "6     180.545125\n",
       "7     185.702847\n",
       "8     190.592866\n",
       "9     187.360606\n",
       "10    177.657782\n",
       "11    185.368644\n",
       "12    184.064617\n",
       "13    177.705483\n",
       "14    189.700722\n",
       "15    190.815686\n",
       "16    183.416921\n",
       "17    195.372200\n",
       "18    180.728689\n",
       "19    186.977028\n",
       "20    186.597664\n",
       "21    186.979293\n",
       "22    182.220495\n",
       "23    187.936963\n",
       "Name: Order_Revenue, dtype: float64"
      ]
     },
     "execution_count": 80,
     "metadata": {},
     "output_type": "execute_result"
    }
   ],
   "execution_count": 80
  },
  {
   "cell_type": "markdown",
   "metadata": {
    "pycharm": {
     "name": "#%% md\n"
    }
   },
   "source": "Odredićemo najveću prosečnu vrednost prodaje i sat u toku dana na koji se ona odnosi:"
  },
  {
   "cell_type": "code",
   "metadata": {
    "pycharm": {
     "name": "#%%\n"
    },
    "ExecuteTime": {
     "end_time": "2025-07-12T13:00:01.243963Z",
     "start_time": "2025-07-12T13:00:01.241334Z"
    }
   },
   "source": [
    "max_hourly_sales = sales_per_hour.max()\n",
    "max_hourly_sales_index = sales_per_hour.idxmax()\n",
    "print(f\"Maximum average revenue of {max_hourly_sales:.3f} was realised between {max_hourly_sales_index}h and \" + \\\n",
    "      f\"{max_hourly_sales_index + 1}h\")"
   ],
   "outputs": [
    {
     "name": "stdout",
     "output_type": "stream",
     "text": [
      "Maximum average revenue of 196.114 was realised between 1h and 2h\n"
     ]
    }
   ],
   "execution_count": 81
  },
  {
   "cell_type": "markdown",
   "metadata": {
    "pycharm": {
     "name": "#%% md\n"
    }
   },
   "source": [
    "Prikaz rezultata u formi linijskog plota"
   ]
  },
  {
   "cell_type": "code",
   "metadata": {
    "pycharm": {
     "name": "#%%\n"
    },
    "ExecuteTime": {
     "end_time": "2025-07-12T13:00:01.410602Z",
     "start_time": "2025-07-12T13:00:01.305731Z"
    }
   },
   "source": [
    "x = sales_per_hour.index.tolist()\n",
    "y = sales_per_hour.values.tolist()\n",
    "\n",
    "fig, ax = plt.subplots(figsize=(8,6))\n",
    "ax.plot(x, y, marker='^')\n",
    "ax.set_xticks(range(0,24))\n",
    "ax.set_xlabel(\"Hours\")\n",
    "ax.set_ylabel(\"Average hourly revenue in US dollars\")\n",
    "ax.grid(visible=True, which='major', axis='both', color='lightgray')\n",
    "ax.set_title(\"Average hourly sales during a day\")\n",
    "\n",
    "plt.show()"
   ],
   "outputs": [
    {
     "data": {
      "text/plain": [
       "<Figure size 800x600 with 1 Axes>"
      ],
      "image/png": "[encoded data removed]"
     },
     "metadata": {},
     "output_type": "display_data"
    }
   ],
   "execution_count": 82
  },
  {
   "cell_type": "markdown",
   "metadata": {
    "pycharm": {
     "name": "#%% md\n"
    }
   },
   "source": [
    "### Zadatak 4. Odrediti top 5 proizvoda po obimu prodaje, kao i top 5 po ostvarenom prihodu tokom 2019. god.\n",
    "\n",
    "Prvo ćemo utvrditi koliko različitih proizvoda postoji i koliko često su bili naručeni"
   ]
  },
  {
   "cell_type": "code",
   "metadata": {
    "pycharm": {
     "name": "#%%\n"
    }
   },
   "source": "",
   "outputs": [],
   "execution_count": null
  },
  {
   "cell_type": "code",
   "metadata": {
    "pycharm": {
     "name": "#%%\n"
    }
   },
   "source": "",
   "outputs": [],
   "execution_count": null
  },
  {
   "metadata": {},
   "cell_type": "code",
   "source": "",
   "outputs": [],
   "execution_count": null
  },
  {
   "metadata": {},
   "cell_type": "code",
   "source": "",
   "outputs": [],
   "execution_count": null
  },
  {
   "cell_type": "markdown",
   "metadata": {
    "pycharm": {
     "name": "#%% md\n"
    }
   },
   "source": [
    "Gornja pandas serija nam daje broj porudžbina u kojima se pojavio proizvod, ali ne govori nam o količinama koje su naručene.\n",
    "\n",
    "Potrebno je da za svaki proizvod, uzmemo ukupnu naručenu količinu i ukupnu cenu za sve porudžbine koje se odnose na taj proizvod:"
   ]
  },
  {
   "cell_type": "code",
   "metadata": {
    "pycharm": {
     "name": "#%%\n"
    }
   },
   "source": "",
   "outputs": [],
   "execution_count": null
  },
  {
   "cell_type": "markdown",
   "metadata": {
    "pycharm": {
     "name": "#%% md\n"
    }
   },
   "source": [
    "Odredićemo top 5 proizvoda po ostvarenom obimu prodaje:"
   ]
  },
  {
   "cell_type": "code",
   "metadata": {
    "pycharm": {
     "name": "#%%\n"
    }
   },
   "source": "",
   "outputs": [],
   "execution_count": null
  },
  {
   "cell_type": "markdown",
   "metadata": {
    "pycharm": {
     "name": "#%% md\n"
    }
   },
   "source": [
    "Takođe, top 5 proizvoda po ostvarenom prihodu:"
   ]
  },
  {
   "cell_type": "code",
   "metadata": {
    "pycharm": {
     "name": "#%%\n"
    }
   },
   "source": "",
   "outputs": [],
   "execution_count": null
  },
  {
   "cell_type": "markdown",
   "metadata": {
    "pycharm": {
     "name": "#%% md\n"
    }
   },
   "source": [
    "Predstavićemo ove rezultate i vizuelno. Konkretno, napravićemo dve *horizontalna* bar plota, jedan pored drugog, pri čemu će prvi prikazivati ukupan prihod po proizvodu, a drugi prodatu količinu proizvoda. Sortiraćemo plotove na osnovu ukupnog prihoda, tako da proizvodi sa najvećim prihodom budu prikazani pri vrhu plota.\n",
    "\n",
    "Smernice za kreiranje horizontalnog bar plota možete naći, na primer, u [ovom primeru](https://matplotlib.org/stable/gallery/lines_bars_and_markers/barh.html) iz Mathplotlib dokumentacije."
   ]
  },
  {
   "cell_type": "code",
   "metadata": {
    "pycharm": {
     "name": "#%%\n"
    }
   },
   "source": "",
   "outputs": [],
   "execution_count": null
  },
  {
   "cell_type": "markdown",
   "source": [
    "#### Zadatak Viz_2: Linijski plot sa dve skale\n",
    "\n",
    "Izračunate vrednosti za ukupnu prodaju i ukupnu ostvarenu zaradu po proizvodu možemo predstaviti i na jednom plotu, koristeći različite skale za vrednosti predstavljene na y-osi. Na primer, skala na levoj strani plota da predstavlja ostvareni prihod po proizvodu, a skala na desnoj strani da prikazuje ukupan ostvaren obim prodaje po proizvodu.  \n",
    "\n",
    "[Ovaj primer](https://matplotlib.org/stable/gallery/subplots_axes_and_figures/two_scales.html#sphx-glr-gallery-subplots-axes-and-figures-two-scales-py) iz matplotlib dokumentacije pokazuje kako izgleda i kako se može kreirati linijski plot sa dve različite skale na y-osi. \n",
    "\n",
    "Po uzoru na dati primer, potrebno je kreirati plot za tekući zadatak, odnosno prikaz izračunatih vrednosti za ukupnu prodaju i ukupnu ostvarenu zaradu po proizvodu "
   ],
   "metadata": {
    "collapsed": false
   }
  },
  {
   "cell_type": "code",
   "source": [],
   "metadata": {
    "collapsed": false
   },
   "outputs": [],
   "execution_count": null
  },
  {
   "cell_type": "markdown",
   "metadata": {
    "pycharm": {
     "name": "#%% md\n"
    }
   },
   "source": [
    "### Zadatak 5. Pregled ostvarenog prihoda od prodaje po proizvodima i gradovima"
   ]
  },
  {
   "cell_type": "markdown",
   "metadata": {
    "pycharm": {
     "name": "#%% md\n"
    }
   },
   "source": [
    "Podatke možemo grupisati na osnovu više od jednog atributa (kolone). U ovom slučaju, izvršićemo grupisanje na osnovu proizvoda i grada iz koga je porudžbina stigla, i izračunati ukupan prihod za svaki proizvod u svakom gradu:"
   ]
  },
  {
   "cell_type": "code",
   "metadata": {
    "pycharm": {
     "name": "#%%\n"
    }
   },
   "source": "",
   "outputs": [],
   "execution_count": null
  },
  {
   "metadata": {},
   "cell_type": "code",
   "source": "",
   "outputs": [],
   "execution_count": null
  },
  {
   "metadata": {},
   "cell_type": "code",
   "source": "",
   "outputs": [],
   "execution_count": null
  },
  {
   "cell_type": "markdown",
   "metadata": {
    "pycharm": {
     "name": "#%% md\n"
    }
   },
   "source": [
    "Primetite da smo kao rezultat dobili pandas seriju sa dva indeksa - `Product` i `Purchase_City`:"
   ]
  },
  {
   "cell_type": "code",
   "metadata": {
    "pycharm": {
     "name": "#%%\n"
    }
   },
   "source": "",
   "outputs": [],
   "execution_count": null
  },
  {
   "cell_type": "code",
   "metadata": {
    "pycharm": {
     "name": "#%%\n"
    }
   },
   "source": "",
   "outputs": [],
   "execution_count": null
  },
  {
   "cell_type": "markdown",
   "metadata": {
    "pycharm": {
     "name": "#%% md\n"
    }
   },
   "source": [
    "Ovakvu seriju možemo transformisati u data frame uz pomoć `unstack()` metode:"
   ]
  },
  {
   "cell_type": "code",
   "metadata": {
    "pycharm": {
     "name": "#%%\n"
    }
   },
   "source": "",
   "outputs": [],
   "execution_count": null
  },
  {
   "cell_type": "code",
   "metadata": {
    "pycharm": {
     "name": "#%%\n"
    }
   },
   "source": "",
   "outputs": [],
   "execution_count": null
  },
  {
   "cell_type": "markdown",
   "metadata": {
    "pycharm": {
     "name": "#%% md\n"
    }
   },
   "source": [
    "S obzirom da je ovakav prikaz ostvarene prodaje vrlo nepregledan, predstavićemo ga vizuelno, koristeći `heatmap`. \n",
    "\n",
    "Korisne smernice za kreiranje heatmap-e date su, na primer, [ovde](https://python-charts.com/correlation/heatmap-matplotlib/).\n",
    "\n",
    "Na [ovoj stranici](https://matplotlib.org/stable/users/explain/colors/colormaps.html) Matplotlib dokumentacije možete naći pregled predefinisanih kolor mapa."
   ]
  },
  {
   "cell_type": "code",
   "metadata": {
    "pycharm": {
     "name": "#%%\n"
    }
   },
   "source": "",
   "outputs": [],
   "execution_count": null
  },
  {
   "cell_type": "markdown",
   "source": [
    "#### Zadatak Viz_3: Heatmap sa dodatim numeričkim vrednostima\n",
    "\n",
    "Unaprediti prethodni heatmap plot, time što ćete u svakoj ćeliji heatmap-e prikazati ukupan ostvareni prihod od prodaje za svaku kombinaciju grad - proizvod, izražen u milionima USA dolara  \n",
    "\n",
    "Dodatne smernice za kreiranje heatmap-e, uključujući neke složenije primere, date su na [ovoj stranici](https://matplotlib.org/stable/gallery/images_contours_and_fields/image_annotated_heatmap.html#sphx-glr-gallery-images-contours-and-fields-image-annotated-heatmap-py) matplotlib dokumentacije."
   ],
   "metadata": {
    "collapsed": false
   }
  },
  {
   "cell_type": "code",
   "source": [],
   "metadata": {
    "collapsed": false
   },
   "outputs": [],
   "execution_count": null
  },
  {
   "cell_type": "markdown",
   "source": [
    "#### Zadatak Viz_4: Prikazati uporedo mesečni obim narudžbina u 2109. godini za svaku državu ponaosob\n",
    "\n",
    "Prikaz bi trebalo da bude u obliku mreže (grid) bar plotova (po jedan za svaku državu), predstavljene u dva reda i četiri kolone.\n",
    "Bar plotovi bi trebalo da budu sortrani u rastućem redosledu obima prodaje, tako da prvi odgovara državi sa najmanjim ukupnim obimom prodaje, dok poslednji odgovara državi sa najvećim ukupnim obimom prodaje."
   ],
   "metadata": {
    "collapsed": false
   }
  },
  {
   "cell_type": "markdown",
   "source": [
    "Potrebno je prvo kreirati novu kolonu koja predstavlja državu iz koje je porudžbina stigla"
   ],
   "metadata": {
    "collapsed": false
   }
  },
  {
   "cell_type": "code",
   "source": [],
   "metadata": {
    "collapsed": false
   },
   "outputs": [],
   "execution_count": null
  },
  {
   "cell_type": "code",
   "source": [],
   "metadata": {
    "collapsed": false
   },
   "outputs": [],
   "execution_count": null
  },
  {
   "cell_type": "code",
   "source": [],
   "metadata": {
    "collapsed": false
   },
   "outputs": [],
   "execution_count": null
  },
  {
   "cell_type": "markdown",
   "source": [
    "Zatim je potrebno odrediti ukupan obim narudžbina za svaku državu u 2019. god., kako bi to iskoristili kasnije za sortiranje bar plotova u okviru mreže (grid): "
   ],
   "metadata": {
    "collapsed": false
   }
  },
  {
   "cell_type": "code",
   "source": [],
   "metadata": {
    "collapsed": false
   },
   "outputs": [],
   "execution_count": null
  },
  {
   "cell_type": "code",
   "source": [],
   "metadata": {
    "collapsed": false
   },
   "outputs": [],
   "execution_count": null
  },
  {
   "cell_type": "code",
   "source": [],
   "metadata": {
    "collapsed": false
   },
   "outputs": [],
   "execution_count": null
  },
  {
   "cell_type": "markdown",
   "source": [
    "Sledeći korak je da se za svaku državu ponaosob izračuna obim prodaje na mesečnom nivou:"
   ],
   "metadata": {
    "collapsed": false
   }
  },
  {
   "cell_type": "code",
   "source": [],
   "metadata": {
    "collapsed": false
   },
   "outputs": [],
   "execution_count": null
  },
  {
   "cell_type": "code",
   "source": [],
   "metadata": {
    "collapsed": false
   },
   "outputs": [],
   "execution_count": null
  },
  {
   "cell_type": "markdown",
   "source": [
    "Konačno, prikazati mesečne kupovine za svaku državu u formi mreže bar plotova:"
   ],
   "metadata": {
    "collapsed": false
   }
  },
  {
   "cell_type": "code",
   "source": [],
   "metadata": {
    "collapsed": false
   },
   "outputs": [],
   "execution_count": null
  },
  {
   "cell_type": "markdown",
   "metadata": {
    "pycharm": {
     "name": "#%% md\n"
    }
   },
   "source": [
    "### Zadaci za vežbu\n",
    "\n",
    "1. Uradite pregled ukupnog ostvarenog prihoda po proizvodima i državama.\n",
    "\n",
    "2. Kojih dana, tokom nedelje, je prosečna vrednost porudžbina bila najviša?\n"
   ]
  }
 ],
 "metadata": {
  "kernelspec": {
   "display_name": "Python 3 (ipykernel)",
   "language": "python",
   "name": "python3"
  },
  "language_info": {
   "codemirror_mode": {
    "name": "ipython",
    "version": 3
   },
   "file_extension": ".py",
   "mimetype": "text/x-python",
   "name": "python",
   "nbconvert_exporter": "python",
   "pygments_lexer": "ipython3",
   "version": "3.10.0"
  }
 },
 "nbformat": 4,
 "nbformat_minor": 4
}
