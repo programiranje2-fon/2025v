{
 "cells": [
  {
   "cell_type": "markdown",
   "metadata": {
    "pycharm": {
     "name": "#%% md\n"
    }
   },
   "source": [
    "# Uvod u Pandas\n",
    "\n",
    "Napomena: Ovi materijali su delimično bazirani na pandas tutorijalu Keith Galli-a [\"Solving real world data science tasks with Python Pandas!\"](https://github.com/KeithGalli/Pandas-Data-Science-Tasks). Takođe, dataset koji ćemo koristiti - [Sales dataset](https://github.com/KeithGalli/Pandas-Data-Science-Tasks/tree/master/SalesAnalysis/Sales_Data) - je preuzet iz pomenutog tutorijala."
   ]
  },
  {
   "metadata": {
    "pycharm": {
     "name": "#%% md\n"
    }
   },
   "cell_type": "markdown",
   "source": "## Učitavanje potrebnih biblioteka"
  },
  {
   "metadata": {
    "ExecuteTime": {
     "end_time": "2025-07-09T13:01:46.330867Z",
     "start_time": "2025-07-09T13:01:44.233382Z"
    }
   },
   "cell_type": "code",
   "source": [
    "from pathlib import Path\n",
    "\n",
    "import pandas as pd"
   ],
   "outputs": [],
   "execution_count": 1
  },
  {
   "metadata": {
    "pycharm": {
     "name": "#%% md\n"
    }
   },
   "cell_type": "markdown",
   "source": "## Učitavanje podataka i upoznavanje sa podacima o prodaji za jedan mesec"
  },
  {
   "metadata": {
    "pycharm": {
     "name": "#%% md\n"
    }
   },
   "cell_type": "markdown",
   "source": [
    "### Učitavanja podataka iz csv fajla\n",
    "\n",
    "Podaci se nalaze u 'sales_data' direktorijumu, u okviru 'data' direktorijuma.\n",
    "Prvo ćemo kreirati DATA_DIR konstantu koja će sadržati putanju do direktorijuma sa podacima"
   ]
  },
  {
   "metadata": {
    "ExecuteTime": {
     "end_time": "2025-07-09T13:01:46.345223Z",
     "start_time": "2025-07-09T13:01:46.341762Z"
    }
   },
   "cell_type": "code",
   "source": [
    "DATA_DIR = Path.cwd() / 'data/sales_data'\n",
    "print(DATA_DIR)"
   ],
   "outputs": [
    {
     "name": "stdout",
     "output_type": "stream",
     "text": [
      "/Users/jelena.jovanovic/DataspellProjects/2025v/pandas_labs/data/sales_data\n"
     ]
    }
   ],
   "execution_count": 2
  },
  {
   "metadata": {
    "pycharm": {
     "name": "#%% md\n"
    }
   },
   "cell_type": "markdown",
   "source": "Zatim ćemo učitati podatke iz 'Sales_January_2019' csv fajla:"
  },
  {
   "metadata": {
    "ExecuteTime": {
     "end_time": "2025-07-09T13:01:46.426124Z",
     "start_time": "2025-07-09T13:01:46.411108Z"
    }
   },
   "cell_type": "code",
   "source": "jan_sales = pd.read_csv(DATA_DIR / 'Sales_January_2019.csv')",
   "outputs": [],
   "execution_count": 3
  },
  {
   "metadata": {
    "pycharm": {
     "name": "#%% md\n"
    }
   },
   "cell_type": "markdown",
   "source": [
    "### Upoznavanje sa podacima\n",
    "\n",
    "Prikazati prvih 10 redova učitanog dataset-a"
   ]
  },
  {
   "metadata": {
    "ExecuteTime": {
     "end_time": "2025-07-09T13:01:46.564056Z",
     "start_time": "2025-07-09T13:01:46.557488Z"
    }
   },
   "cell_type": "code",
   "source": "jan_sales.head(10)",
   "outputs": [
    {
     "data": {
      "text/plain": [
       "  Order ID                     Product Quantity Ordered Price Each  \\\n",
       "0   141234                      iPhone                1        700   \n",
       "1   141235    Lightning Charging Cable                1      14.95   \n",
       "2   141236            Wired Headphones                2      11.99   \n",
       "3   141237            27in FHD Monitor                1     149.99   \n",
       "4   141238            Wired Headphones                1      11.99   \n",
       "5   141239      AAA Batteries (4-pack)                1       2.99   \n",
       "6   141240      27in 4K Gaming Monitor                1     389.99   \n",
       "7   141241        USB-C Charging Cable                1      11.95   \n",
       "8   141242  Bose SoundSport Headphones                1      99.99   \n",
       "9   141243    Apple Airpods Headphones                1        150   \n",
       "\n",
       "       Order Date                         Purchase Address  \n",
       "0  01/22/19 21:25          944 Walnut St, Boston, MA 02215  \n",
       "1  01/28/19 14:15         185 Maple St, Portland, OR 97035  \n",
       "2  01/17/19 13:33    538 Adams St, San Francisco, CA 94016  \n",
       "3  01/05/19 20:33       738 10th St, Los Angeles, CA 90001  \n",
       "4  01/25/19 11:59            387 10th St, Austin, TX 73301  \n",
       "5  01/29/19 20:22   775 Willow St, San Francisco, CA 94016  \n",
       "6  01/26/19 12:16       979 Park St, Los Angeles, CA 90001  \n",
       "7  01/05/19 12:04      181 6th St, San Francisco, CA 94016  \n",
       "8  01/01/19 10:30     867 Willow St, Los Angeles, CA 90001  \n",
       "9  01/22/19 21:20  657 Johnson St, San Francisco, CA 94016  "
      ],
      "text/html": [
       "<div>\n",
       "<style scoped>\n",
       "    .dataframe tbody tr th:only-of-type {\n",
       "        vertical-align: middle;\n",
       "    }\n",
       "\n",
       "    .dataframe tbody tr th {\n",
       "        vertical-align: top;\n",
       "    }\n",
       "\n",
       "    .dataframe thead th {\n",
       "        text-align: right;\n",
       "    }\n",
       "</style>\n",
       "<table border=\"1\" class=\"dataframe\">\n",
       "  <thead>\n",
       "    <tr style=\"text-align: right;\">\n",
       "      <th></th>\n",
       "      <th>Order ID</th>\n",
       "      <th>Product</th>\n",
       "      <th>Quantity Ordered</th>\n",
       "      <th>Price Each</th>\n",
       "      <th>Order Date</th>\n",
       "      <th>Purchase Address</th>\n",
       "    </tr>\n",
       "  </thead>\n",
       "  <tbody>\n",
       "    <tr>\n",
       "      <th>0</th>\n",
       "      <td>141234</td>\n",
       "      <td>iPhone</td>\n",
       "      <td>1</td>\n",
       "      <td>700</td>\n",
       "      <td>01/22/19 21:25</td>\n",
       "      <td>944 Walnut St, Boston, MA 02215</td>\n",
       "    </tr>\n",
       "    <tr>\n",
       "      <th>1</th>\n",
       "      <td>141235</td>\n",
       "      <td>Lightning Charging Cable</td>\n",
       "      <td>1</td>\n",
       "      <td>14.95</td>\n",
       "      <td>01/28/19 14:15</td>\n",
       "      <td>185 Maple St, Portland, OR 97035</td>\n",
       "    </tr>\n",
       "    <tr>\n",
       "      <th>2</th>\n",
       "      <td>141236</td>\n",
       "      <td>Wired Headphones</td>\n",
       "      <td>2</td>\n",
       "      <td>11.99</td>\n",
       "      <td>01/17/19 13:33</td>\n",
       "      <td>538 Adams St, San Francisco, CA 94016</td>\n",
       "    </tr>\n",
       "    <tr>\n",
       "      <th>3</th>\n",
       "      <td>141237</td>\n",
       "      <td>27in FHD Monitor</td>\n",
       "      <td>1</td>\n",
       "      <td>149.99</td>\n",
       "      <td>01/05/19 20:33</td>\n",
       "      <td>738 10th St, Los Angeles, CA 90001</td>\n",
       "    </tr>\n",
       "    <tr>\n",
       "      <th>4</th>\n",
       "      <td>141238</td>\n",
       "      <td>Wired Headphones</td>\n",
       "      <td>1</td>\n",
       "      <td>11.99</td>\n",
       "      <td>01/25/19 11:59</td>\n",
       "      <td>387 10th St, Austin, TX 73301</td>\n",
       "    </tr>\n",
       "    <tr>\n",
       "      <th>5</th>\n",
       "      <td>141239</td>\n",
       "      <td>AAA Batteries (4-pack)</td>\n",
       "      <td>1</td>\n",
       "      <td>2.99</td>\n",
       "      <td>01/29/19 20:22</td>\n",
       "      <td>775 Willow St, San Francisco, CA 94016</td>\n",
       "    </tr>\n",
       "    <tr>\n",
       "      <th>6</th>\n",
       "      <td>141240</td>\n",
       "      <td>27in 4K Gaming Monitor</td>\n",
       "      <td>1</td>\n",
       "      <td>389.99</td>\n",
       "      <td>01/26/19 12:16</td>\n",
       "      <td>979 Park St, Los Angeles, CA 90001</td>\n",
       "    </tr>\n",
       "    <tr>\n",
       "      <th>7</th>\n",
       "      <td>141241</td>\n",
       "      <td>USB-C Charging Cable</td>\n",
       "      <td>1</td>\n",
       "      <td>11.95</td>\n",
       "      <td>01/05/19 12:04</td>\n",
       "      <td>181 6th St, San Francisco, CA 94016</td>\n",
       "    </tr>\n",
       "    <tr>\n",
       "      <th>8</th>\n",
       "      <td>141242</td>\n",
       "      <td>Bose SoundSport Headphones</td>\n",
       "      <td>1</td>\n",
       "      <td>99.99</td>\n",
       "      <td>01/01/19 10:30</td>\n",
       "      <td>867 Willow St, Los Angeles, CA 90001</td>\n",
       "    </tr>\n",
       "    <tr>\n",
       "      <th>9</th>\n",
       "      <td>141243</td>\n",
       "      <td>Apple Airpods Headphones</td>\n",
       "      <td>1</td>\n",
       "      <td>150</td>\n",
       "      <td>01/22/19 21:20</td>\n",
       "      <td>657 Johnson St, San Francisco, CA 94016</td>\n",
       "    </tr>\n",
       "  </tbody>\n",
       "</table>\n",
       "</div>"
      ]
     },
     "execution_count": 4,
     "metadata": {},
     "output_type": "execute_result"
    }
   ],
   "execution_count": 4
  },
  {
   "cell_type": "markdown",
   "metadata": {
    "pycharm": {
     "name": "#%% md\n"
    }
   },
   "source": [
    "Utvrditi dimenzije data frame-a (broj redova i kolona)"
   ]
  },
  {
   "cell_type": "code",
   "metadata": {
    "pycharm": {
     "name": "#%%\n"
    },
    "ExecuteTime": {
     "end_time": "2025-07-09T13:01:46.638626Z",
     "start_time": "2025-07-09T13:01:46.635108Z"
    }
   },
   "source": "jan_sales.shape",
   "outputs": [
    {
     "data": {
      "text/plain": [
       "(9723, 6)"
      ]
     },
     "execution_count": 5,
     "metadata": {},
     "output_type": "execute_result"
    }
   ],
   "execution_count": 5
  },
  {
   "cell_type": "markdown",
   "metadata": {
    "pycharm": {
     "name": "#%% md\n"
    }
   },
   "source": [
    "Ispisati listu naziva kolona data frame-a"
   ]
  },
  {
   "cell_type": "code",
   "metadata": {
    "pycharm": {
     "name": "#%%\n"
    },
    "ExecuteTime": {
     "end_time": "2025-07-09T13:01:47.012532Z",
     "start_time": "2025-07-09T13:01:47.008678Z"
    }
   },
   "source": "jan_sales.columns.tolist()",
   "outputs": [
    {
     "data": {
      "text/plain": [
       "['Order ID',\n",
       " 'Product',\n",
       " 'Quantity Ordered',\n",
       " 'Price Each',\n",
       " 'Order Date',\n",
       " 'Purchase Address']"
      ]
     },
     "execution_count": 6,
     "metadata": {},
     "output_type": "execute_result"
    }
   ],
   "execution_count": 6
  },
  {
   "cell_type": "markdown",
   "metadata": {
    "pycharm": {
     "name": "#%% md\n"
    }
   },
   "source": [
    "Utvrditi tip podatka svake kolone "
   ]
  },
  {
   "cell_type": "code",
   "metadata": {
    "pycharm": {
     "name": "#%%\n"
    },
    "ExecuteTime": {
     "end_time": "2025-07-09T13:01:47.121591Z",
     "start_time": "2025-07-09T13:01:47.118116Z"
    }
   },
   "source": "jan_sales.dtypes",
   "outputs": [
    {
     "data": {
      "text/plain": [
       "Order ID            object\n",
       "Product             object\n",
       "Quantity Ordered    object\n",
       "Price Each          object\n",
       "Order Date          object\n",
       "Purchase Address    object\n",
       "dtype: object"
      ]
     },
     "execution_count": 7,
     "metadata": {},
     "output_type": "execute_result"
    }
   ],
   "execution_count": 7
  },
  {
   "cell_type": "markdown",
   "metadata": {
    "pycharm": {
     "name": "#%% md\n"
    }
   },
   "source": [
    "Lep pregled tipova podataka u pandas-u, uključujući i njihovo mapiranje na python tipove podataka, može se naći, na primer, ovde: [https://pbpython.com/pandas_dtypes.html](https://pbpython.com/pandas_dtypes.html)."
   ]
  },
  {
   "cell_type": "markdown",
   "metadata": {
    "pycharm": {
     "name": "#%% md\n"
    }
   },
   "source": [
    "Kompletan skup informacija o data frame-u:"
   ]
  },
  {
   "cell_type": "code",
   "metadata": {
    "pycharm": {
     "name": "#%%\n"
    },
    "ExecuteTime": {
     "end_time": "2025-07-09T13:01:47.241128Z",
     "start_time": "2025-07-09T13:01:47.234606Z"
    }
   },
   "source": "jan_sales.info()",
   "outputs": [
    {
     "name": "stdout",
     "output_type": "stream",
     "text": [
      "<class 'pandas.core.frame.DataFrame'>\n",
      "RangeIndex: 9723 entries, 0 to 9722\n",
      "Data columns (total 6 columns):\n",
      " #   Column            Non-Null Count  Dtype \n",
      "---  ------            --------------  ----- \n",
      " 0   Order ID          9697 non-null   object\n",
      " 1   Product           9697 non-null   object\n",
      " 2   Quantity Ordered  9697 non-null   object\n",
      " 3   Price Each        9697 non-null   object\n",
      " 4   Order Date        9697 non-null   object\n",
      " 5   Purchase Address  9697 non-null   object\n",
      "dtypes: object(6)\n",
      "memory usage: 455.9+ KB\n"
     ]
    }
   ],
   "execution_count": 8
  },
  {
   "cell_type": "markdown",
   "metadata": {
    "pycharm": {
     "name": "#%% md\n"
    }
   },
   "source": [
    "### Provera nedostajućih vrednosti\n",
    "\n",
    "Prisustvo nedostajućih vrednosti u data frame-u može se ispitati primenom `isna()` metode:"
   ]
  },
  {
   "cell_type": "code",
   "metadata": {
    "pycharm": {
     "name": "#%%\n"
    },
    "ExecuteTime": {
     "end_time": "2025-07-09T13:01:47.338817Z",
     "start_time": "2025-07-09T13:01:47.334474Z"
    }
   },
   "source": "jan_sales.isna().sum()",
   "outputs": [
    {
     "data": {
      "text/plain": [
       "Order ID            26\n",
       "Product             26\n",
       "Quantity Ordered    26\n",
       "Price Each          26\n",
       "Order Date          26\n",
       "Purchase Address    26\n",
       "dtype: int64"
      ]
     },
     "execution_count": 9,
     "metadata": {},
     "output_type": "execute_result"
    }
   ],
   "execution_count": 9
  },
  {
   "cell_type": "markdown",
   "metadata": {
    "pycharm": {
     "name": "#%% md\n"
    }
   },
   "source": [
    "#### Uklanjanje redova sa svim nedostajućim vrednostima"
   ]
  },
  {
   "cell_type": "code",
   "metadata": {
    "pycharm": {
     "name": "#%%\n"
    },
    "ExecuteTime": {
     "end_time": "2025-07-09T13:01:47.432699Z",
     "start_time": "2025-07-09T13:01:47.427007Z"
    }
   },
   "source": "jan_sales.dropna(how=\"all\", inplace=True)",
   "outputs": [],
   "execution_count": 10
  },
  {
   "cell_type": "code",
   "metadata": {
    "pycharm": {
     "name": "#%%\n"
    },
    "ExecuteTime": {
     "end_time": "2025-07-09T13:01:47.521646Z",
     "start_time": "2025-07-09T13:01:47.517413Z"
    }
   },
   "source": "jan_sales.isna().sum()",
   "outputs": [
    {
     "data": {
      "text/plain": [
       "Order ID            0\n",
       "Product             0\n",
       "Quantity Ordered    0\n",
       "Price Each          0\n",
       "Order Date          0\n",
       "Purchase Address    0\n",
       "dtype: int64"
      ]
     },
     "execution_count": 11,
     "metadata": {},
     "output_type": "execute_result"
    }
   ],
   "execution_count": 11
  },
  {
   "cell_type": "markdown",
   "metadata": {
    "pycharm": {
     "name": "#%% md\n"
    }
   },
   "source": [
    "### Selekcija pojedinačnih kolona i redova i kreiranje podskupa podataka\n",
    "\n",
    "Selekcija kolona i redova, odnosno kreiranje podskupa podataka, se može uraditi na različite načine, ali je preporučena praksa da se koriste `loc` ili `iloc` metode pandas Dataframe-a i to na sledeći način:\n",
    "\n",
    "- Kada se selekcija redova i kolona vrši izbor na osnovu njihovog rednog broja, trebalo bi koristiti `iloc`\n",
    "\n",
    "- Kada se izbor zasniva na uslovu koje redovi treba da zadovolje i/ili kolone treba izabrati na osnovu njihovih naziva, treba koristiti `loc` "
   ]
  },
  {
   "cell_type": "markdown",
   "metadata": {
    "pycharm": {
     "name": "#%% md\n"
    }
   },
   "source": [
    "**Primer 1**: selektovati prve 3 kolone i prvih 6 redova"
   ]
  },
  {
   "cell_type": "code",
   "metadata": {
    "pycharm": {
     "name": "#%%\n"
    },
    "ExecuteTime": {
     "end_time": "2025-07-09T13:01:47.612111Z",
     "start_time": "2025-07-09T13:01:47.607097Z"
    }
   },
   "source": "jan_sales.iloc[:6, :3]",
   "outputs": [
    {
     "data": {
      "text/plain": [
       "  Order ID                   Product Quantity Ordered\n",
       "0   141234                    iPhone                1\n",
       "1   141235  Lightning Charging Cable                1\n",
       "2   141236          Wired Headphones                2\n",
       "3   141237          27in FHD Monitor                1\n",
       "4   141238          Wired Headphones                1\n",
       "5   141239    AAA Batteries (4-pack)                1"
      ],
      "text/html": [
       "<div>\n",
       "<style scoped>\n",
       "    .dataframe tbody tr th:only-of-type {\n",
       "        vertical-align: middle;\n",
       "    }\n",
       "\n",
       "    .dataframe tbody tr th {\n",
       "        vertical-align: top;\n",
       "    }\n",
       "\n",
       "    .dataframe thead th {\n",
       "        text-align: right;\n",
       "    }\n",
       "</style>\n",
       "<table border=\"1\" class=\"dataframe\">\n",
       "  <thead>\n",
       "    <tr style=\"text-align: right;\">\n",
       "      <th></th>\n",
       "      <th>Order ID</th>\n",
       "      <th>Product</th>\n",
       "      <th>Quantity Ordered</th>\n",
       "    </tr>\n",
       "  </thead>\n",
       "  <tbody>\n",
       "    <tr>\n",
       "      <th>0</th>\n",
       "      <td>141234</td>\n",
       "      <td>iPhone</td>\n",
       "      <td>1</td>\n",
       "    </tr>\n",
       "    <tr>\n",
       "      <th>1</th>\n",
       "      <td>141235</td>\n",
       "      <td>Lightning Charging Cable</td>\n",
       "      <td>1</td>\n",
       "    </tr>\n",
       "    <tr>\n",
       "      <th>2</th>\n",
       "      <td>141236</td>\n",
       "      <td>Wired Headphones</td>\n",
       "      <td>2</td>\n",
       "    </tr>\n",
       "    <tr>\n",
       "      <th>3</th>\n",
       "      <td>141237</td>\n",
       "      <td>27in FHD Monitor</td>\n",
       "      <td>1</td>\n",
       "    </tr>\n",
       "    <tr>\n",
       "      <th>4</th>\n",
       "      <td>141238</td>\n",
       "      <td>Wired Headphones</td>\n",
       "      <td>1</td>\n",
       "    </tr>\n",
       "    <tr>\n",
       "      <th>5</th>\n",
       "      <td>141239</td>\n",
       "      <td>AAA Batteries (4-pack)</td>\n",
       "      <td>1</td>\n",
       "    </tr>\n",
       "  </tbody>\n",
       "</table>\n",
       "</div>"
      ]
     },
     "execution_count": 12,
     "metadata": {},
     "output_type": "execute_result"
    }
   ],
   "execution_count": 12
  },
  {
   "cell_type": "markdown",
   "metadata": {
    "pycharm": {
     "name": "#%% md\n"
    }
   },
   "source": [
    "**Primer 2**: selektovati poslednjih 5 redova i 1., 2., i 5. kolonu"
   ]
  },
  {
   "cell_type": "code",
   "metadata": {
    "pycharm": {
     "name": "#%%\n"
    },
    "ExecuteTime": {
     "end_time": "2025-07-09T13:01:47.818993Z",
     "start_time": "2025-07-09T13:01:47.806648Z"
    }
   },
   "source": "jan_sales.iloc[-5:, [0,1,4]]",
   "outputs": [
    {
     "data": {
      "text/plain": [
       "     Order ID                 Product      Order Date\n",
       "9718   150497            20in Monitor  01/26/19 19:09\n",
       "9719   150498        27in FHD Monitor  01/10/19 22:58\n",
       "9720   150499         ThinkPad Laptop  01/21/19 14:31\n",
       "9721   150500  AAA Batteries (4-pack)  01/15/19 14:21\n",
       "9722   150501            Google Phone  01/13/19 16:43"
      ],
      "text/html": [
       "<div>\n",
       "<style scoped>\n",
       "    .dataframe tbody tr th:only-of-type {\n",
       "        vertical-align: middle;\n",
       "    }\n",
       "\n",
       "    .dataframe tbody tr th {\n",
       "        vertical-align: top;\n",
       "    }\n",
       "\n",
       "    .dataframe thead th {\n",
       "        text-align: right;\n",
       "    }\n",
       "</style>\n",
       "<table border=\"1\" class=\"dataframe\">\n",
       "  <thead>\n",
       "    <tr style=\"text-align: right;\">\n",
       "      <th></th>\n",
       "      <th>Order ID</th>\n",
       "      <th>Product</th>\n",
       "      <th>Order Date</th>\n",
       "    </tr>\n",
       "  </thead>\n",
       "  <tbody>\n",
       "    <tr>\n",
       "      <th>9718</th>\n",
       "      <td>150497</td>\n",
       "      <td>20in Monitor</td>\n",
       "      <td>01/26/19 19:09</td>\n",
       "    </tr>\n",
       "    <tr>\n",
       "      <th>9719</th>\n",
       "      <td>150498</td>\n",
       "      <td>27in FHD Monitor</td>\n",
       "      <td>01/10/19 22:58</td>\n",
       "    </tr>\n",
       "    <tr>\n",
       "      <th>9720</th>\n",
       "      <td>150499</td>\n",
       "      <td>ThinkPad Laptop</td>\n",
       "      <td>01/21/19 14:31</td>\n",
       "    </tr>\n",
       "    <tr>\n",
       "      <th>9721</th>\n",
       "      <td>150500</td>\n",
       "      <td>AAA Batteries (4-pack)</td>\n",
       "      <td>01/15/19 14:21</td>\n",
       "    </tr>\n",
       "    <tr>\n",
       "      <th>9722</th>\n",
       "      <td>150501</td>\n",
       "      <td>Google Phone</td>\n",
       "      <td>01/13/19 16:43</td>\n",
       "    </tr>\n",
       "  </tbody>\n",
       "</table>\n",
       "</div>"
      ]
     },
     "execution_count": 13,
     "metadata": {},
     "output_type": "execute_result"
    }
   ],
   "execution_count": 13
  },
  {
   "cell_type": "markdown",
   "metadata": {
    "pycharm": {
     "name": "#%% md\n"
    }
   },
   "source": [
    "**Primer 3**: Selektovati kolone `Order ID`, `Order Date`, i `Purchase Address` za porudžbine iz Bostona\n",
    "\n",
    "Tip: string vrednostima kolone možemo pristupiti preko `str` polja, tako da onda možemo pozvati bilo koju string metodu nad vrednostima kolone"
   ]
  },
  {
   "cell_type": "code",
   "metadata": {
    "pycharm": {
     "name": "#%%\n"
    },
    "ExecuteTime": {
     "end_time": "2025-07-09T13:01:47.960813Z",
     "start_time": "2025-07-09T13:01:47.952524Z"
    }
   },
   "source": "jan_sales.loc[jan_sales['Purchase Address'].str.contains('Boston'), ['Order ID', 'Order Date', 'Purchase Address']]",
   "outputs": [
    {
     "data": {
      "text/plain": [
       "     Order ID      Order Date                  Purchase Address\n",
       "0      141234  01/22/19 21:25   944 Walnut St, Boston, MA 02215\n",
       "17     141251  01/24/19 08:13   414 Walnut St, Boston, MA 02215\n",
       "29     141263  01/11/19 23:33   640 Spruce St, Boston, MA 02215\n",
       "31     141265  01/01/19 16:52    853 Ridge St, Boston, MA 02215\n",
       "37     141271  01/30/19 10:51      90 13th St, Boston, MA 02215\n",
       "...       ...             ...                               ...\n",
       "9627   150409  01/10/19 02:38   410 Forest St, Boston, MA 02215\n",
       "9660   150440  01/10/19 19:19   82 Johnson St, Boston, MA 02215\n",
       "9666   150445  01/11/19 13:56  147 Lincoln St, Boston, MA 02215\n",
       "9694   150473  01/10/19 09:09  148 Hickory St, Boston, MA 02215\n",
       "9722   150501  01/13/19 16:43    428 Cedar St, Boston, MA 02215\n",
       "\n",
       "[1048 rows x 3 columns]"
      ],
      "text/html": [
       "<div>\n",
       "<style scoped>\n",
       "    .dataframe tbody tr th:only-of-type {\n",
       "        vertical-align: middle;\n",
       "    }\n",
       "\n",
       "    .dataframe tbody tr th {\n",
       "        vertical-align: top;\n",
       "    }\n",
       "\n",
       "    .dataframe thead th {\n",
       "        text-align: right;\n",
       "    }\n",
       "</style>\n",
       "<table border=\"1\" class=\"dataframe\">\n",
       "  <thead>\n",
       "    <tr style=\"text-align: right;\">\n",
       "      <th></th>\n",
       "      <th>Order ID</th>\n",
       "      <th>Order Date</th>\n",
       "      <th>Purchase Address</th>\n",
       "    </tr>\n",
       "  </thead>\n",
       "  <tbody>\n",
       "    <tr>\n",
       "      <th>0</th>\n",
       "      <td>141234</td>\n",
       "      <td>01/22/19 21:25</td>\n",
       "      <td>944 Walnut St, Boston, MA 02215</td>\n",
       "    </tr>\n",
       "    <tr>\n",
       "      <th>17</th>\n",
       "      <td>141251</td>\n",
       "      <td>01/24/19 08:13</td>\n",
       "      <td>414 Walnut St, Boston, MA 02215</td>\n",
       "    </tr>\n",
       "    <tr>\n",
       "      <th>29</th>\n",
       "      <td>141263</td>\n",
       "      <td>01/11/19 23:33</td>\n",
       "      <td>640 Spruce St, Boston, MA 02215</td>\n",
       "    </tr>\n",
       "    <tr>\n",
       "      <th>31</th>\n",
       "      <td>141265</td>\n",
       "      <td>01/01/19 16:52</td>\n",
       "      <td>853 Ridge St, Boston, MA 02215</td>\n",
       "    </tr>\n",
       "    <tr>\n",
       "      <th>37</th>\n",
       "      <td>141271</td>\n",
       "      <td>01/30/19 10:51</td>\n",
       "      <td>90 13th St, Boston, MA 02215</td>\n",
       "    </tr>\n",
       "    <tr>\n",
       "      <th>...</th>\n",
       "      <td>...</td>\n",
       "      <td>...</td>\n",
       "      <td>...</td>\n",
       "    </tr>\n",
       "    <tr>\n",
       "      <th>9627</th>\n",
       "      <td>150409</td>\n",
       "      <td>01/10/19 02:38</td>\n",
       "      <td>410 Forest St, Boston, MA 02215</td>\n",
       "    </tr>\n",
       "    <tr>\n",
       "      <th>9660</th>\n",
       "      <td>150440</td>\n",
       "      <td>01/10/19 19:19</td>\n",
       "      <td>82 Johnson St, Boston, MA 02215</td>\n",
       "    </tr>\n",
       "    <tr>\n",
       "      <th>9666</th>\n",
       "      <td>150445</td>\n",
       "      <td>01/11/19 13:56</td>\n",
       "      <td>147 Lincoln St, Boston, MA 02215</td>\n",
       "    </tr>\n",
       "    <tr>\n",
       "      <th>9694</th>\n",
       "      <td>150473</td>\n",
       "      <td>01/10/19 09:09</td>\n",
       "      <td>148 Hickory St, Boston, MA 02215</td>\n",
       "    </tr>\n",
       "    <tr>\n",
       "      <th>9722</th>\n",
       "      <td>150501</td>\n",
       "      <td>01/13/19 16:43</td>\n",
       "      <td>428 Cedar St, Boston, MA 02215</td>\n",
       "    </tr>\n",
       "  </tbody>\n",
       "</table>\n",
       "<p>1048 rows × 3 columns</p>\n",
       "</div>"
      ]
     },
     "execution_count": 14,
     "metadata": {},
     "output_type": "execute_result"
    }
   ],
   "execution_count": 14
  },
  {
   "cell_type": "markdown",
   "metadata": {
    "pycharm": {
     "name": "#%% md\n"
    }
   },
   "source": [
    "**Primer 4**: Selektovati kolone `Order ID`, `Product`, i `Price Each` za porudžbine kod kojih naručena količina nije manja od 3\n",
    "\n",
    "Napomena: Primetite da iako bi kolona `Quantity Ordered` trebalo da sadrži numeričke podatke, njene vrednosti su zapisane kao stringovi: "
   ]
  },
  {
   "cell_type": "code",
   "metadata": {
    "pycharm": {
     "name": "#%%\n"
    },
    "ExecuteTime": {
     "end_time": "2025-07-09T13:01:48.107196Z",
     "start_time": "2025-07-09T13:01:48.103969Z"
    }
   },
   "source": "jan_sales['Quantity Ordered'].tolist()[0]",
   "outputs": [
    {
     "data": {
      "text/plain": [
       "'1'"
      ]
     },
     "execution_count": 15,
     "metadata": {},
     "output_type": "execute_result"
    }
   ],
   "execution_count": 15
  },
  {
   "cell_type": "markdown",
   "metadata": {
    "pycharm": {
     "name": "#%% md\n"
    }
   },
   "source": [
    "Tako da je potrebno da prvo transformišemo `Quantity Ordered` kolonu u numerički tip:"
   ]
  },
  {
   "cell_type": "code",
   "metadata": {
    "pycharm": {
     "name": "#%%\n"
    },
    "ExecuteTime": {
     "end_time": "2025-07-09T13:01:48.236469Z",
     "start_time": "2025-07-09T13:01:48.231704Z"
    }
   },
   "source": "jan_sales[\"Quantity Ordered\"] = pd.to_numeric(jan_sales['Quantity Ordered'], errors=\"coerce\")",
   "outputs": [],
   "execution_count": 16
  },
  {
   "cell_type": "code",
   "source": "jan_sales['Quantity Ordered'].tolist()[0]",
   "metadata": {
    "collapsed": false,
    "ExecuteTime": {
     "end_time": "2025-07-09T13:01:48.329160Z",
     "start_time": "2025-07-09T13:01:48.326231Z"
    }
   },
   "outputs": [
    {
     "data": {
      "text/plain": [
       "1.0"
      ]
     },
     "execution_count": 17,
     "metadata": {},
     "output_type": "execute_result"
    }
   ],
   "execution_count": 17
  },
  {
   "cell_type": "markdown",
   "metadata": {
    "pycharm": {
     "name": "#%% md\n"
    }
   },
   "source": [
    "Sada se možemo vratiti selekciji redova i kolona:"
   ]
  },
  {
   "cell_type": "code",
   "metadata": {
    "pycharm": {
     "name": "#%%\n"
    },
    "ExecuteTime": {
     "end_time": "2025-07-09T13:01:48.385465Z",
     "start_time": "2025-07-09T13:01:48.378592Z"
    }
   },
   "source": "jan_sales.loc[jan_sales['Quantity Ordered'] >= 3, ['Order ID', 'Product', 'Price Each']]",
   "outputs": [
    {
     "data": {
      "text/plain": [
       "     Order ID                 Product Price Each\n",
       "12     141246  AAA Batteries (4-pack)       2.99\n",
       "52     141285  AAA Batteries (4-pack)       2.99\n",
       "58     141290   AA Batteries (4-pack)       3.84\n",
       "73     141305  AAA Batteries (4-pack)       2.99\n",
       "84     141316  AAA Batteries (4-pack)       2.99\n",
       "...       ...                     ...        ...\n",
       "9513   150299   AA Batteries (4-pack)       3.84\n",
       "9590   150372  AAA Batteries (4-pack)       2.99\n",
       "9636   150417        Wired Headphones      11.99\n",
       "9659   150439        Wired Headphones      11.99\n",
       "9700   150479   AA Batteries (4-pack)       3.84\n",
       "\n",
       "[216 rows x 3 columns]"
      ],
      "text/html": [
       "<div>\n",
       "<style scoped>\n",
       "    .dataframe tbody tr th:only-of-type {\n",
       "        vertical-align: middle;\n",
       "    }\n",
       "\n",
       "    .dataframe tbody tr th {\n",
       "        vertical-align: top;\n",
       "    }\n",
       "\n",
       "    .dataframe thead th {\n",
       "        text-align: right;\n",
       "    }\n",
       "</style>\n",
       "<table border=\"1\" class=\"dataframe\">\n",
       "  <thead>\n",
       "    <tr style=\"text-align: right;\">\n",
       "      <th></th>\n",
       "      <th>Order ID</th>\n",
       "      <th>Product</th>\n",
       "      <th>Price Each</th>\n",
       "    </tr>\n",
       "  </thead>\n",
       "  <tbody>\n",
       "    <tr>\n",
       "      <th>12</th>\n",
       "      <td>141246</td>\n",
       "      <td>AAA Batteries (4-pack)</td>\n",
       "      <td>2.99</td>\n",
       "    </tr>\n",
       "    <tr>\n",
       "      <th>52</th>\n",
       "      <td>141285</td>\n",
       "      <td>AAA Batteries (4-pack)</td>\n",
       "      <td>2.99</td>\n",
       "    </tr>\n",
       "    <tr>\n",
       "      <th>58</th>\n",
       "      <td>141290</td>\n",
       "      <td>AA Batteries (4-pack)</td>\n",
       "      <td>3.84</td>\n",
       "    </tr>\n",
       "    <tr>\n",
       "      <th>73</th>\n",
       "      <td>141305</td>\n",
       "      <td>AAA Batteries (4-pack)</td>\n",
       "      <td>2.99</td>\n",
       "    </tr>\n",
       "    <tr>\n",
       "      <th>84</th>\n",
       "      <td>141316</td>\n",
       "      <td>AAA Batteries (4-pack)</td>\n",
       "      <td>2.99</td>\n",
       "    </tr>\n",
       "    <tr>\n",
       "      <th>...</th>\n",
       "      <td>...</td>\n",
       "      <td>...</td>\n",
       "      <td>...</td>\n",
       "    </tr>\n",
       "    <tr>\n",
       "      <th>9513</th>\n",
       "      <td>150299</td>\n",
       "      <td>AA Batteries (4-pack)</td>\n",
       "      <td>3.84</td>\n",
       "    </tr>\n",
       "    <tr>\n",
       "      <th>9590</th>\n",
       "      <td>150372</td>\n",
       "      <td>AAA Batteries (4-pack)</td>\n",
       "      <td>2.99</td>\n",
       "    </tr>\n",
       "    <tr>\n",
       "      <th>9636</th>\n",
       "      <td>150417</td>\n",
       "      <td>Wired Headphones</td>\n",
       "      <td>11.99</td>\n",
       "    </tr>\n",
       "    <tr>\n",
       "      <th>9659</th>\n",
       "      <td>150439</td>\n",
       "      <td>Wired Headphones</td>\n",
       "      <td>11.99</td>\n",
       "    </tr>\n",
       "    <tr>\n",
       "      <th>9700</th>\n",
       "      <td>150479</td>\n",
       "      <td>AA Batteries (4-pack)</td>\n",
       "      <td>3.84</td>\n",
       "    </tr>\n",
       "  </tbody>\n",
       "</table>\n",
       "<p>216 rows × 3 columns</p>\n",
       "</div>"
      ]
     },
     "execution_count": 18,
     "metadata": {},
     "output_type": "execute_result"
    }
   ],
   "execution_count": 18
  },
  {
   "cell_type": "markdown",
   "metadata": {
    "pycharm": {
     "name": "#%% md\n"
    }
   },
   "source": [
    "## Učitavanje podataka o prodaji za sve mesece u 2019. god. i integracija mesečnih podataka o prodaji u jedan data frame\n",
    "\n",
    "Potrebno je da učitamo podatke o prodaji iz svih csv fajlova u 'sales_data' direktorijumu (po jedan fajl za svaki mesec 2019. god.)\n",
    "\n",
    "Prvo ćemo videti kako možemo da selektujemo samo .csv fajlove iz datog direktorijuma:"
   ]
  },
  {
   "cell_type": "code",
   "metadata": {
    "pycharm": {
     "name": "#%%\n"
    },
    "ExecuteTime": {
     "end_time": "2025-07-09T13:01:48.464469Z",
     "start_time": "2025-07-09T13:01:48.461719Z"
    }
   },
   "source": [
    "def get_csv_files(fpath: Path) -> list:\n",
    "    if not fpath.is_dir():\n",
    "        raise RuntimeError(\"The input argument is not a directory -> cannot proceed\")\n",
    "    csv_files = []\n",
    "    for item in fpath.iterdir():\n",
    "        if not item.is_dir() and item.suffix == '.csv':\n",
    "            csv_files.append(item)\n",
    "    return csv_files"
   ],
   "outputs": [],
   "execution_count": 19
  },
  {
   "cell_type": "code",
   "source": "get_csv_files(DATA_DIR)",
   "metadata": {
    "collapsed": false,
    "pycharm": {
     "name": "#%%\n"
    },
    "ExecuteTime": {
     "end_time": "2025-07-09T13:01:48.547621Z",
     "start_time": "2025-07-09T13:01:48.544049Z"
    }
   },
   "outputs": [
    {
     "data": {
      "text/plain": [
       "[PosixPath('/Users/jelena.jovanovic/DataspellProjects/2025v/pandas_labs/data/sales_data/Sales_December_2019.csv'),\n",
       " PosixPath('/Users/jelena.jovanovic/DataspellProjects/2025v/pandas_labs/data/sales_data/Sales_April_2019.csv'),\n",
       " PosixPath('/Users/jelena.jovanovic/DataspellProjects/2025v/pandas_labs/data/sales_data/Sales_February_2019.csv'),\n",
       " PosixPath('/Users/jelena.jovanovic/DataspellProjects/2025v/pandas_labs/data/sales_data/Sales_March_2019.csv'),\n",
       " PosixPath('/Users/jelena.jovanovic/DataspellProjects/2025v/pandas_labs/data/sales_data/Sales_August_2019.csv'),\n",
       " PosixPath('/Users/jelena.jovanovic/DataspellProjects/2025v/pandas_labs/data/sales_data/Sales_May_2019.csv'),\n",
       " PosixPath('/Users/jelena.jovanovic/DataspellProjects/2025v/pandas_labs/data/sales_data/Sales_November_2019.csv'),\n",
       " PosixPath('/Users/jelena.jovanovic/DataspellProjects/2025v/pandas_labs/data/sales_data/Sales_October_2019.csv'),\n",
       " PosixPath('/Users/jelena.jovanovic/DataspellProjects/2025v/pandas_labs/data/sales_data/Sales_January_2019.csv'),\n",
       " PosixPath('/Users/jelena.jovanovic/DataspellProjects/2025v/pandas_labs/data/sales_data/Sales_September_2019.csv'),\n",
       " PosixPath('/Users/jelena.jovanovic/DataspellProjects/2025v/pandas_labs/data/sales_data/Sales_July_2019.csv'),\n",
       " PosixPath('/Users/jelena.jovanovic/DataspellProjects/2025v/pandas_labs/data/sales_data/Sales_June_2019.csv')]"
      ]
     },
     "execution_count": 20,
     "metadata": {},
     "output_type": "execute_result"
    }
   ],
   "execution_count": 20
  },
  {
   "cell_type": "markdown",
   "metadata": {
    "pycharm": {
     "name": "#%% md\n"
    }
   },
   "source": [
    "Sada ćemo, u petlji, uzimati jedan po jedan csv fajl, učitati podatke iz njega i dodati učitane podatke u jedan data frame koji sadrži podatke o prodaji za celu godinu. Za spajanje dva data frame-a, koristimo funkciju `pd.concat`:"
   ]
  },
  {
   "cell_type": "code",
   "metadata": {
    "pycharm": {
     "name": "#%%\n"
    },
    "ExecuteTime": {
     "end_time": "2025-07-09T13:01:48.834838Z",
     "start_time": "2025-07-09T13:01:48.617569Z"
    }
   },
   "source": [
    "all_sales = pd.DataFrame()\n",
    "for csv_file in get_csv_files(DATA_DIR):\n",
    "    temp_df = pd.read_csv(csv_file)\n",
    "    all_sales = pd.concat([all_sales, temp_df])"
   ],
   "outputs": [],
   "execution_count": 21
  },
  {
   "cell_type": "code",
   "metadata": {
    "pycharm": {
     "name": "#%%\n"
    },
    "ExecuteTime": {
     "end_time": "2025-07-09T13:01:48.848659Z",
     "start_time": "2025-07-09T13:01:48.845648Z"
    }
   },
   "source": "all_sales.shape",
   "outputs": [
    {
     "data": {
      "text/plain": [
       "(186850, 6)"
      ]
     },
     "execution_count": 22,
     "metadata": {},
     "output_type": "execute_result"
    }
   ],
   "execution_count": 22
  },
  {
   "cell_type": "markdown",
   "metadata": {
    "pycharm": {
     "name": "#%% md\n"
    }
   },
   "source": [
    "### Pregled učitanih i integrisanih podataka o prodaji"
   ]
  },
  {
   "cell_type": "code",
   "metadata": {
    "pycharm": {
     "name": "#%%\n"
    },
    "ExecuteTime": {
     "end_time": "2025-07-09T13:01:48.886861Z",
     "start_time": "2025-07-09T13:01:48.861556Z"
    }
   },
   "source": "all_sales.info()",
   "outputs": [
    {
     "name": "stdout",
     "output_type": "stream",
     "text": [
      "<class 'pandas.core.frame.DataFrame'>\n",
      "Index: 186850 entries, 0 to 13621\n",
      "Data columns (total 6 columns):\n",
      " #   Column            Non-Null Count   Dtype \n",
      "---  ------            --------------   ----- \n",
      " 0   Order ID          186305 non-null  object\n",
      " 1   Product           186305 non-null  object\n",
      " 2   Quantity Ordered  186305 non-null  object\n",
      " 3   Price Each        186305 non-null  object\n",
      " 4   Order Date        186305 non-null  object\n",
      " 5   Purchase Address  186305 non-null  object\n",
      "dtypes: object(6)\n",
      "memory usage: 10.0+ MB\n"
     ]
    }
   ],
   "execution_count": 23
  },
  {
   "cell_type": "markdown",
   "metadata": {
    "pycharm": {
     "name": "#%% md\n"
    }
   },
   "source": [
    "Obratite pažnju na razliku između broja redova i vrednosti indeksa. Deluje kao da se učitane vrednosti indeksa ponavljaju. Da posle ne bismo imali problema, potrebno je da sredimo, odnosno resetujemo indeks:"
   ]
  },
  {
   "cell_type": "code",
   "metadata": {
    "pycharm": {
     "name": "#%%\n"
    },
    "ExecuteTime": {
     "end_time": "2025-07-09T13:01:48.906545Z",
     "start_time": "2025-07-09T13:01:48.904718Z"
    }
   },
   "source": "all_sales.reset_index(drop=True, inplace=True)",
   "outputs": [],
   "execution_count": 24
  },
  {
   "cell_type": "code",
   "metadata": {
    "pycharm": {
     "name": "#%%\n"
    },
    "ExecuteTime": {
     "end_time": "2025-07-09T13:01:48.920064Z",
     "start_time": "2025-07-09T13:01:48.917800Z"
    }
   },
   "source": "all_sales.index",
   "outputs": [
    {
     "data": {
      "text/plain": [
       "RangeIndex(start=0, stop=186850, step=1)"
      ]
     },
     "execution_count": 25,
     "metadata": {},
     "output_type": "execute_result"
    }
   ],
   "execution_count": 25
  },
  {
   "cell_type": "markdown",
   "metadata": {
    "pycharm": {
     "name": "#%% md\n"
    }
   },
   "source": [
    "Preimenovaćemo data frame, da smanjimo kucanje: "
   ]
  },
  {
   "cell_type": "code",
   "metadata": {
    "pycharm": {
     "name": "#%%\n"
    },
    "ExecuteTime": {
     "end_time": "2025-07-09T13:01:48.947444Z",
     "start_time": "2025-07-09T13:01:48.945596Z"
    }
   },
   "source": "sales = all_sales",
   "outputs": [],
   "execution_count": 26
  },
  {
   "cell_type": "markdown",
   "metadata": {
    "pycharm": {
     "name": "#%% md\n"
    }
   },
   "source": [
    "Primetite da smo samo dali novo ime (referencu) postojećem objektu, odnosno, nismo kreirali novi data frame objekat, već samo novu referencu na postojeći\n",
    "\n",
    "To možemo da potvrdimo:"
   ]
  },
  {
   "cell_type": "code",
   "metadata": {
    "pycharm": {
     "name": "#%%\n"
    },
    "ExecuteTime": {
     "end_time": "2025-07-09T13:01:48.969333Z",
     "start_time": "2025-07-09T13:01:48.966479Z"
    }
   },
   "source": "id(sales) == id(all_sales)",
   "outputs": [
    {
     "data": {
      "text/plain": [
       "True"
      ]
     },
     "execution_count": 27,
     "metadata": {},
     "output_type": "execute_result"
    }
   ],
   "execution_count": 27
  },
  {
   "cell_type": "code",
   "source": "sales is all_sales",
   "metadata": {
    "collapsed": false,
    "ExecuteTime": {
     "end_time": "2025-07-09T13:01:49.005426Z",
     "start_time": "2025-07-09T13:01:49.002759Z"
    }
   },
   "outputs": [
    {
     "data": {
      "text/plain": [
       "True"
      ]
     },
     "execution_count": 28,
     "metadata": {},
     "output_type": "execute_result"
    }
   ],
   "execution_count": 28
  },
  {
   "cell_type": "markdown",
   "metadata": {
    "pycharm": {
     "name": "#%% md\n"
    }
   },
   "source": [
    "Ako bismo hteli da kreiramo novi pd.DataFrame objekat, identičan postojećem, bilo bi potrebno da uradimo sledeće:"
   ]
  },
  {
   "cell_type": "code",
   "metadata": {
    "pycharm": {
     "name": "#%%\n"
    },
    "ExecuteTime": {
     "end_time": "2025-07-09T13:01:49.038704Z",
     "start_time": "2025-07-09T13:01:49.030074Z"
    }
   },
   "source": "tmp = all_sales.copy()",
   "outputs": [],
   "execution_count": 29
  },
  {
   "cell_type": "code",
   "metadata": {
    "pycharm": {
     "name": "#%%\n"
    },
    "ExecuteTime": {
     "end_time": "2025-07-09T13:01:49.061457Z",
     "start_time": "2025-07-09T13:01:49.058601Z"
    }
   },
   "source": "tmp is all_sales",
   "outputs": [
    {
     "data": {
      "text/plain": [
       "False"
      ]
     },
     "execution_count": 30,
     "metadata": {},
     "output_type": "execute_result"
    }
   ],
   "execution_count": 30
  },
  {
   "cell_type": "code",
   "source": "del tmp",
   "metadata": {
    "collapsed": false,
    "ExecuteTime": {
     "end_time": "2025-07-09T13:01:49.090348Z",
     "start_time": "2025-07-09T13:01:49.085846Z"
    }
   },
   "outputs": [],
   "execution_count": 31
  },
  {
   "cell_type": "markdown",
   "source": [
    "## Sređivanje podataka (data wrangling) "
   ],
   "metadata": {
    "collapsed": false
   }
  },
  {
   "cell_type": "code",
   "metadata": {
    "pycharm": {
     "name": "#%%\n"
    },
    "ExecuteTime": {
     "end_time": "2025-07-09T13:01:49.137918Z",
     "start_time": "2025-07-09T13:01:49.115080Z"
    }
   },
   "source": "sales.info()",
   "outputs": [
    {
     "name": "stdout",
     "output_type": "stream",
     "text": [
      "<class 'pandas.core.frame.DataFrame'>\n",
      "RangeIndex: 186850 entries, 0 to 186849\n",
      "Data columns (total 6 columns):\n",
      " #   Column            Non-Null Count   Dtype \n",
      "---  ------            --------------   ----- \n",
      " 0   Order ID          186305 non-null  object\n",
      " 1   Product           186305 non-null  object\n",
      " 2   Quantity Ordered  186305 non-null  object\n",
      " 3   Price Each        186305 non-null  object\n",
      " 4   Order Date        186305 non-null  object\n",
      " 5   Purchase Address  186305 non-null  object\n",
      "dtypes: object(6)\n",
      "memory usage: 8.6+ MB\n"
     ]
    }
   ],
   "execution_count": 32
  },
  {
   "cell_type": "markdown",
   "metadata": {
    "pycharm": {
     "name": "#%% md\n"
    }
   },
   "source": [
    "Veliki broj kolona je tipa object, uključujući i one za koje to ne bismo očekivali - konkretno, kolone `Quantity Ordered`, `Price Each` i `Order Date`. To moramo promeniti, ali prvo ćemo se pozabaviti nedostajućim vrednostima."
   ]
  },
  {
   "cell_type": "markdown",
   "source": [
    "### Uklanjanje observacija sa nedostajućim vrednostima\n",
    "\n",
    "Izlaz f. `info()` sugeriše da nedostaju kompletni redovi podataka, odnosno da imamo observacije sa svim nedostajućim vrednostima. Uzećemo uzorak da to proverimo:"
   ],
   "metadata": {
    "collapsed": false
   }
  },
  {
   "cell_type": "code",
   "metadata": {
    "pycharm": {
     "name": "#%%\n"
    },
    "ExecuteTime": {
     "end_time": "2025-07-09T13:01:49.157149Z",
     "start_time": "2025-07-09T13:01:49.149161Z"
    }
   },
   "source": "sales.loc[sales['Order ID'].isna(), ].sample(10)",
   "outputs": [
    {
     "data": {
      "text/plain": [
       "       Order ID Product Quantity Ordered Price Each Order Date  \\\n",
       "159456      NaN     NaN              NaN        NaN        NaN   \n",
       "151379      NaN     NaN              NaN        NaN        NaN   \n",
       "147745      NaN     NaN              NaN        NaN        NaN   \n",
       "110591      NaN     NaN              NaN        NaN        NaN   \n",
       "20172       NaN     NaN              NaN        NaN        NaN   \n",
       "92501       NaN     NaN              NaN        NaN        NaN   \n",
       "165846      NaN     NaN              NaN        NaN        NaN   \n",
       "88176       NaN     NaN              NaN        NaN        NaN   \n",
       "103850      NaN     NaN              NaN        NaN        NaN   \n",
       "43575       NaN     NaN              NaN        NaN        NaN   \n",
       "\n",
       "       Purchase Address  \n",
       "159456              NaN  \n",
       "151379              NaN  \n",
       "147745              NaN  \n",
       "110591              NaN  \n",
       "20172               NaN  \n",
       "92501               NaN  \n",
       "165846              NaN  \n",
       "88176               NaN  \n",
       "103850              NaN  \n",
       "43575               NaN  "
      ],
      "text/html": [
       "<div>\n",
       "<style scoped>\n",
       "    .dataframe tbody tr th:only-of-type {\n",
       "        vertical-align: middle;\n",
       "    }\n",
       "\n",
       "    .dataframe tbody tr th {\n",
       "        vertical-align: top;\n",
       "    }\n",
       "\n",
       "    .dataframe thead th {\n",
       "        text-align: right;\n",
       "    }\n",
       "</style>\n",
       "<table border=\"1\" class=\"dataframe\">\n",
       "  <thead>\n",
       "    <tr style=\"text-align: right;\">\n",
       "      <th></th>\n",
       "      <th>Order ID</th>\n",
       "      <th>Product</th>\n",
       "      <th>Quantity Ordered</th>\n",
       "      <th>Price Each</th>\n",
       "      <th>Order Date</th>\n",
       "      <th>Purchase Address</th>\n",
       "    </tr>\n",
       "  </thead>\n",
       "  <tbody>\n",
       "    <tr>\n",
       "      <th>159456</th>\n",
       "      <td>NaN</td>\n",
       "      <td>NaN</td>\n",
       "      <td>NaN</td>\n",
       "      <td>NaN</td>\n",
       "      <td>NaN</td>\n",
       "      <td>NaN</td>\n",
       "    </tr>\n",
       "    <tr>\n",
       "      <th>151379</th>\n",
       "      <td>NaN</td>\n",
       "      <td>NaN</td>\n",
       "      <td>NaN</td>\n",
       "      <td>NaN</td>\n",
       "      <td>NaN</td>\n",
       "      <td>NaN</td>\n",
       "    </tr>\n",
       "    <tr>\n",
       "      <th>147745</th>\n",
       "      <td>NaN</td>\n",
       "      <td>NaN</td>\n",
       "      <td>NaN</td>\n",
       "      <td>NaN</td>\n",
       "      <td>NaN</td>\n",
       "      <td>NaN</td>\n",
       "    </tr>\n",
       "    <tr>\n",
       "      <th>110591</th>\n",
       "      <td>NaN</td>\n",
       "      <td>NaN</td>\n",
       "      <td>NaN</td>\n",
       "      <td>NaN</td>\n",
       "      <td>NaN</td>\n",
       "      <td>NaN</td>\n",
       "    </tr>\n",
       "    <tr>\n",
       "      <th>20172</th>\n",
       "      <td>NaN</td>\n",
       "      <td>NaN</td>\n",
       "      <td>NaN</td>\n",
       "      <td>NaN</td>\n",
       "      <td>NaN</td>\n",
       "      <td>NaN</td>\n",
       "    </tr>\n",
       "    <tr>\n",
       "      <th>92501</th>\n",
       "      <td>NaN</td>\n",
       "      <td>NaN</td>\n",
       "      <td>NaN</td>\n",
       "      <td>NaN</td>\n",
       "      <td>NaN</td>\n",
       "      <td>NaN</td>\n",
       "    </tr>\n",
       "    <tr>\n",
       "      <th>165846</th>\n",
       "      <td>NaN</td>\n",
       "      <td>NaN</td>\n",
       "      <td>NaN</td>\n",
       "      <td>NaN</td>\n",
       "      <td>NaN</td>\n",
       "      <td>NaN</td>\n",
       "    </tr>\n",
       "    <tr>\n",
       "      <th>88176</th>\n",
       "      <td>NaN</td>\n",
       "      <td>NaN</td>\n",
       "      <td>NaN</td>\n",
       "      <td>NaN</td>\n",
       "      <td>NaN</td>\n",
       "      <td>NaN</td>\n",
       "    </tr>\n",
       "    <tr>\n",
       "      <th>103850</th>\n",
       "      <td>NaN</td>\n",
       "      <td>NaN</td>\n",
       "      <td>NaN</td>\n",
       "      <td>NaN</td>\n",
       "      <td>NaN</td>\n",
       "      <td>NaN</td>\n",
       "    </tr>\n",
       "    <tr>\n",
       "      <th>43575</th>\n",
       "      <td>NaN</td>\n",
       "      <td>NaN</td>\n",
       "      <td>NaN</td>\n",
       "      <td>NaN</td>\n",
       "      <td>NaN</td>\n",
       "      <td>NaN</td>\n",
       "    </tr>\n",
       "  </tbody>\n",
       "</table>\n",
       "</div>"
      ]
     },
     "execution_count": 33,
     "metadata": {},
     "output_type": "execute_result"
    }
   ],
   "execution_count": 33
  },
  {
   "cell_type": "markdown",
   "metadata": {
    "pycharm": {
     "name": "#%% md\n"
    }
   },
   "source": [
    "Uklonićemo observacije (redove) sa svim nedostajućim vrednostima"
   ]
  },
  {
   "cell_type": "code",
   "metadata": {
    "pycharm": {
     "name": "#%%\n"
    },
    "ExecuteTime": {
     "end_time": "2025-07-09T13:01:49.227828Z",
     "start_time": "2025-07-09T13:01:49.199249Z"
    }
   },
   "source": "sales.dropna(how=\"all\", inplace=True)",
   "outputs": [],
   "execution_count": 34
  },
  {
   "cell_type": "code",
   "metadata": {
    "pycharm": {
     "name": "#%%\n"
    },
    "ExecuteTime": {
     "end_time": "2025-07-09T13:01:49.300067Z",
     "start_time": "2025-07-09T13:01:49.279049Z"
    }
   },
   "source": "sales.isna().sum()",
   "outputs": [
    {
     "data": {
      "text/plain": [
       "Order ID            0\n",
       "Product             0\n",
       "Quantity Ordered    0\n",
       "Price Each          0\n",
       "Order Date          0\n",
       "Purchase Address    0\n",
       "dtype: int64"
      ]
     },
     "execution_count": 35,
     "metadata": {},
     "output_type": "execute_result"
    }
   ],
   "execution_count": 35
  },
  {
   "cell_type": "markdown",
   "metadata": {
    "pycharm": {
     "name": "#%% md\n"
    }
   },
   "source": [
    "### Transformacija varijabli *Quantity Ordered* i *Price Each* u numeričke, a *Order Date* u datetime\n",
    "\n",
    "Korisne smernice za ove oblike transformacije varijabli mogu se naći u odgovorima na [ovo pitanje na StackOverflow-u](https://stackoverflow.com/questions/15891038/change-column-type-in-pandas)"
   ]
  },
  {
   "cell_type": "markdown",
   "metadata": {
    "pycharm": {
     "name": "#%% md\n"
    }
   },
   "source": [
    "Prvo ćemo pokušati da transformišemo `Quantity Ordered` u numeričku kolonu"
   ]
  },
  {
   "cell_type": "code",
   "metadata": {
    "pycharm": {
     "name": "#%%\n"
    },
    "ExecuteTime": {
     "end_time": "2025-07-09T13:01:49.366646Z",
     "start_time": "2025-07-09T13:01:49.363908Z"
    }
   },
   "source": [
    "try:\n",
    "    sales['Quantity_Ordered'] = pd.to_numeric(sales['Quantity Ordered'])\n",
    "except ValueError as err:\n",
    "    print(err)"
   ],
   "outputs": [
    {
     "name": "stdout",
     "output_type": "stream",
     "text": [
      "Unable to parse string \"Quantity Ordered\" at position 254\n"
     ]
    }
   ],
   "execution_count": 36
  },
  {
   "cell_type": "markdown",
   "metadata": {
    "pycharm": {
     "name": "#%% md\n"
    }
   },
   "source": [
    "Pogledaćemo red (observaciju) gde je došlo do greške:"
   ]
  },
  {
   "cell_type": "code",
   "metadata": {
    "pycharm": {
     "name": "#%%\n"
    },
    "ExecuteTime": {
     "end_time": "2025-07-09T13:01:49.464387Z",
     "start_time": "2025-07-09T13:01:49.460601Z"
    }
   },
   "source": "sales.iloc[254, ]",
   "outputs": [
    {
     "data": {
      "text/plain": [
       "Order ID                    Order ID\n",
       "Product                      Product\n",
       "Quantity Ordered    Quantity Ordered\n",
       "Price Each                Price Each\n",
       "Order Date                Order Date\n",
       "Purchase Address    Purchase Address\n",
       "Name: 254, dtype: object"
      ]
     },
     "execution_count": 37,
     "metadata": {},
     "output_type": "execute_result"
    }
   ],
   "execution_count": 37
  },
  {
   "cell_type": "markdown",
   "metadata": {
    "pycharm": {
     "name": "#%% md\n"
    }
   },
   "source": [
    "Red koji je uslovio grešku očigleno sadrži pogrešno unete podatke koji nam nisu potrebni. Tako da ćemo izvršiti konverziju u numerički tip i, pri tome, vrednosti koje ne mogu da se transformišu u numeričke zameniti sa NaN (tj. označiti podatke kao nedostajuće)"
   ]
  },
  {
   "cell_type": "code",
   "metadata": {
    "pycharm": {
     "name": "#%%\n"
    },
    "ExecuteTime": {
     "end_time": "2025-07-09T13:01:49.592426Z",
     "start_time": "2025-07-09T13:01:49.555674Z"
    }
   },
   "source": "sales['Quantity_Ordered'] = pd.to_numeric(sales['Quantity Ordered'], errors=\"coerce\")",
   "outputs": [],
   "execution_count": 38
  },
  {
   "cell_type": "markdown",
   "metadata": {
    "pycharm": {
     "name": "#%% md\n"
    }
   },
   "source": [
    "Utvrdićemo broj i procenat uvedenih nedostajućih vrednosti u koloni `Quantity_Ordered`:"
   ]
  },
  {
   "cell_type": "code",
   "metadata": {
    "pycharm": {
     "name": "#%%\n"
    },
    "ExecuteTime": {
     "end_time": "2025-07-09T13:01:49.643136Z",
     "start_time": "2025-07-09T13:01:49.639872Z"
    }
   },
   "source": "sales.Quantity_Ordered.isna().sum()",
   "outputs": [
    {
     "data": {
      "text/plain": [
       "355"
      ]
     },
     "execution_count": 39,
     "metadata": {},
     "output_type": "execute_result"
    }
   ],
   "execution_count": 39
  },
  {
   "cell_type": "code",
   "metadata": {
    "pycharm": {
     "name": "#%%\n"
    },
    "ExecuteTime": {
     "end_time": "2025-07-09T13:01:49.709915Z",
     "start_time": "2025-07-09T13:01:49.705303Z"
    }
   },
   "source": [
    "# sales.Quantity_Ordered.isna().sum() / sales.shape[0]\n",
    "sales.Quantity_Ordered.isna().mean()"
   ],
   "outputs": [
    {
     "data": {
      "text/plain": [
       "0.0019054775770913288"
      ]
     },
     "execution_count": 40,
     "metadata": {},
     "output_type": "execute_result"
    }
   ],
   "execution_count": 40
  },
  {
   "cell_type": "markdown",
   "metadata": {
    "pycharm": {
     "name": "#%% md\n"
    }
   },
   "source": [
    "Na isti način ćemo transformisati `Price Each` kolonu:"
   ]
  },
  {
   "cell_type": "code",
   "source": "sales['Price_Each'] = pd.to_numeric(sales['Price Each'], errors='coerce')",
   "metadata": {
    "collapsed": false,
    "ExecuteTime": {
     "end_time": "2025-07-09T13:01:49.767562Z",
     "start_time": "2025-07-09T13:01:49.738407Z"
    }
   },
   "outputs": [],
   "execution_count": 41
  },
  {
   "cell_type": "code",
   "metadata": {
    "pycharm": {
     "name": "#%%\n"
    },
    "ExecuteTime": {
     "end_time": "2025-07-09T13:01:49.794115Z",
     "start_time": "2025-07-09T13:01:49.790455Z"
    }
   },
   "source": "sales.Price_Each.isna().sum()",
   "outputs": [
    {
     "data": {
      "text/plain": [
       "355"
      ]
     },
     "execution_count": 42,
     "metadata": {},
     "output_type": "execute_result"
    }
   ],
   "execution_count": 42
  },
  {
   "cell_type": "markdown",
   "metadata": {
    "pycharm": {
     "name": "#%% md\n"
    }
   },
   "source": [
    "Izbacićemo redove gde su naručena količina ili jedinična cena nepoznati (NaN)"
   ]
  },
  {
   "cell_type": "code",
   "metadata": {
    "pycharm": {
     "name": "#%%\n"
    },
    "ExecuteTime": {
     "end_time": "2025-07-09T13:01:49.838103Z",
     "start_time": "2025-07-09T13:01:49.824820Z"
    }
   },
   "source": "sales.dropna(how=\"any\", inplace=True, subset=['Price_Each', 'Quantity_Ordered'])",
   "outputs": [],
   "execution_count": 43
  },
  {
   "cell_type": "code",
   "metadata": {
    "pycharm": {
     "name": "#%%\n"
    },
    "ExecuteTime": {
     "end_time": "2025-07-09T13:01:49.872488Z",
     "start_time": "2025-07-09T13:01:49.850822Z"
    }
   },
   "source": "sales.isna().sum().sum()",
   "outputs": [
    {
     "data": {
      "text/plain": [
       "0"
      ]
     },
     "execution_count": 44,
     "metadata": {},
     "output_type": "execute_result"
    }
   ],
   "execution_count": 44
  },
  {
   "cell_type": "markdown",
   "metadata": {
    "pycharm": {
     "name": "#%% md\n"
    }
   },
   "source": [
    "Proverićemo veličinu data frame-a nakon uklanjanja redova sa svim nedostajućim vrednostima:"
   ]
  },
  {
   "cell_type": "code",
   "metadata": {
    "pycharm": {
     "name": "#%%\n"
    },
    "ExecuteTime": {
     "end_time": "2025-07-09T13:01:49.892693Z",
     "start_time": "2025-07-09T13:01:49.889094Z"
    }
   },
   "source": "sales.shape",
   "outputs": [
    {
     "data": {
      "text/plain": [
       "(185950, 8)"
      ]
     },
     "execution_count": 45,
     "metadata": {},
     "output_type": "execute_result"
    }
   ],
   "execution_count": 45
  },
  {
   "cell_type": "markdown",
   "metadata": {
    "pycharm": {
     "name": "#%% md\n"
    }
   },
   "source": [
    "Konačno, transformisaćemo `Order Date` u datetime tip"
   ]
  },
  {
   "cell_type": "code",
   "source": "sales['Order Date'].sample(10)",
   "metadata": {
    "collapsed": false,
    "ExecuteTime": {
     "end_time": "2025-07-09T13:01:49.950021Z",
     "start_time": "2025-07-09T13:01:49.942631Z"
    }
   },
   "outputs": [
    {
     "data": {
      "text/plain": [
       "56424     03/07/19 11:36\n",
       "138226    01/11/19 15:57\n",
       "172008    07/16/19 22:42\n",
       "8715      12/24/19 08:39\n",
       "42489     04/09/19 19:23\n",
       "115440    11/21/19 20:52\n",
       "81819     08/13/19 14:49\n",
       "100533    11/08/19 19:06\n",
       "154028    09/11/19 19:20\n",
       "33454     04/25/19 01:31\n",
       "Name: Order Date, dtype: object"
      ]
     },
     "execution_count": 46,
     "metadata": {},
     "output_type": "execute_result"
    }
   ],
   "execution_count": 46
  },
  {
   "cell_type": "code",
   "source": "sales['Order_Date'] = pd.to_datetime(sales['Order Date'], errors='coerce', format='%m/%d/%y %H:%M')",
   "metadata": {
    "collapsed": false,
    "ExecuteTime": {
     "end_time": "2025-07-09T13:01:50.207841Z",
     "start_time": "2025-07-09T13:01:49.999842Z"
    }
   },
   "outputs": [],
   "execution_count": 47
  },
  {
   "cell_type": "code",
   "source": "sales[['Order Date', 'Order_Date']].sample(10)",
   "metadata": {
    "collapsed": false,
    "ExecuteTime": {
     "end_time": "2025-07-09T13:01:50.240784Z",
     "start_time": "2025-07-09T13:01:50.232792Z"
    }
   },
   "outputs": [
    {
     "data": {
      "text/plain": [
       "            Order Date          Order_Date\n",
       "143237  01/02/19 14:01 2019-01-02 14:01:00\n",
       "10505   12/18/19 16:01 2019-12-18 16:01:00\n",
       "69195   03/23/19 12:14 2019-03-23 12:14:00\n",
       "76027   08/07/19 23:12 2019-08-07 23:12:00\n",
       "158233  09/04/19 15:18 2019-09-04 15:18:00\n",
       "154140  09/21/19 13:11 2019-09-21 13:11:00\n",
       "90056   05/10/19 17:06 2019-05-10 17:06:00\n",
       "103730  11/12/19 23:39 2019-11-12 23:39:00\n",
       "111178  11/18/19 08:01 2019-11-18 08:01:00\n",
       "137620  01/07/19 12:56 2019-01-07 12:56:00"
      ],
      "text/html": [
       "<div>\n",
       "<style scoped>\n",
       "    .dataframe tbody tr th:only-of-type {\n",
       "        vertical-align: middle;\n",
       "    }\n",
       "\n",
       "    .dataframe tbody tr th {\n",
       "        vertical-align: top;\n",
       "    }\n",
       "\n",
       "    .dataframe thead th {\n",
       "        text-align: right;\n",
       "    }\n",
       "</style>\n",
       "<table border=\"1\" class=\"dataframe\">\n",
       "  <thead>\n",
       "    <tr style=\"text-align: right;\">\n",
       "      <th></th>\n",
       "      <th>Order Date</th>\n",
       "      <th>Order_Date</th>\n",
       "    </tr>\n",
       "  </thead>\n",
       "  <tbody>\n",
       "    <tr>\n",
       "      <th>143237</th>\n",
       "      <td>01/02/19 14:01</td>\n",
       "      <td>2019-01-02 14:01:00</td>\n",
       "    </tr>\n",
       "    <tr>\n",
       "      <th>10505</th>\n",
       "      <td>12/18/19 16:01</td>\n",
       "      <td>2019-12-18 16:01:00</td>\n",
       "    </tr>\n",
       "    <tr>\n",
       "      <th>69195</th>\n",
       "      <td>03/23/19 12:14</td>\n",
       "      <td>2019-03-23 12:14:00</td>\n",
       "    </tr>\n",
       "    <tr>\n",
       "      <th>76027</th>\n",
       "      <td>08/07/19 23:12</td>\n",
       "      <td>2019-08-07 23:12:00</td>\n",
       "    </tr>\n",
       "    <tr>\n",
       "      <th>158233</th>\n",
       "      <td>09/04/19 15:18</td>\n",
       "      <td>2019-09-04 15:18:00</td>\n",
       "    </tr>\n",
       "    <tr>\n",
       "      <th>154140</th>\n",
       "      <td>09/21/19 13:11</td>\n",
       "      <td>2019-09-21 13:11:00</td>\n",
       "    </tr>\n",
       "    <tr>\n",
       "      <th>90056</th>\n",
       "      <td>05/10/19 17:06</td>\n",
       "      <td>2019-05-10 17:06:00</td>\n",
       "    </tr>\n",
       "    <tr>\n",
       "      <th>103730</th>\n",
       "      <td>11/12/19 23:39</td>\n",
       "      <td>2019-11-12 23:39:00</td>\n",
       "    </tr>\n",
       "    <tr>\n",
       "      <th>111178</th>\n",
       "      <td>11/18/19 08:01</td>\n",
       "      <td>2019-11-18 08:01:00</td>\n",
       "    </tr>\n",
       "    <tr>\n",
       "      <th>137620</th>\n",
       "      <td>01/07/19 12:56</td>\n",
       "      <td>2019-01-07 12:56:00</td>\n",
       "    </tr>\n",
       "  </tbody>\n",
       "</table>\n",
       "</div>"
      ]
     },
     "execution_count": 48,
     "metadata": {},
     "output_type": "execute_result"
    }
   ],
   "execution_count": 48
  },
  {
   "cell_type": "markdown",
   "metadata": {
    "pycharm": {
     "name": "#%% md\n"
    }
   },
   "source": [
    "Nakon ovih transformacija, proverićemo kako sad izgledaju tipovi podataka u data frame-u:"
   ]
  },
  {
   "cell_type": "code",
   "metadata": {
    "pycharm": {
     "name": "#%%\n"
    },
    "ExecuteTime": {
     "end_time": "2025-07-09T13:01:50.335500Z",
     "start_time": "2025-07-09T13:01:50.312699Z"
    }
   },
   "source": "sales.info()",
   "outputs": [
    {
     "name": "stdout",
     "output_type": "stream",
     "text": [
      "<class 'pandas.core.frame.DataFrame'>\n",
      "Index: 185950 entries, 0 to 186849\n",
      "Data columns (total 9 columns):\n",
      " #   Column            Non-Null Count   Dtype         \n",
      "---  ------            --------------   -----         \n",
      " 0   Order ID          185950 non-null  object        \n",
      " 1   Product           185950 non-null  object        \n",
      " 2   Quantity Ordered  185950 non-null  object        \n",
      " 3   Price Each        185950 non-null  object        \n",
      " 4   Order Date        185950 non-null  object        \n",
      " 5   Purchase Address  185950 non-null  object        \n",
      " 6   Quantity_Ordered  185950 non-null  float64       \n",
      " 7   Price_Each        185950 non-null  float64       \n",
      " 8   Order_Date        185950 non-null  datetime64[ns]\n",
      "dtypes: datetime64[ns](1), float64(2), object(6)\n",
      "memory usage: 14.2+ MB\n"
     ]
    }
   ],
   "execution_count": 49
  },
  {
   "cell_type": "markdown",
   "source": [
    "Uklonićemo kolone koje više nisu potrebne:"
   ],
   "metadata": {
    "collapsed": false
   }
  },
  {
   "cell_type": "code",
   "source": "sales.drop(columns=['Quantity Ordered', 'Price Each', 'Order Date'], inplace=True)",
   "metadata": {
    "collapsed": false,
    "ExecuteTime": {
     "end_time": "2025-07-09T13:01:50.419675Z",
     "start_time": "2025-07-09T13:01:50.409425Z"
    }
   },
   "outputs": [],
   "execution_count": 50
  },
  {
   "cell_type": "code",
   "source": "sales.columns.tolist()",
   "metadata": {
    "collapsed": false,
    "ExecuteTime": {
     "end_time": "2025-07-09T13:01:50.483198Z",
     "start_time": "2025-07-09T13:01:50.480599Z"
    }
   },
   "outputs": [
    {
     "data": {
      "text/plain": [
       "['Order ID',\n",
       " 'Product',\n",
       " 'Purchase Address',\n",
       " 'Quantity_Ordered',\n",
       " 'Price_Each',\n",
       " 'Order_Date']"
      ]
     },
     "execution_count": 51,
     "metadata": {},
     "output_type": "execute_result"
    }
   ],
   "execution_count": 51
  },
  {
   "cell_type": "markdown",
   "metadata": {
    "pycharm": {
     "name": "#%% md\n"
    }
   },
   "source": [
    "### Dodavanje *Purchase_City* kolone\n",
    "\n",
    "Sad ćemo videti kako možemo da napravimo novu kolonu od postojeće.\n",
    "\n",
    "Pošto će nam kasnije biti potrebno da uporedimo prodaju po gradovima, dodaćemo kolonu sa nazivom grada u kome je porudžbina napravljena. Nakon imena grada treba da stoji oznaka države, data u zagradi (npr. „Atlanta (GA)“), da bi se omogućilo razlikovanje gradova sa istim nazivima.   "
   ]
  },
  {
   "cell_type": "markdown",
   "metadata": {
    "pycharm": {
     "name": "#%% md\n"
    }
   },
   "source": [
    "Uzećemo uzorak vrednosti kolone `Purchase Address` kako bismo se upoznali sa formatom u kome su adrese zapisane:"
   ]
  },
  {
   "cell_type": "code",
   "metadata": {
    "pycharm": {
     "name": "#%%\n"
    },
    "ExecuteTime": {
     "end_time": "2025-07-09T13:01:50.542925Z",
     "start_time": "2025-07-09T13:01:50.536756Z"
    }
   },
   "source": "sales['Purchase Address'].sample(10)",
   "outputs": [
    {
     "data": {
      "text/plain": [
       "179923        238 Jackson St, Portland, ME 04101\n",
       "7514        416 Pine St, New York City, NY 10001\n",
       "29824            546 Main St, Portland, OR 97035\n",
       "100442    390 Wilson St, San Francisco, CA 94016\n",
       "143113        75 Lakeview St, Portland, OR 97035\n",
       "177645           184 13th St, Portland, OR 97035\n",
       "58859       918 Forest St, Los Angeles, CA 90001\n",
       "166008        999 14th St, Los Angeles, CA 90001\n",
       "145268     675 River St, San Francisco, CA 94016\n",
       "74595       280 Spruce St, Los Angeles, CA 90001\n",
       "Name: Purchase Address, dtype: object"
      ]
     },
     "execution_count": 52,
     "metadata": {},
     "output_type": "execute_result"
    }
   ],
   "execution_count": 52
  },
  {
   "cell_type": "markdown",
   "metadata": {
    "pycharm": {
     "name": "#%% md\n"
    }
   },
   "source": [
    "Prvo ćemo kreirati funkciju koja izdvaja grad (i oznaku države) iz kolone `Purchase Address`: "
   ]
  },
  {
   "cell_type": "code",
   "metadata": {
    "pycharm": {
     "name": "#%%\n"
    },
    "ExecuteTime": {
     "end_time": "2025-07-09T13:01:50.605459Z",
     "start_time": "2025-07-09T13:01:50.603112Z"
    }
   },
   "source": [
    "def get_city_state(address: str) -> str:\n",
    "    _, city, state_zip = address.split(',')\n",
    "    state, _ = state_zip.split()\n",
    "    return f\"{city.strip()} ({state})\""
   ],
   "outputs": [],
   "execution_count": 53
  },
  {
   "cell_type": "code",
   "source": "get_city_state(sales['Purchase Address'][0])",
   "metadata": {
    "collapsed": false,
    "ExecuteTime": {
     "end_time": "2025-07-09T13:01:50.666662Z",
     "start_time": "2025-07-09T13:01:50.662506Z"
    }
   },
   "outputs": [
    {
     "data": {
      "text/plain": [
       "'New York City (NY)'"
      ]
     },
     "execution_count": 54,
     "metadata": {},
     "output_type": "execute_result"
    }
   ],
   "execution_count": 54
  },
  {
   "cell_type": "markdown",
   "metadata": {
    "pycharm": {
     "name": "#%% md\n"
    }
   },
   "source": [
    "Zatim ćemo koristeći `apply` metodu, primeniti `get_city_and_state()` f. na svaku vrednost serije `Purchase Address`. Ali, prvo ćemo isprobati na uzorku adresa:"
   ]
  },
  {
   "cell_type": "code",
   "metadata": {
    "pycharm": {
     "name": "#%%\n"
    },
    "ExecuteTime": {
     "end_time": "2025-07-09T13:01:50.774020Z",
     "start_time": "2025-07-09T13:01:50.763293Z"
    }
   },
   "source": "sales['Purchase Address'].sample(10).apply(get_city_state)",
   "outputs": [
    {
     "data": {
      "text/plain": [
       "183400          Seattle (WA)\n",
       "3984           Portland (OR)\n",
       "53        New York City (NY)\n",
       "127824    New York City (NY)\n",
       "62566     New York City (NY)\n",
       "21566       Los Angeles (CA)\n",
       "124712         Portland (OR)\n",
       "151431           Dallas (TX)\n",
       "62211           Seattle (WA)\n",
       "141684          Atlanta (GA)\n",
       "Name: Purchase Address, dtype: object"
      ]
     },
     "execution_count": 55,
     "metadata": {},
     "output_type": "execute_result"
    }
   ],
   "execution_count": 55
  },
  {
   "cell_type": "markdown",
   "metadata": {
    "pycharm": {
     "name": "#%% md\n"
    }
   },
   "source": [
    "Sad možemo primenti funkciju na sve vrednosti kolone `Purchase Address`, kako bi kreirali novu kolonu - `Purchase_City`"
   ]
  },
  {
   "cell_type": "code",
   "metadata": {
    "pycharm": {
     "name": "#%%\n"
    },
    "ExecuteTime": {
     "end_time": "2025-07-09T13:01:50.892019Z",
     "start_time": "2025-07-09T13:01:50.821911Z"
    }
   },
   "source": "sales['Purchase_City'] = sales['Purchase Address'].apply(get_city_state)",
   "outputs": [],
   "execution_count": 56
  },
  {
   "cell_type": "code",
   "metadata": {
    "pycharm": {
     "name": "#%%\n"
    },
    "ExecuteTime": {
     "end_time": "2025-07-09T13:01:50.943745Z",
     "start_time": "2025-07-09T13:01:50.930942Z"
    }
   },
   "source": "sales[['Purchase Address', 'Purchase_City']].sample(20)",
   "outputs": [
    {
     "data": {
      "text/plain": [
       "                                 Purchase Address       Purchase_City\n",
       "147680         26 8th St, San Francisco, CA 94016  San Francisco (CA)\n",
       "167340  577 Jefferson St, San Francisco, CA 94016  San Francisco (CA)\n",
       "7963             978 Sunset St, Atlanta, GA 30301        Atlanta (GA)\n",
       "97875             542 Main St, Portland, OR 97035       Portland (OR)\n",
       "18798               570 4th St, Atlanta, GA 30301        Atlanta (GA)\n",
       "159262           97 Madison St, Seattle, WA 98101        Seattle (WA)\n",
       "152136   363 Lakeview St, San Francisco, CA 94016  San Francisco (CA)\n",
       "86932             11 Hickory St, Boston, MA 02215         Boston (MA)\n",
       "99796          208 West St, Los Angeles, CA 90001    Los Angeles (CA)\n",
       "116123          860 Elm St, Los Angeles, CA 90001    Los Angeles (CA)\n",
       "22795         96 Hill St, New York City, NY 10001  New York City (NY)\n",
       "127644     633 Wilson St, New York City, NY 10001  New York City (NY)\n",
       "132928            205 Wilson St, Dallas, TX 75001         Dallas (TX)\n",
       "8350         927 Pine St, San Francisco, CA 94016  San Francisco (CA)\n",
       "182686              504 Hill St, Austin, TX 73301         Austin (TX)\n",
       "7748              438 Meadow St, Dallas, TX 75001         Dallas (TX)\n",
       "125282              749 Hill St, Boston, MA 02215         Boston (MA)\n",
       "118486      304 River St, San Francisco, CA 94016  San Francisco (CA)\n",
       "18130             418 Adams St, Atlanta, GA 30301        Atlanta (GA)\n",
       "55456           111 Walnut St, Portland, OR 97035       Portland (OR)"
      ],
      "text/html": [
       "<div>\n",
       "<style scoped>\n",
       "    .dataframe tbody tr th:only-of-type {\n",
       "        vertical-align: middle;\n",
       "    }\n",
       "\n",
       "    .dataframe tbody tr th {\n",
       "        vertical-align: top;\n",
       "    }\n",
       "\n",
       "    .dataframe thead th {\n",
       "        text-align: right;\n",
       "    }\n",
       "</style>\n",
       "<table border=\"1\" class=\"dataframe\">\n",
       "  <thead>\n",
       "    <tr style=\"text-align: right;\">\n",
       "      <th></th>\n",
       "      <th>Purchase Address</th>\n",
       "      <th>Purchase_City</th>\n",
       "    </tr>\n",
       "  </thead>\n",
       "  <tbody>\n",
       "    <tr>\n",
       "      <th>147680</th>\n",
       "      <td>26 8th St, San Francisco, CA 94016</td>\n",
       "      <td>San Francisco (CA)</td>\n",
       "    </tr>\n",
       "    <tr>\n",
       "      <th>167340</th>\n",
       "      <td>577 Jefferson St, San Francisco, CA 94016</td>\n",
       "      <td>San Francisco (CA)</td>\n",
       "    </tr>\n",
       "    <tr>\n",
       "      <th>7963</th>\n",
       "      <td>978 Sunset St, Atlanta, GA 30301</td>\n",
       "      <td>Atlanta (GA)</td>\n",
       "    </tr>\n",
       "    <tr>\n",
       "      <th>97875</th>\n",
       "      <td>542 Main St, Portland, OR 97035</td>\n",
       "      <td>Portland (OR)</td>\n",
       "    </tr>\n",
       "    <tr>\n",
       "      <th>18798</th>\n",
       "      <td>570 4th St, Atlanta, GA 30301</td>\n",
       "      <td>Atlanta (GA)</td>\n",
       "    </tr>\n",
       "    <tr>\n",
       "      <th>159262</th>\n",
       "      <td>97 Madison St, Seattle, WA 98101</td>\n",
       "      <td>Seattle (WA)</td>\n",
       "    </tr>\n",
       "    <tr>\n",
       "      <th>152136</th>\n",
       "      <td>363 Lakeview St, San Francisco, CA 94016</td>\n",
       "      <td>San Francisco (CA)</td>\n",
       "    </tr>\n",
       "    <tr>\n",
       "      <th>86932</th>\n",
       "      <td>11 Hickory St, Boston, MA 02215</td>\n",
       "      <td>Boston (MA)</td>\n",
       "    </tr>\n",
       "    <tr>\n",
       "      <th>99796</th>\n",
       "      <td>208 West St, Los Angeles, CA 90001</td>\n",
       "      <td>Los Angeles (CA)</td>\n",
       "    </tr>\n",
       "    <tr>\n",
       "      <th>116123</th>\n",
       "      <td>860 Elm St, Los Angeles, CA 90001</td>\n",
       "      <td>Los Angeles (CA)</td>\n",
       "    </tr>\n",
       "    <tr>\n",
       "      <th>22795</th>\n",
       "      <td>96 Hill St, New York City, NY 10001</td>\n",
       "      <td>New York City (NY)</td>\n",
       "    </tr>\n",
       "    <tr>\n",
       "      <th>127644</th>\n",
       "      <td>633 Wilson St, New York City, NY 10001</td>\n",
       "      <td>New York City (NY)</td>\n",
       "    </tr>\n",
       "    <tr>\n",
       "      <th>132928</th>\n",
       "      <td>205 Wilson St, Dallas, TX 75001</td>\n",
       "      <td>Dallas (TX)</td>\n",
       "    </tr>\n",
       "    <tr>\n",
       "      <th>8350</th>\n",
       "      <td>927 Pine St, San Francisco, CA 94016</td>\n",
       "      <td>San Francisco (CA)</td>\n",
       "    </tr>\n",
       "    <tr>\n",
       "      <th>182686</th>\n",
       "      <td>504 Hill St, Austin, TX 73301</td>\n",
       "      <td>Austin (TX)</td>\n",
       "    </tr>\n",
       "    <tr>\n",
       "      <th>7748</th>\n",
       "      <td>438 Meadow St, Dallas, TX 75001</td>\n",
       "      <td>Dallas (TX)</td>\n",
       "    </tr>\n",
       "    <tr>\n",
       "      <th>125282</th>\n",
       "      <td>749 Hill St, Boston, MA 02215</td>\n",
       "      <td>Boston (MA)</td>\n",
       "    </tr>\n",
       "    <tr>\n",
       "      <th>118486</th>\n",
       "      <td>304 River St, San Francisco, CA 94016</td>\n",
       "      <td>San Francisco (CA)</td>\n",
       "    </tr>\n",
       "    <tr>\n",
       "      <th>18130</th>\n",
       "      <td>418 Adams St, Atlanta, GA 30301</td>\n",
       "      <td>Atlanta (GA)</td>\n",
       "    </tr>\n",
       "    <tr>\n",
       "      <th>55456</th>\n",
       "      <td>111 Walnut St, Portland, OR 97035</td>\n",
       "      <td>Portland (OR)</td>\n",
       "    </tr>\n",
       "  </tbody>\n",
       "</table>\n",
       "</div>"
      ]
     },
     "execution_count": 57,
     "metadata": {},
     "output_type": "execute_result"
    }
   ],
   "execution_count": 57
  },
  {
   "cell_type": "markdown",
   "source": [
    "Sačuvaćemo transformisani dataset u fajl:"
   ],
   "metadata": {
    "collapsed": false
   }
  },
  {
   "cell_type": "code",
   "source": [
    "processed_data_dir = DATA_DIR / 'processed_data'\n",
    "processed_data_dir.mkdir(parents=True, exist_ok=True)"
   ],
   "metadata": {
    "collapsed": false,
    "ExecuteTime": {
     "end_time": "2025-07-09T13:01:51.048314Z",
     "start_time": "2025-07-09T13:01:51.044770Z"
    }
   },
   "outputs": [],
   "execution_count": 58
  },
  {
   "metadata": {
    "ExecuteTime": {
     "end_time": "2025-07-09T13:01:51.532454Z",
     "start_time": "2025-07-09T13:01:51.108618Z"
    }
   },
   "cell_type": "code",
   "source": "sales.to_csv(processed_data_dir / 'sales_2019.csv', index=False)",
   "outputs": [],
   "execution_count": 59
  },
  {
   "cell_type": "markdown",
   "metadata": {
    "pycharm": {
     "name": "#%% md\n"
    }
   },
   "source": [
    "## Eksploratorna analiza podataka\n",
    "\n",
    "Sada ćemo pokušati da odgovorimo na neka pitanja vezana za ostvarenu prodaju u 2019. godini, kroz eksploratornu analizu `sales` dataseta"
   ]
  },
  {
   "metadata": {},
   "cell_type": "code",
   "source": "",
   "outputs": [],
   "execution_count": null
  },
  {
   "metadata": {},
   "cell_type": "code",
   "source": "",
   "outputs": [],
   "execution_count": null
  },
  {
   "metadata": {},
   "cell_type": "code",
   "source": "",
   "outputs": [],
   "execution_count": null
  },
  {
   "metadata": {},
   "cell_type": "code",
   "source": "",
   "outputs": [],
   "execution_count": null
  },
  {
   "cell_type": "markdown",
   "metadata": {
    "pycharm": {
     "name": "#%% md\n"
    }
   },
   "source": [
    "### Zadatak 1. Koji je bio najbolji mesec za prodaju? Kolika zarada je ostvarena tog meseca?\n",
    "\n",
    "Da bismo odgovorili na ovo pitanje, potrebno je da:\n",
    "- izračunamo ukupan prihod po porudžbini\n",
    "- izdvojimo mesec iz datuma porudžbine, tako da možemo grupisati porudžbine na mesečnoj osnovi\n",
    "- izračunamo ukupan prihod na mesečnom nivou"
   ]
  },
  {
   "cell_type": "markdown",
   "metadata": {
    "pycharm": {
     "name": "#%% md\n"
    }
   },
   "source": [
    "**Korak 1**: Izračunavanje ukupnog prihoda po porudžbini"
   ]
  },
  {
   "cell_type": "code",
   "metadata": {
    "pycharm": {
     "name": "#%%\n"
    }
   },
   "source": "",
   "outputs": [],
   "execution_count": null
  },
  {
   "metadata": {},
   "cell_type": "code",
   "source": "",
   "outputs": [],
   "execution_count": null
  },
  {
   "cell_type": "markdown",
   "metadata": {
    "pycharm": {
     "name": "#%% md\n"
    }
   },
   "source": [
    "**Korak 2**: Izdvajanje meseca iz datuma porudžbine (`Order_Date`)\n",
    "\n",
    "S obzirom da je `Order_Date` pandas serija tipa datetime, možemo koristiti `dt` da bismo dobili pristup svakoj vrednosti u seriji kao datetime objektu. \n",
    "\n",
    "Kad imamo pristup datumu porudžbine kao datetime objektu, možemo uzeti bilo koji element datuma (godina, mesec, dan, itd.) i vremena porudžbine kroz odgovarajuća polja objekta."
   ]
  },
  {
   "cell_type": "code",
   "metadata": {
    "pycharm": {
     "name": "#%%\n"
    }
   },
   "source": "",
   "outputs": [],
   "execution_count": null
  },
  {
   "cell_type": "code",
   "metadata": {
    "pycharm": {
     "name": "#%%\n"
    }
   },
   "source": "",
   "outputs": [],
   "execution_count": null
  },
  {
   "cell_type": "markdown",
   "metadata": {
    "pycharm": {
     "name": "#%% md\n"
    }
   },
   "source": [
    "**Korak 3**: Izračunavanje ukupnog prihoda za svaki mesec"
   ]
  },
  {
   "cell_type": "code",
   "metadata": {
    "pycharm": {
     "name": "#%%\n"
    }
   },
   "source": "",
   "outputs": [],
   "execution_count": null
  },
  {
   "cell_type": "markdown",
   "metadata": {
    "pycharm": {
     "name": "#%% md\n"
    }
   },
   "source": [
    "Sortiranje rezultata u opdajućem redosledu ukupnog mesečnog prihoda"
   ]
  },
  {
   "cell_type": "code",
   "metadata": {
    "pycharm": {
     "name": "#%%\n"
    }
   },
   "source": "",
   "outputs": [],
   "execution_count": null
  },
  {
   "cell_type": "markdown",
   "metadata": {
    "pycharm": {
     "name": "#%% md\n"
    }
   },
   "source": [
    "Možemo predstaviti i sagledati mesečne prihode na (bar) plotu, pošto vizuelno predstavljanje podataka često olakšava razumevanje trendova koji mogu biti prisutni u podacima.\n",
    "\n",
    "Za kreiranje plota, koristićemo Matplotlib bibliotetku, čiju dokumentaciju možete naći [ovde](https://matplotlib.org/3.5.3/api/_as_gen/matplotlib.pyplot.html), dok [ovaj primer](https://matplotlib.org/stable/gallery/lines_bars_and_markers/bar_colors.html#sphx-glr-gallery-lines-bars-and-markers-bar-colors-py) može poslužiti kao dobra polazna osnova za konkretni zadatak vizuelizacije koji imamo.\n",
    "\n",
    "Napomena: Na [ovom GitHub repozitorijumu](https://github.com/matplotlib/cheatsheets) možete naći dobro urađene cheat sheets i savete za korišćenje Mathplotlib bliblioteke."
   ]
  },
  {
   "cell_type": "code",
   "metadata": {
    "pycharm": {
     "name": "#%%\n"
    }
   },
   "source": "",
   "outputs": [],
   "execution_count": null
  },
  {
   "cell_type": "markdown",
   "metadata": {
    "pycharm": {
     "name": "#%% md\n"
    }
   },
   "source": [
    "### Zadatak 2. Iz kog grada je naručeno najviše proizvoda?\n",
    "\n",
    "Za potrebe ovog zadatka, grupisaćemo porudžbine prema gradu iz koga dolaze i sumirati broj porudžbina iz svakog grada:"
   ]
  },
  {
   "cell_type": "code",
   "metadata": {
    "pycharm": {
     "name": "#%%\n"
    }
   },
   "source": "",
   "outputs": [],
   "execution_count": null
  },
  {
   "metadata": {},
   "cell_type": "code",
   "source": "",
   "outputs": [],
   "execution_count": null
  },
  {
   "cell_type": "markdown",
   "metadata": {
    "pycharm": {
     "name": "#%% md\n"
    }
   },
   "source": "Zatim ćemo odrediti maksimalnu (ukupnu) naručenu količinu, kao i grad na koji se taj maksimum odnosi:"
  },
  {
   "cell_type": "code",
   "metadata": {
    "pycharm": {
     "name": "#%%\n"
    }
   },
   "source": "",
   "outputs": [],
   "execution_count": null
  },
  {
   "metadata": {},
   "cell_type": "code",
   "source": "",
   "outputs": [],
   "execution_count": null
  },
  {
   "cell_type": "markdown",
   "metadata": {
    "pycharm": {
     "name": "#%% md\n"
    }
   },
   "source": [
    "Na kraju, prikazaćemo rezultate vizuelno primenom bar plota.\n",
    "\n",
    "Napomena: za fina podešavanja prikaza plota, brojne korisne metode se mogu naći u [ovom delu](https://matplotlib.org/stable/api/axes_api.html) Matplotlib dokumentacije"
   ]
  },
  {
   "cell_type": "code",
   "metadata": {
    "pycharm": {
     "name": "#%%\n"
    }
   },
   "source": "",
   "outputs": [],
   "execution_count": null
  },
  {
   "cell_type": "markdown",
   "source": [
    "#### Zadatak Viz 1: Treemap plot\n",
    "\n",
    "Prikazati ukupne naručene količine na nivou pojedinačnih gradova i država primenom tzv. [*treeemap* plota](https://python-graph-gallery.com/treemap/) koji se može jednostavno kreirati primenom **[squarify](https://python-graph-gallery.com/590-advanced-treemap/)** biblioteke.\n",
    "Predstaviti istom bojom gradove koji pripadaju istoj državi (tj., polja treemap plota koja se odnose na gradove iz iste države bi trebalo da budu iste boje).\n",
    "\n",
    "Za rad sa paletama boja, koristićemo **[pypalettes](https://github.com/JosephBARBIERDARNAL/pypalettes)** biblioteku koja sadrži kolekciju od preko 2500 paleta boja i omogućuje jednostavno pretraživanje i korišćenje tih paleta. Sve potrebno za osnovno korišćenje ove biblioteke je lepo predstavljeno ovde: [https://python-graph-gallery.com/color-palette-finder/](https://python-graph-gallery.com/color-palette-finder/)"
   ],
   "metadata": {
    "collapsed": false
   }
  },
  {
   "cell_type": "code",
   "source": [],
   "metadata": {
    "collapsed": false
   },
   "outputs": [],
   "execution_count": null
  },
  {
   "cell_type": "code",
   "source": [],
   "metadata": {
    "collapsed": false
   },
   "outputs": [],
   "execution_count": null
  },
  {
   "cell_type": "code",
   "source": [],
   "metadata": {
    "collapsed": false
   },
   "outputs": [],
   "execution_count": null
  },
  {
   "cell_type": "code",
   "source": [],
   "metadata": {
    "collapsed": false
   },
   "outputs": [],
   "execution_count": null
  },
  {
   "cell_type": "markdown",
   "metadata": {
    "pycharm": {
     "name": "#%% md\n"
    }
   },
   "source": [
    "### Zadatak 3. Kada, tokom dana, klijenti imaju tendenciju da naprave najvrednije porudžbine?\n",
    "\n",
    "Da bismo odgovorili na ovo pitanje, potrebno je da izdvojimo sate iz `Order_Date` kolone i utvrdimo prosečnu ukupnu cenu porudžbine za svaki sat u toku dana"
   ]
  },
  {
   "metadata": {},
   "cell_type": "code",
   "source": "",
   "outputs": [],
   "execution_count": null
  },
  {
   "cell_type": "markdown",
   "metadata": {
    "pycharm": {
     "name": "#%% md\n"
    }
   },
   "source": [
    "**Korak 1**: Kreiranje 'Order_Hour' kolone"
   ]
  },
  {
   "cell_type": "code",
   "metadata": {
    "pycharm": {
     "name": "#%%\n"
    }
   },
   "source": "",
   "outputs": [],
   "execution_count": null
  },
  {
   "cell_type": "code",
   "metadata": {
    "pycharm": {
     "name": "#%%\n"
    }
   },
   "source": "",
   "outputs": [],
   "execution_count": null
  },
  {
   "cell_type": "markdown",
   "metadata": {
    "pycharm": {
     "name": "#%% md\n"
    }
   },
   "source": [
    "**Korak 2**: Grupisanje narudžbina na osnovu `Order_Hour` i izračuvanje prosečne vrednosti `Total_Price` varijable za svaku grupu"
   ]
  },
  {
   "metadata": {},
   "cell_type": "code",
   "source": "",
   "outputs": [],
   "execution_count": null
  },
  {
   "cell_type": "code",
   "metadata": {
    "pycharm": {
     "name": "#%%\n"
    }
   },
   "source": "",
   "outputs": [],
   "execution_count": null
  },
  {
   "cell_type": "markdown",
   "metadata": {
    "pycharm": {
     "name": "#%% md\n"
    }
   },
   "source": "Odredićemo najveću prosečnu vrednost prodaje i sat u toku dana na koji se ona odnosi:"
  },
  {
   "cell_type": "code",
   "metadata": {
    "pycharm": {
     "name": "#%%\n"
    }
   },
   "source": "",
   "outputs": [],
   "execution_count": null
  },
  {
   "cell_type": "markdown",
   "metadata": {
    "pycharm": {
     "name": "#%% md\n"
    }
   },
   "source": [
    "Prikaz rezultata u formi linijskog plota"
   ]
  },
  {
   "cell_type": "code",
   "metadata": {
    "pycharm": {
     "name": "#%%\n"
    }
   },
   "source": "",
   "outputs": [],
   "execution_count": null
  },
  {
   "cell_type": "markdown",
   "metadata": {
    "pycharm": {
     "name": "#%% md\n"
    }
   },
   "source": [
    "### Zadatak 4. Odrediti top 5 proizvoda po obimu prodaje, kao i top 5 po ostvarenom prihodu tokom 2019. god.\n",
    "\n",
    "Prvo ćemo utvrditi koliko različitih proizvoda postoji i koliko često su bili naručeni"
   ]
  },
  {
   "cell_type": "code",
   "metadata": {
    "pycharm": {
     "name": "#%%\n"
    }
   },
   "source": "",
   "outputs": [],
   "execution_count": null
  },
  {
   "metadata": {},
   "cell_type": "code",
   "source": "",
   "outputs": [],
   "execution_count": null
  },
  {
   "metadata": {},
   "cell_type": "code",
   "source": "",
   "outputs": [],
   "execution_count": null
  },
  {
   "cell_type": "markdown",
   "metadata": {
    "pycharm": {
     "name": "#%% md\n"
    }
   },
   "source": [
    "Gornja pandas serija nam daje broj porudžbina u kojima se pojavio proizvod, ali ne govori nam o količinama koje su naručene.\n",
    "\n",
    "Potrebno je da za svaki proizvod, uzmemo ukupnu naručenu količinu i ukupnu cenu za sve porudžbine koje se odnose na taj proizvod:"
   ]
  },
  {
   "cell_type": "code",
   "metadata": {
    "pycharm": {
     "name": "#%%\n"
    }
   },
   "source": "",
   "outputs": [],
   "execution_count": null
  },
  {
   "cell_type": "markdown",
   "metadata": {
    "pycharm": {
     "name": "#%% md\n"
    }
   },
   "source": [
    "Odredićemo top 5 proizvoda po ostvarenom obimu prodaje:"
   ]
  },
  {
   "cell_type": "code",
   "metadata": {
    "pycharm": {
     "name": "#%%\n"
    }
   },
   "source": "",
   "outputs": [],
   "execution_count": null
  },
  {
   "cell_type": "markdown",
   "metadata": {
    "pycharm": {
     "name": "#%% md\n"
    }
   },
   "source": [
    "Takođe, top 5 proizvoda po ostvarenom prihodu:"
   ]
  },
  {
   "cell_type": "code",
   "metadata": {
    "pycharm": {
     "name": "#%%\n"
    }
   },
   "source": "",
   "outputs": [],
   "execution_count": null
  },
  {
   "cell_type": "markdown",
   "metadata": {
    "pycharm": {
     "name": "#%% md\n"
    }
   },
   "source": [
    "Predstavićemo ove rezultate i vizuelno. Konkretno, napravićemo dve *horizontalna* bar plota, jedan pored drugog, pri čemu će prvi prikazivati ukupan prihod po proizvodu, a drugi prodatu količinu proizvoda. Sortiraćemo plotove na osnovu ukupnog prihoda, tako da proizvodi sa najvećim prihodom budu prikazani pri vrhu plota.\n",
    "\n",
    "Smernice za kreiranje horizontalnog bar plota možete naći, na primer, u [ovom primeru](https://matplotlib.org/stable/gallery/lines_bars_and_markers/barh.html) iz Mathplotlib dokumentacije."
   ]
  },
  {
   "cell_type": "code",
   "metadata": {
    "pycharm": {
     "name": "#%%\n"
    }
   },
   "source": "",
   "outputs": [],
   "execution_count": null
  },
  {
   "cell_type": "markdown",
   "source": [
    "#### Zadatak Viz_2: Linijski plot sa dve skale\n",
    "\n",
    "Izračunate vrednosti za ukupnu prodaju i ukupnu ostvarenu zaradu po proizvodu možemo predstaviti i na jednom plotu, koristeći različite skale za vrednosti predstavljene na y-osi. Na primer, skala na levoj strani plota da predstavlja ostvareni prihod po proizvodu, a skala na desnoj strani da prikazuje ukupan ostvaren obim prodaje po proizvodu.  \n",
    "\n",
    "[Ovaj primer](https://matplotlib.org/stable/gallery/subplots_axes_and_figures/two_scales.html#sphx-glr-gallery-subplots-axes-and-figures-two-scales-py) iz matplotlib dokumentacije pokazuje kako izgleda i kako se može kreirati linijski plot sa dve različite skale na y-osi. \n",
    "\n",
    "Po uzoru na dati primer, potrebno je kreirati plot za tekući zadatak, odnosno prikaz izračunatih vrednosti za ukupnu prodaju i ukupnu ostvarenu zaradu po proizvodu "
   ],
   "metadata": {
    "collapsed": false
   }
  },
  {
   "cell_type": "code",
   "source": [],
   "metadata": {
    "collapsed": false
   },
   "outputs": [],
   "execution_count": null
  },
  {
   "cell_type": "markdown",
   "metadata": {
    "pycharm": {
     "name": "#%% md\n"
    }
   },
   "source": [
    "### Zadatak 5. Pregled ostvarenog prihoda od prodaje po proizvodima i gradovima"
   ]
  },
  {
   "cell_type": "markdown",
   "metadata": {
    "pycharm": {
     "name": "#%% md\n"
    }
   },
   "source": [
    "Podatke možemo grupisati na osnovu više od jednog atributa (kolone). U ovom slučaju, izvršićemo grupisanje na osnovu proizvoda i grada iz koga je porudžbina stigla, i izračunati ukupan prihod za svaki proizvod u svakom gradu:"
   ]
  },
  {
   "cell_type": "code",
   "metadata": {
    "pycharm": {
     "name": "#%%\n"
    }
   },
   "source": "",
   "outputs": [],
   "execution_count": null
  },
  {
   "metadata": {},
   "cell_type": "code",
   "source": "",
   "outputs": [],
   "execution_count": null
  },
  {
   "metadata": {},
   "cell_type": "code",
   "source": "",
   "outputs": [],
   "execution_count": null
  },
  {
   "cell_type": "markdown",
   "metadata": {
    "pycharm": {
     "name": "#%% md\n"
    }
   },
   "source": [
    "Primetite da smo kao rezultat dobili pandas seriju sa dva indeksa - `Product` i `Purchase_City`:"
   ]
  },
  {
   "cell_type": "code",
   "metadata": {
    "pycharm": {
     "name": "#%%\n"
    }
   },
   "source": "",
   "outputs": [],
   "execution_count": null
  },
  {
   "cell_type": "code",
   "metadata": {
    "pycharm": {
     "name": "#%%\n"
    }
   },
   "source": "",
   "outputs": [],
   "execution_count": null
  },
  {
   "cell_type": "markdown",
   "metadata": {
    "pycharm": {
     "name": "#%% md\n"
    }
   },
   "source": [
    "Ovakvu seriju možemo transformisati u data frame uz pomoć `unstack()` metode:"
   ]
  },
  {
   "cell_type": "code",
   "metadata": {
    "pycharm": {
     "name": "#%%\n"
    }
   },
   "source": "",
   "outputs": [],
   "execution_count": null
  },
  {
   "cell_type": "code",
   "metadata": {
    "pycharm": {
     "name": "#%%\n"
    }
   },
   "source": "",
   "outputs": [],
   "execution_count": null
  },
  {
   "cell_type": "markdown",
   "metadata": {
    "pycharm": {
     "name": "#%% md\n"
    }
   },
   "source": [
    "S obzirom da je ovakav prikaz ostvarene prodaje vrlo nepregledan, predstavićemo ga vizuelno, koristeći `heatmap`. \n",
    "\n",
    "Korisne smernice za kreiranje heatmap-e date su, na primer, [ovde](https://python-charts.com/correlation/heatmap-matplotlib/).\n",
    "\n",
    "Na [ovoj stranici](https://matplotlib.org/stable/users/explain/colors/colormaps.html) Matplotlib dokumentacije možete naći pregled predefinisanih kolor mapa."
   ]
  },
  {
   "cell_type": "code",
   "metadata": {
    "pycharm": {
     "name": "#%%\n"
    }
   },
   "source": "",
   "outputs": [],
   "execution_count": null
  },
  {
   "cell_type": "markdown",
   "source": [
    "#### Zadatak Viz_3: Heatmap sa dodatim numeričkim vrednostima\n",
    "\n",
    "Unaprediti prethodni heatmap plot, time što ćete u svakoj ćeliji heatmap-e prikazati ukupan ostvareni prihod od prodaje za svaku kombinaciju grad - proizvod, izražen u milionima USA dolara  \n",
    "\n",
    "Dodatne smernice za kreiranje heatmap-e, uključujući neke složenije primere, date su na [ovoj stranici](https://matplotlib.org/stable/gallery/images_contours_and_fields/image_annotated_heatmap.html#sphx-glr-gallery-images-contours-and-fields-image-annotated-heatmap-py) matplotlib dokumentacije."
   ],
   "metadata": {
    "collapsed": false
   }
  },
  {
   "cell_type": "code",
   "source": [],
   "metadata": {
    "collapsed": false
   },
   "outputs": [],
   "execution_count": null
  },
  {
   "cell_type": "markdown",
   "source": [
    "#### Zadatak Viz_4: Prikazati uporedo mesečni obim narudžbina u 2109. godini za svaku državu ponaosob\n",
    "\n",
    "Prikaz bi trebalo da bude u obliku mreže (grid) bar plotova (po jedan za svaku državu), predstavljene u dva reda i četiri kolone.\n",
    "Bar plotovi bi trebalo da budu sortrani u rastućem redosledu obima prodaje, tako da prvi odgovara državi sa najmanjim ukupnim obimom prodaje, dok poslednji odgovara državi sa najvećim ukupnim obimom prodaje."
   ],
   "metadata": {
    "collapsed": false
   }
  },
  {
   "cell_type": "markdown",
   "source": [
    "Potrebno je prvo kreirati novu kolonu koja predstavlja državu iz koje je porudžbina stigla"
   ],
   "metadata": {
    "collapsed": false
   }
  },
  {
   "cell_type": "code",
   "source": [],
   "metadata": {
    "collapsed": false
   },
   "outputs": [],
   "execution_count": null
  },
  {
   "cell_type": "code",
   "source": [],
   "metadata": {
    "collapsed": false
   },
   "outputs": [],
   "execution_count": null
  },
  {
   "cell_type": "code",
   "source": [],
   "metadata": {
    "collapsed": false
   },
   "outputs": [],
   "execution_count": null
  },
  {
   "cell_type": "markdown",
   "source": [
    "Zatim je potrebno odrediti ukupan obim narudžbina za svaku državu u 2019. god., kako bi to iskoristili kasnije za sortiranje bar plotova u okviru mreže (grid): "
   ],
   "metadata": {
    "collapsed": false
   }
  },
  {
   "cell_type": "code",
   "source": [],
   "metadata": {
    "collapsed": false
   },
   "outputs": [],
   "execution_count": null
  },
  {
   "cell_type": "code",
   "source": [],
   "metadata": {
    "collapsed": false
   },
   "outputs": [],
   "execution_count": null
  },
  {
   "cell_type": "code",
   "source": [],
   "metadata": {
    "collapsed": false
   },
   "outputs": [],
   "execution_count": null
  },
  {
   "cell_type": "markdown",
   "source": [
    "Sledeći korak je da se za svaku državu ponaosob izračuna obim prodaje na mesečnom nivou:"
   ],
   "metadata": {
    "collapsed": false
   }
  },
  {
   "cell_type": "code",
   "source": [],
   "metadata": {
    "collapsed": false
   },
   "outputs": [],
   "execution_count": null
  },
  {
   "cell_type": "code",
   "source": [],
   "metadata": {
    "collapsed": false
   },
   "outputs": [],
   "execution_count": null
  },
  {
   "cell_type": "markdown",
   "source": [
    "Konačno, prikazati mesečne kupovine za svaku državu u formi mreže bar plotova:"
   ],
   "metadata": {
    "collapsed": false
   }
  },
  {
   "cell_type": "code",
   "source": [],
   "metadata": {
    "collapsed": false
   },
   "outputs": [],
   "execution_count": null
  },
  {
   "cell_type": "markdown",
   "metadata": {
    "pycharm": {
     "name": "#%% md\n"
    }
   },
   "source": [
    "### Zadaci za vežbu\n",
    "\n",
    "1. Uradite pregled ukupnog ostvarenog prihoda po proizvodima i državama.\n",
    "\n",
    "2. Kojih dana, tokom nedelje, je prosečna vrednost porudžbina bila najviša?\n"
   ]
  }
 ],
 "metadata": {
  "kernelspec": {
   "display_name": "Python 3 (ipykernel)",
   "language": "python",
   "name": "python3"
  },
  "language_info": {
   "codemirror_mode": {
    "name": "ipython",
    "version": 3
   },
   "file_extension": ".py",
   "mimetype": "text/x-python",
   "name": "python",
   "nbconvert_exporter": "python",
   "pygments_lexer": "ipython3",
   "version": "3.10.0"
  }
 },
 "nbformat": 4,
 "nbformat_minor": 4
}
